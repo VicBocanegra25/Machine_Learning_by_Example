{
 "cells": [
  {
   "cell_type": "markdown",
   "metadata": {},
   "source": [
    "# Neural Networks using Tensorflow\n",
    "* We'll build a two-layered Neural Network using TensorFlow and Keras' API.\n",
    "* We'll use it to predict House Prices (California dataset).\n",
    "*"
   ]
  },
  {
   "cell_type": "markdown",
   "metadata": {},
   "source": [
    "## Step 1: Loading the dataset and splitting into training and testing\n",
    "* Scaling is required since we're dealing with a form of Gradient descent"
   ]
  },
  {
   "cell_type": "code",
   "execution_count": 1,
   "metadata": {},
   "outputs": [
    {
     "ename": "ModuleNotFoundError",
     "evalue": "No module named 'sklearn'",
     "output_type": "error",
     "traceback": [
      "\u001b[1;31m---------------------------------------------------------------------------\u001b[0m",
      "\u001b[1;31mModuleNotFoundError\u001b[0m                       Traceback (most recent call last)",
      "Cell \u001b[1;32mIn [1], line 2\u001b[0m\n\u001b[0;32m      1\u001b[0m \u001b[38;5;28;01mimport\u001b[39;00m \u001b[38;5;21;01mnumpy\u001b[39;00m \u001b[38;5;28;01mas\u001b[39;00m \u001b[38;5;21;01mnp\u001b[39;00m\n\u001b[1;32m----> 2\u001b[0m \u001b[38;5;28;01mfrom\u001b[39;00m \u001b[38;5;21;01msklearn\u001b[39;00m \u001b[38;5;28;01mimport\u001b[39;00m preprocessing\n\u001b[0;32m      3\u001b[0m \u001b[38;5;28;01mfrom\u001b[39;00m \u001b[38;5;21;01msklearn\u001b[39;00m\u001b[38;5;21;01m.\u001b[39;00m\u001b[38;5;21;01mdatasets\u001b[39;00m \u001b[38;5;28;01mimport\u001b[39;00m fetch_california_housing\n\u001b[0;32m      5\u001b[0m california_housing \u001b[38;5;241m=\u001b[39m fetch_california_housing()\n",
      "\u001b[1;31mModuleNotFoundError\u001b[0m: No module named 'sklearn'"
     ]
    }
   ],
   "source": [
    "import numpy as np\n",
    "from sklearn import preprocessing\n",
    "from sklearn.datasets import fetch_california_housing\n",
    "\n",
    "california_housing = fetch_california_housing()\n",
    "\n",
    "# The last 10 samples will be the testing set\n",
    "num_test = 10\n",
    "\n",
    "scaler = preprocessing.StandardScaler()\n",
    "\n",
    "# Splitting into training and testing set and scaling\n",
    "X_train = california_housing.data[:-num_test, :]\n",
    "X_train = scaler.fit_transform(X_train)\n",
    "y_train = california_housing.target[:-num_test].reshape(-1, 1)\n",
    "\n",
    "X_test = california_housing.data[-num_test:, :]\n",
    "X_test = scaler.transform(X_test)\n",
    "y_test = california_housing.target[-num_test:]\n"
   ]
  },
  {
   "cell_type": "markdown",
   "metadata": {},
   "source": [
    "## Step 2: Building the model\n",
    "* We'll use the tf.keras.Sequential model: https://www.tensorflow.org/api_docs/python/tf/keras/Sequential\n",
    "* We'll increase the amount of Neurons in the Hidden Layers to 32 and 16\n",
    "respectively\n",
    "* We'll use ReLU as the activation function and the Adam Optimizer\n",
    "* The Loss function will be MSE"
   ]
  },
  {
   "cell_type": "code",
   "execution_count": null,
   "metadata": {},
   "outputs": [],
   "source": [
    "# Building the model using TensorFlow and Keras\n",
    "import tensorflow as tf\n",
    "\n",
    "\n",
    "learning_rate = 0.001\n",
    "epochs = 2000\n",
    "\n",
    "nn_tensorflow = tf.keras.Sequential([\n",
    "    # The hidden layers\n",
    "    tf.keras.layers.Dense(32, activation = 'relu', input_shape = [X_train\n",
    "                          .shape[1],]),\n",
    "    tf.keras.layers.Dense(16, activation = 'relu'),\n",
    "    # The output layer\n",
    "    tf.keras.layers.Dense(1)\n",
    "])\n",
    "\n",
    "# Compiling the model\n",
    "nn_tensorflow.compile(optimizer = tf.keras.optimizers.Adam(learning_rate =\n",
    "                                                           learning_rate),\n",
    "                      loss = tf.keras.losses.MeanSquaredError())\n",
    "\n",
    "# Fitting the model\n",
    "nn_tensorflow.fit(X_train, y_train, epochs = epochs, verbose = 1)"
   ]
  },
  {
   "cell_type": "code",
   "execution_count": null,
   "metadata": {},
   "outputs": [],
   "source": []
  }
 ],
 "metadata": {
  "kernelspec": {
   "display_name": "Python 3 (ipykernel)",
   "language": "python",
   "name": "python3"
  },
  "language_info": {
   "codemirror_mode": {
    "name": "ipython",
    "version": 3
   },
   "file_extension": ".py",
   "mimetype": "text/x-python",
   "name": "python",
   "nbconvert_exporter": "python",
   "pygments_lexer": "ipython3",
   "version": "3.10.1"
  }
 },
 "nbformat": 4,
 "nbformat_minor": 1
}
