{
 "cells": [
  {
   "cell_type": "markdown",
   "source": [
    "# Neural Networks from Scratch\n",
    "* We'll implement a simple Neural Network from scratch\n",
    "* We'll use it to predict House Prices (So we'll use this ANN for Linear\n",
    "Regression tasks)\n"
   ],
   "metadata": {
    "collapsed": false
   },
   "execution_count": 0
  },
  {
   "cell_type": "markdown",
   "source": [
    "## Step 1: Defining our Activation Function\n",
    "* We'll define the sigmoid function and it's derivative"
   ],
   "metadata": {
    "collapsed": false
   }
  },
  {
   "cell_type": "code",
   "execution_count": 31,
   "outputs": [
    {
     "name": "stdout",
     "output_type": "stream",
     "text": [
      "exp(-x)/(1 + exp(-x))**2\n"
     ]
    }
   ],
   "source": [
    "import numpy as np\n",
    "import sympy as smp\n",
    "\n",
    "# Defining the sigmoid function\n",
    "def sigmoid(z):\n",
    "    func = 1.0/ (1 + np.exp(-z))\n",
    "    return func\n",
    "\n",
    "# using sympy to find the sigmoid's function derivative\n",
    "x_sym = smp.symbols(\"x\")\n",
    "sig_func = 1/(1 + smp.exp(-x_sym))\n",
    "print(smp.diff(sig_func, x_sym))\n",
    "\n"
   ],
   "metadata": {
    "collapsed": false
   }
  },
  {
   "cell_type": "code",
   "execution_count": 32,
   "outputs": [],
   "source": [
    "# Now we define the derivative of the sigmoud function\n",
    "def sigmoid_derivative(z):\n",
    "    func = np.exp(-z)/(1 + np.exp(-z))**2\n",
    "    return func\n"
   ],
   "metadata": {
    "collapsed": false
   }
  },
  {
   "cell_type": "markdown",
   "source": [
    "## Step 2: Defining the Training function\n",
    "* The function takes the training dataset\n",
    "* It also takes the number of units in the hidden layer (We will only use one\n",
    " hiddel layer)\n",
    " * We specify a learning rate.\n",
    " * A final parameter is the number of iterations"
   ],
   "metadata": {
    "collapsed": false
   }
  },
  {
   "cell_type": "code",
   "execution_count": 33,
   "outputs": [],
   "source": [
    "def train(X, y, n_hidden, learning_rate, n_iter):\n",
    "    \"\"\"\n",
    "    This function trains a two-layer neural network with a single hidden layer.\n",
    "    It uses backpropagation and gradient descent to update the weights and biases for minimizing the loss.\n",
    "\n",
    "    Parameters:\n",
    "    X (np.array): Input data with shape (m, n_input), where m is the number of samples and n_input is the number of input features.\n",
    "    y (np.array): Target labels with shape (m, 1), where m is the number of samples.\n",
    "    n_hidden (int): The number of neurons in the hidden layer.\n",
    "    learning_rate (float): The learning rate used in the gradient descent optimization.\n",
    "    n_iter (int): The number of iterations to train the neural network.\n",
    "\n",
    "    Returns:\n",
    "    model (dict): A dictionary containing the trained weights and biases.\n",
    "    \"\"\"\n",
    "    # Get the number of samples (m) and input features (n_input)\n",
    "    m, n_input = X.shape\n",
    "\n",
    "    # Initialize weights and biases for the first layer\n",
    "    W1 = np.random.rand(n_input, n_hidden)\n",
    "    b1 = np.zeros((1, n_hidden))\n",
    "\n",
    "    # Initialize weights and biases for the second layer\n",
    "    W2 = np.random.rand(n_hidden, 1)\n",
    "    b2 = np.zeros((1, 1))\n",
    "\n",
    "    # Iterate n_iter times\n",
    "    for i in range(1, n_iter+1):\n",
    "        # Forward pass\n",
    "        Z2 = np.matmul(X, W1) + b1\n",
    "        A2 = sigmoid(Z2)\n",
    "        Z3 = np.matmul(A2, W2) + b2\n",
    "        # Since there's no activation function in the output layer\n",
    "        A3 = Z3\n",
    "\n",
    "        # Backpropagation\n",
    "        dZ3 = A3 - y\n",
    "        dW2 = np.matmul(A2.T, dZ3)\n",
    "        db2 = np.sum(dZ3, axis = 0, keepdims = True)\n",
    "        dZ2 = np.matmul(dZ3, W2.T) * sigmoid_derivative(Z2)\n",
    "        dW1 = np.matmul(X.T, dZ2)\n",
    "        db1 = np.sum(dZ2, axis = 0)\n",
    "\n",
    "        # Update weights and biases using gradient descent\n",
    "        W2 = W2 - learning_rate * dW2/m\n",
    "        b2 = b2 - learning_rate * db2/m\n",
    "        W1 = W1 - learning_rate * dW1/m\n",
    "        b1 = b1 - learning_rate * db1/m\n",
    "\n",
    "        # Print the training loss every 100 iterations\n",
    "        if i % 100 == 0:\n",
    "            cost = np.mean((y - A3)**2)\n",
    "            print(f\"Iteration {i}, training loss: {cost}\")\n",
    "\n",
    "    # Save the trained weights and biases in a dictionary\n",
    "    model = {\"W1\": W1, \"b1\": b1, \"W2\": W2, \"b2\": b2}\n",
    "    return model"
   ],
   "metadata": {
    "collapsed": false
   }
  },
  {
   "cell_type": "markdown",
   "source": [
    "## Step 3: Testing the model\n",
    "* We'll use the House Prices as the toy dataset.\n",
    "* Normalization is recommended whenever gradient descent is used so we'll\n",
    "standarize the input data by removing the mean and scaling to unit variance"
   ],
   "metadata": {
    "collapsed": false
   }
  },
  {
   "cell_type": "code",
   "execution_count": 34,
   "outputs": [],
   "source": [
    "from sklearn import preprocessing\n",
    "from sklearn.datasets import fetch_california_housing\n",
    "\n",
    "california_housing = fetch_california_housing()\n",
    "\n",
    "# The last 10 samples will be the testing set\n",
    "num_test = 10\n",
    "\n",
    "scaler = preprocessing.StandardScaler()\n",
    "# Splitting into training and testing set and scaling\n",
    "X_train = california_housing.data[:-num_test, :]\n",
    "X_train = scaler.fit_transform(X_train)\n",
    "y_train = california_housing.target[:-num_test].reshape(-1, 1)\n",
    "\n",
    "X_test = california_housing.data[-num_test:, :]\n",
    "X_test = scaler.transform(X_test)\n",
    "y_test = california_housing.target[-num_test:]\n"
   ],
   "metadata": {
    "collapsed": false
   }
  },
  {
   "cell_type": "code",
   "execution_count": 35,
   "outputs": [
    {
     "name": "stdout",
     "output_type": "stream",
     "text": [
      "Iteration 100, training loss: 0.8326770335213232\n",
      "Iteration 200, training loss: 0.646194606194786\n",
      "Iteration 300, training loss: 0.5626440106192254\n",
      "Iteration 400, training loss: 0.5291424707115796\n",
      "Iteration 500, training loss: 0.5097343722338752\n",
      "Iteration 600, training loss: 0.4964002847759407\n",
      "Iteration 700, training loss: 0.48665018372331453\n",
      "Iteration 800, training loss: 0.4791341937428031\n",
      "Iteration 900, training loss: 0.47300172105613597\n",
      "Iteration 1000, training loss: 0.4677111348127634\n",
      "Iteration 1100, training loss: 0.4631606165834582\n",
      "Iteration 1200, training loss: 0.45905652801296976\n",
      "Iteration 1300, training loss: 0.4552836753629237\n",
      "Iteration 1400, training loss: 0.4517853524453503\n",
      "Iteration 1500, training loss: 0.44851988338337645\n",
      "Iteration 1600, training loss: 0.4454506475076498\n",
      "Iteration 1700, training loss: 0.4426427628719209\n",
      "Iteration 1800, training loss: 0.4400978668881586\n",
      "Iteration 1900, training loss: 0.4377164753779619\n",
      "Iteration 2000, training loss: 0.43545601619042307\n"
     ]
    },
    {
     "data": {
      "text/plain": "{'W1': array([[ 0.91791209,  0.85794358,  0.22395132,  1.0130058 ,  0.58196243,\n          0.86382661,  0.62015628,  0.74815563, -0.17019277, -0.33100775,\n          0.31917293,  0.69703415,  0.75308637,  0.75611273,  0.35427996,\n          0.24820128,  0.20343396,  0.97959346,  0.52198129,  1.0790349 ],\n        [ 0.43551962,  0.66606975,  0.93271709,  0.75383835,  0.35386508,\n          0.55033438,  0.29156397,  0.40384243,  0.75255152,  0.42213532,\n          0.39141393,  0.00432279,  0.48327733,  0.90924014,  0.06188888,\n          0.92526881,  0.12138219,  0.45232066,  0.02118381,  0.96580349],\n        [ 0.17074358,  0.14802056,  0.4405542 ,  0.02599542,  0.87075739,\n          0.54582205,  0.18218422, -0.61904804,  0.22597102,  0.38236915,\n          0.35105798,  0.74008504, -0.01221016,  0.52323628,  0.81981755,\n          0.56129646,  0.2613668 ,  0.73867081, -0.02527429,  0.79246574],\n        [ 0.08888847,  1.15690733, -0.01870832,  0.11391841,  0.34375303,\n          1.12467681,  0.32477963,  0.35185203,  0.42205622,  0.41482109,\n          0.85233286,  1.14152607,  0.82960443,  0.91796917,  0.24752868,\n          0.30454824,  0.6261869 ,  0.68959104,  1.12216054,  0.60210254],\n        [ 0.27356552,  0.05184701,  0.82277086,  0.08007192,  0.02334848,\n          0.09189235,  0.63184813,  0.66457449,  0.69467079,  0.18289618,\n          0.69640805,  0.26124098,  0.8450346 ,  0.070435  ,  0.19305214,\n          0.26829924,  0.89772507,  0.7003705 ,  0.16711869,  0.68358258],\n        [ 0.30958947, -0.60924889,  0.76298094,  0.37812914,  0.06961423,\n          0.04797233,  0.22275208, -0.04127437,  0.46035373,  1.59786968,\n          0.61033806,  0.48623148,  0.5401352 ,  0.87220822,  1.26359142,\n          0.15501845,  0.28116202,  1.22470159, -0.27535381,  0.93108381],\n        [-0.04384686, -0.06631986,  0.93602994, -0.08050862,  0.87219784,\n          0.45682615,  0.7250089 , -0.92504965,  0.84972916,  0.8672363 ,\n         -0.01491852,  0.20744611,  0.8219865 ,  0.48219455,  1.03007847,\n          0.82332993,  0.95091791,  0.38545482,  0.29302049,  0.79690891],\n        [ 0.29109163,  0.20044736,  0.68034501, -0.22026183,  0.11973274,\n          0.59001013,  0.27571532, -0.59695627,  1.11344837,  1.00045377,\n          0.5260581 ,  0.01065858,  0.4509638 ,  0.27629954,  0.70780439,\n          0.20147804,  0.58671658,  0.66679138, -0.09051984,  0.01306326]]),\n 'b1': array([[-0.13173636, -0.63225766,  0.04452001, -0.81321261, -0.01593684,\n         -0.33018889, -0.05392132, -0.29773612, -0.26256407, -0.23569544,\n          0.0226767 , -0.17698186, -0.0957539 , -0.15013137,  0.2218788 ,\n         -0.02510783, -0.05553587,  0.14306714,  0.09110226, -0.11658278]]),\n 'W2': array([[ 0.19487544],\n        [ 1.34440351],\n        [-0.50828221],\n        [ 0.93636884],\n        [ 0.12281979],\n        [ 0.56421826],\n        [ 0.1817871 ],\n        [ 1.71231714],\n        [-0.70352735],\n        [-1.37982617],\n        [ 0.17690848],\n        [ 0.58336051],\n        [ 0.21656785],\n        [-0.02046755],\n        [-0.94793744],\n        [ 0.02259499],\n        [-0.18680275],\n        [-0.67264176],\n        [ 1.0584388 ],\n        [-0.11644079]]),\n 'b2': array([[1.21744823]])}"
     },
     "execution_count": 35,
     "metadata": {},
     "output_type": "execute_result"
    }
   ],
   "source": [
    "# Training a one-layer neural network with 20 hidden units, a 0.1 learning\n",
    "# rate and 2000 iterations\n",
    "n_hidden = 20\n",
    "learning_rate = 0.1\n",
    "n_iter = 2000\n",
    "\n",
    "model = train(X_train, y_train, n_hidden, learning_rate, n_iter)\n",
    "model"
   ],
   "metadata": {
    "collapsed": false
   }
  },
  {
   "cell_type": "markdown",
   "source": [
    "## Final step: Predicting and evaluating\n",
    "* First we'll define a prediction function\n",
    "* We'll then evaluate the model using the MSE, MAE and R2 metrics"
   ],
   "metadata": {
    "collapsed": false
   },
   "execution_count": 35
  },
  {
   "cell_type": "code",
   "execution_count": 36,
   "outputs": [],
   "source": [
    "def predict(X, model):\n",
    "    \"\"\"\n",
    "    A function that predicts new values based on a dataset of new features X\n",
    "    and a trained model\n",
    "    @param X: dataset (array) of features m, n_features\n",
    "    @param model: dict (A dictionary of weights and biases)\n",
    "    @return: float: Predicted values from features X\n",
    "    \"\"\"\n",
    "\n",
    "    W1 = model[\"W1\"]\n",
    "    b1 = model[\"b1\"]\n",
    "    W2 = model[\"W2\"]\n",
    "    b2 = model[\"b2\"]\n",
    "\n",
    "    A2 = sigmoid(np.matmul(X, W1) + b1)\n",
    "    A3 = np.matmul(A2, W2) + b2\n",
    "    return A3\n",
    "\n"
   ],
   "metadata": {
    "collapsed": false
   }
  },
  {
   "cell_type": "code",
   "execution_count": 37,
   "outputs": [
    {
     "name": "stdout",
     "output_type": "stream",
     "text": [
      "[[1.01062431]\n",
      " [0.9734597 ]\n",
      " [0.85533033]\n",
      " [0.67993292]\n",
      " [1.06097609]\n",
      " [0.25598338]\n",
      " [0.79000326]\n",
      " [0.44220662]\n",
      " [0.61105219]\n",
      " [0.63452334]]\n",
      "[1.12  1.072 1.156 0.983 1.168 0.781 0.771 0.923 0.847 0.894]\n"
     ]
    }
   ],
   "source": [
    "# Applying the training model to our testing set\n",
    "predictions = predict(X_test, model)\n",
    "\n",
    "# Printing out the predictions and their ground truths to compare them\n",
    "print(predictions)\n",
    "print(y_test)"
   ],
   "metadata": {
    "collapsed": false
   }
  },
  {
   "cell_type": "code",
   "execution_count": 40,
   "outputs": [
    {
     "name": "stdout",
     "output_type": "stream",
     "text": [
      "Mean Absolute Error: 0.243891437006293\n",
      "Mean Squared Error: 0.08455445992364088\n",
      "R2 score: -3.118851455095241\n"
     ]
    }
   ],
   "source": [
    "# Evaluating the model\n",
    "from sklearn.metrics import mean_absolute_error, mean_squared_error, r2_score\n",
    "mae = mean_absolute_error(y_test, predictions)\n",
    "mse = mean_squared_error(y_test, predictions)\n",
    "r2 = r2_score(y_test, predictions)\n",
    "\n",
    "print(f\"Mean Absolute Error: {mae}\")\n",
    "print(f\"Mean Squared Error: {mse}\")\n",
    "print(f\"R2 score: {r2}\")\n",
    "\n"
   ],
   "metadata": {
    "collapsed": false
   }
  },
  {
   "cell_type": "code",
   "execution_count": 49,
   "outputs": [
    {
     "data": {
      "text/plain": "<Figure size 640x480 with 1 Axes>",
      "image/png": "[encoded data removed]"
     },
     "metadata": {},
     "output_type": "display_data"
    }
   ],
   "source": [
    "# Visualizing predicted vs true values\n",
    "import matplotlib.pyplot as plt\n",
    "\n",
    "# Plotting both the train values and the new predicted values\n",
    "plt.scatter(X_train[:, 0], y_train, marker = \"o\", c = \"b\")\n",
    "plt.scatter(X_test[:, 0], predictions, marker = \"*\", c = \"k\")\n",
    "plt.scatter(X_test[:, 0], y_test, marker = \"^\", c = \"g\")\n",
    "\n",
    "plt.xlim(-1.5, 0)\n",
    "plt.ylim(0, 1.75)\n",
    "\n",
    "plt.xlabel(\"x\")\n",
    "plt.ylabel(\"y\")\n",
    "\n",
    "plt.show()"
   ],
   "metadata": {
    "collapsed": false
   }
  },
  {
   "cell_type": "code",
   "execution_count": null,
   "outputs": [],
   "source": [],
   "metadata": {
    "collapsed": false
   }
  }
 ],
 "metadata": {
  "kernelspec": {
   "display_name": "Python 3",
   "language": "python",
   "name": "python3"
  },
  "language_info": {
   "codemirror_mode": {
    "name": "ipython",
    "version": 2
   },
   "file_extension": ".py",
   "mimetype": "text/x-python",
   "name": "python",
   "nbconvert_exporter": "python",
   "pygments_lexer": "ipython2",
   "version": "2.7.6"
  }
 },
 "nbformat": 4,
 "nbformat_minor": 0
}
