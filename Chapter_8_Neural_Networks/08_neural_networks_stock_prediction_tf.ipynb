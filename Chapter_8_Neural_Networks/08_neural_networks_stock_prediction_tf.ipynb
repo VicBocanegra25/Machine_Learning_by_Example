{
 "cells": [
  {
   "cell_type": "markdown",
   "id": "42bcfb30",
   "metadata": {},
   "source": [
    "# Predicting Stock Prices with Neural Networks\n",
    "* We will build the stock predictor with TensorFlow in this section. \n",
    "* We will start with feature generation and data preparation. \n",
    "* Then, we'll build our Sequential model with only one hidden layers.\n",
    "* We'll fine-tune the network incorporating early-stopping \n",
    "* Finally, we'll make predictions and evaluate our model's performance."
   ]
  },
  {
   "cell_type": "markdown",
   "id": "06793cdf",
   "metadata": {},
   "source": [
    "## Step 1: Loading the data\n",
    "* We'll use the generate_features function that we developed in Chapter 7: Predicting Stock Prices with Regression Algorithms\n",
    "* This data consists of stock prices from the DJI index. \n",
    "* After applying the function, we'll have 38 features and 2171 samples to work with. "
   ]
  },
  {
   "cell_type": "code",
   "execution_count": 1,
   "id": "575245f9",
   "metadata": {},
   "outputs": [
    {
     "name": "stdout",
     "output_type": "stream",
     "text": [
      "\n",
      "Rows with '-' symbol:\n",
      "                Close       Open       High        Low Volume\n",
      "Date                                                         \n",
      "2010-05-13  10,782.95  10,896.61  10,952.84  10,752.72      -\n",
      "2010-05-12  10,896.91  10,742.15  10,941.88  10,725.81      -\n",
      "2010-05-11  10,748.26  10,780.00  10,888.30  10,653.71      -\n",
      "2010-05-10  10,785.14  10,386.18  10,880.14  10,386.18      -\n",
      "2010-05-07  10,380.43  10,519.42  10,622.27  10,221.50      -\n",
      "...               ...        ...        ...        ...    ...\n",
      "2009-01-09   8,599.18   8,738.80   8,800.45   8,541.75      -\n",
      "2009-01-08   8,742.46   8,769.94   8,807.14   8,593.52      -\n",
      "2009-01-07   8,769.70   8,996.94   8,996.94   8,690.45      -\n",
      "2009-01-06   9,015.10   8,954.57   9,175.19   8,868.07      -\n",
      "2009-01-05   8,952.89   9,027.13   9,093.47   8,841.70      -\n",
      "\n",
      "[342 rows x 5 columns]\n"
     ]
    }
   ],
   "source": [
    "# In order to prepare the dataset and transform the features, we need to\n",
    "# perform some operations on the initial dataset (formatting)\n",
    "import pandas as pd\n",
    "import numpy as np\n",
    "\n",
    "# Storing the data in a dataframe and renaming Price and Vol to Close and Volume\n",
    "df_raw = pd.read_csv(\"./dataset/doj_historical.csv\", index_col=\"Date\", parse_dates=True)\n",
    "\n",
    "df_raw.rename(columns = {\"Price\" : \"Close\", \"Vol.\": \"Volume\" }, inplace = True)\n",
    "# Evaluating the columns and the content of the dataframe\n",
    "df_raw.head(5)\n",
    "\n",
    "# We have six original columns and we'll transform them to get more dimensions\n",
    "\n",
    "# We need to drop the Change % column\n",
    "df_raw.drop(\"Change %\", axis = 1, inplace = True)\n",
    "\n",
    "# Find rows with '-' in any of the columns\n",
    "filtered_df = df_raw[df_raw.apply(lambda row: row.str.contains('-')).any\n",
    "(axis=1)]\n",
    "print(\"\\nRows with '-' symbol:\")\n",
    "print(filtered_df)\n",
    "\n",
    "# We'll delete the M for all values and multiply for 1000,\n",
    "# All other values that contain \"-\", we'll replace them with nan\n",
    "df_raw['Volume'] = df_raw['Volume'].apply(lambda x: 1000 * float(x.replace(\"M\",\n",
    "                                                                        \"\"))\n",
    "if x != \"-\" else float(\"nan\"))\n",
    "\n",
    "df_raw['Volume']\n",
    "\n",
    "from sklearn.impute import SimpleImputer\n",
    "\n",
    "# Use the SimpleImputer to convert all missing values from nan to the mean of\n",
    "# all other rows\n",
    "volume_transformed = SimpleImputer(missing_values = np.nan, strategy = \"mean\")\n",
    "volume_transformed.fit(df_raw['Volume'].values.reshape(-1, 1))\n",
    "volume_transformed.transform(df_raw['Volume'].values.reshape(-1, 1))\n",
    "\n",
    "df_raw['Volume']\n",
    "\n",
    "# Making sure that all values are of type float since there are some\n",
    "# characters (commas, suffixes) that will stop us from using the functions\n",
    "def remove_commas(value):\n",
    "    \"\"\"\n",
    "    This function converts strings in our rows into floats. It also removes\n",
    "    commas and the M suffix in the column for volume.\n",
    "    @param value: str, The value in the current row\n",
    "    @return: float, a clean version of the original data\n",
    "    \"\"\"\n",
    "    return float(value.replace(\",\", \"\"))\n",
    "\n",
    "# Applying the custom function to all elements in the dataframe\n",
    "df_raw.iloc[:,:-1] = df_raw.iloc[:,:-1].applymap(remove_commas)\n",
    "\n",
    "\n"
   ]
  },
  {
   "cell_type": "code",
   "execution_count": 2,
   "id": "28ee4064",
   "metadata": {},
   "outputs": [
    {
     "name": "stdout",
     "output_type": "stream",
     "text": [
      "38 2171\n",
      "                open    open_1   close_1    high_1     low_1  volume_1   \n",
      "Date                                                                     \n",
      "2018-12-27  22629.06  23213.61   23062.4  23381.88  22981.33  336510.0  \\\n",
      "2018-12-26  21857.73  22629.06  23138.82  23138.89  22267.42  407940.0   \n",
      "2018-12-24  22317.28  21857.73  22878.45  22878.92  21712.53  433080.0   \n",
      "2018-12-21  22871.74  22317.28   21792.2  22339.87   21792.2  308420.0   \n",
      "2018-12-20  23224.12  22871.74  22445.37  23254.59  22396.34  900510.0   \n",
      "\n",
      "            avg_price_5  avg_price_30  avg_price_365  ratio_avg_price_5_30   \n",
      "Date                                                                         \n",
      "2018-12-27    23171.096     23985.192      26337.481                 0.966  \\\n",
      "2018-12-26    23112.228     23916.566      26315.630                 0.966   \n",
      "2018-12-24    23150.674     23838.006      26292.841                 0.971   \n",
      "2018-12-21    22839.866     23697.768      26266.161                 0.964   \n",
      "2018-12-20    22663.448     23597.393      26241.930                 0.960   \n",
      "\n",
      "            ...  ratio_std_volume_5_365  ratio_std_volume_30_365  return_1   \n",
      "Date        ...                                                              \n",
      "2018-12-27  ...                   0.839                    0.597  0.003276  \\\n",
      "2018-12-26  ...                   0.873                    0.649  -0.01129   \n",
      "2018-12-24  ...                   0.910                    0.724 -0.046945   \n",
      "2018-12-21  ...                   0.957                    0.727   0.02855   \n",
      "2018-12-20  ...                   3.168                    1.734  0.019008   \n",
      "\n",
      "            return_5  return_30  return_365  moving_avg_5  moving_avg_30   \n",
      "Date                                                                       \n",
      "2018-12-27 -0.019929  -0.078052   -0.189717        -0.004         -0.004  \\\n",
      "2018-12-26 -0.012561  -0.058631   -0.192229        -0.002         -0.003   \n",
      "2018-12-24  0.008473   -0.06726   -0.200652         0.002         -0.003   \n",
      "2018-12-21 -0.066565  -0.119051   -0.235776        -0.013         -0.006   \n",
      "2018-12-20 -0.037813  -0.085849   -0.213865        -0.008         -0.004   \n",
      "\n",
      "            moving_avg_365     close  \n",
      "Date                                  \n",
      "2018-12-27          -0.001  23138.82  \n",
      "2018-12-26          -0.001  22878.45  \n",
      "2018-12-24          -0.001   21792.2  \n",
      "2018-12-21          -0.001  22445.37  \n",
      "2018-12-20          -0.001   22859.6  \n",
      "\n",
      "[5 rows x 38 columns]\n"
     ]
    }
   ],
   "source": [
    "import nbimporter\n",
    "from preparing_dji_data import generate_features\n",
    "\n",
    "# Creating a new, enhanced dataset:\n",
    "data = generate_features(df_raw)\n",
    "# The dimensions of our new dataset: 38, 2171\n",
    "print(len(data.columns), len(data.values))\n",
    "\n",
    "# Sorting first in reverse order:\n",
    "data.sort_index(inplace=True, ascending=False)\n",
    "data_asc = data.sort_index(inplace=False, ascending=True)  # New line\n",
    "\n",
    "# Taking a look at what the data with the new features looks like\n",
    "print(data.round(decimals=3).head(5))"
   ]
  },
  {
   "cell_type": "code",
   "execution_count": 3,
   "id": "085de208",
   "metadata": {},
   "outputs": [
    {
     "name": "stdout",
     "output_type": "stream",
     "text": [
      "Training: 1922, Testing: 249\n",
      "The ratio between training and testing is: 0.89% \n"
     ]
    }
   ],
   "source": [
    "# Defining the dates for our training and testing dataset (chronologically)\n",
    "start_train = '2010-05-13'\n",
    "end_train = '2017-12-31'\n",
    "start_test = '2018-01-01'\n",
    "end_test = '2018-12-27'\n",
    "\n",
    "# Splitting our data\n",
    "data_train = data_asc.loc[start_train:end_train]  # Updated\n",
    "data_test = data_asc.loc[start_test:end_test]  # Updated\n",
    "\n",
    "# We have 1922 samples for training and 249 for testing.\n",
    "train_sample_num = data_train.shape[0]\n",
    "test_sample_num = data_test.shape[0]\n",
    "print(f\"Training: {train_sample_num}, Testing: {test_sample_num}\")\n",
    "print(f\"The ratio between training and testing is: {train_sample_num  /(train_sample_num + test_sample_num):.2f}% \")\n",
    "\n",
    "# We have a 90/10 split.\n"
   ]
  },
  {
   "cell_type": "code",
   "execution_count": 4,
   "id": "62bc99f0",
   "metadata": {},
   "outputs": [],
   "source": [
    "# Dropping the target from the training dataset\n",
    "X_train = data_train.drop('close', axis=1).values\n",
    "y_train = data_train['close'].values\n",
    "\n",
    "X_test = data_test.drop('close', axis=1).values\n",
    "y_test = data_test['close'].values"
   ]
  },
  {
   "cell_type": "markdown",
   "id": "804bfabb",
   "metadata": {},
   "source": [
    "## Step 2: Normalizing and splitting the data using StandardScaler and train_test_split\n",
    "* In this section we'll normalize our data and we'll further split it into train and validation sets. "
   ]
  },
  {
   "cell_type": "code",
   "execution_count": 5,
   "id": "d0c706cd",
   "metadata": {},
   "outputs": [],
   "source": [
    "from sklearn.preprocessing import StandardScaler\n",
    "from sklearn.model_selection import train_test_split\n",
    "\n",
    "scaler = StandardScaler()\n",
    "\n",
    "# We define it like this because we'll perform further splitting later\n",
    "X_train_validation_scaled = scaler.fit_transform(X_train)\n",
    "X_test_scaled = scaler.transform(X_test)\n",
    "\n",
    "# Splitting the training further into training and validation sets\n",
    "X_train, X_val, y_train, y_val = train_test_split(X_train_validation_scaled, y_train, test_size=0.20, random_state = 42)"
   ]
  },
  {
   "cell_type": "markdown",
   "id": "ffe253b3",
   "metadata": {},
   "source": [
    "## Step 3: Building and compiling the model\n",
    "* We'll use the Sequential model from Keras with Dropout of 50%, Early Stopping after 200 epochs, Adam Optimizer with MSE as the loss function and ReLU activation functions for both of the hidden layers.\n",
    "* We'll define a learning Rate = 0.1, 100 epochs "
   ]
  },
  {
   "cell_type": "code",
   "execution_count": 6,
   "id": "79c28739",
   "metadata": {},
   "outputs": [],
   "source": [
    "# Due to an error with tensorflow, trying to convert the values to float32\n",
    "X_train = X_train.astype(np.float32)\n",
    "y_train = y_train.astype(np.float32)\n",
    "X_val = X_val.astype(np.float32)\n",
    "y_val = y_val.astype(np.float32)\n",
    "\n",
    "X_test_scaled = X_test_scaled.astype(np.float32)\n",
    "y_test = y_test.astype(np.float32)"
   ]
  },
  {
   "cell_type": "code",
   "execution_count": null,
   "id": "643dc794",
   "metadata": {},
   "outputs": [],
   "source": [
    "# Building our model using Tensorflow and Keras\n",
    "import tensorflow as tf\n",
    "nn_model = tf.keras.Sequential([\n",
    "    # The network we begin with has one hidden layer with 32 nodes followed by a ReLU function\n",
    "    tf.keras.layers.Dense(32, activation = 'relu', input_shape=[X_train.shape[1],]),\n",
    "    tf.keras.layers.Dropout(0.5),\n",
    "    tf.keras.layers.Dense(1)\n",
    "])\n",
    "\n",
    "# Compiling the model\n",
    "nn_model.compile(optimizer=tf.keras.optimizers.Adam(learning_rate=0.1), \n",
    "                                                   loss = tf.keras.losses.MeanSquaredError())\n",
    "\n",
    "# Creating the Early Stopping callback\n",
    "early_stopping = tf.keras.callbacks.EarlyStopping(monitor='val_loss', patience=200, restore_best_weights=True)\n",
    "\n",
    "# Fitting the model\n",
    "nn_model.fit(X_train, y_train, epochs = 1000, verbose=1, validation_data=(X_val, y_val), callbacks=[early_stopping])\n"
   ]
  },
  {
   "cell_type": "markdown",
   "id": "727f8e39",
   "metadata": {},
   "source": [
    "## Step 4: Predicting and evaluating the model"
   ]
  },
  {
   "cell_type": "code",
   "execution_count": null,
   "id": "6fa8a2c8",
   "metadata": {},
   "outputs": [],
   "source": [
    "# Predicting new values\n",
    "predictions = nn_model.predict(X_test_scaled)\n",
    "\n",
    "from sklearn.metrics import mean_squared_error, mean_absolute_error, r2_score\n",
    "print(f'MSE: {mean_squared_error(y_test,predictions):.3f}')\n",
    "print(f'MAE: {mean_absolute_error(y_test, predictions):.3f}')\n",
    "print(f'R^2: {r2_score(y_test, predictions):.3f}')"
   ]
  },
  {
   "cell_type": "markdown",
   "id": "2c3303cd",
   "metadata": {},
   "source": [
    "## Step 5: Fine Tunning the model to achieve an optimal R2\n",
    "* We'll use Keras Tuner to perform hyperparameter tunner.   "
   ]
  },
  {
   "cell_type": "code",
   "execution_count": 7,
   "id": "6529797f",
   "metadata": {},
   "outputs": [],
   "source": [
    "# I mport the libraries and define a function that creates the model with tunable hyperparameters\n",
    "from keras_tuner import RandomSearch\n",
    "import tensorflow as tf\n",
    "\n",
    "def build_model(hp):\n",
    "    \"\"\"\n",
    "    Build a neural network model with tunable hyperparameters using Keras Tuner.\n",
    "    \n",
    "    :param hp: HyperParameters object from Keras Tuner\n",
    "    :return: Compiled Keras model with specified hyperparameters\n",
    "    \"\"\"\n",
    "    \n",
    "    # Create a sequential neural network model\n",
    "    nn_model = tf.keras.Sequential([\n",
    "        \n",
    "        # Add a dense layer with tunable number of units and ReLU activation\n",
    "        tf.keras.layers.Dense(\n",
    "            units=hp.Int('units', min_value=16, max_value=64, step=8),\n",
    "            activation='relu',\n",
    "            input_shape=[X_train.shape[1],]),\n",
    "        \n",
    "        # Add a dropout layer with tunable dropout rate\n",
    "        tf.keras.layers.Dropout(\n",
    "            hp.Float('dropout_rate', min_value=0.1, max_value=0.5, step=0.1)),\n",
    "        \n",
    "        # Add the output dense layer with a single unit\n",
    "        tf.keras.layers.Dense(1)\n",
    "    ])\n",
    "    \n",
    "    # Compile the model with tunable learning rate and fixed loss function\n",
    "    nn_model.compile(\n",
    "        optimizer=tf.keras.optimizers.Adam(\n",
    "            learning_rate=hp.Float('learning_rate', min_value=0.002, max_value=0.2, sampling='LOG')),\n",
    "        loss=tf.keras.losses.MeanSquaredError())\n",
    "    \n",
    "    return nn_model\n",
    "\n"
   ]
  },
  {
   "cell_type": "code",
   "execution_count": null,
   "id": "71627da9",
   "metadata": {},
   "outputs": [],
   "source": [
    "# Create a random search tuner with specified objective, number of trials, and project name\n",
    "tuner = RandomSearch(\n",
    "    build_model, \n",
    "    objective='val_loss',\n",
    "    max_trials = 20,\n",
    "    executions_per_trial=2,\n",
    "    directory='.',\n",
    "    project_name='stock_price'\n",
    ")\n",
    "\n",
    "# Display the search space summary\n",
    "tuner.search_space_summary()\n",
    "\n",
    "# Define the Early Stopping callback to stop training when validation loss stops improving\n",
    "early_stopping = tf.keras.callbacks.EarlyStopping(monitor='val_loss', patience=200, restore_best_weights=True)\n",
    "\n",
    "# Perform the hyperparameter search by training the model with different hyperparameter combinations\n",
    "tuner.search(X_train, y_train,\n",
    "            epochs=1000,\n",
    "            validation_data=(X_val, y_val), \n",
    "            callbacks=[early_stopping])\n",
    "\n",
    "# Display the results summary\n",
    "tuner.results_summary()\n"
   ]
  },
  {
   "cell_type": "markdown",
   "id": "e48e03c5",
   "metadata": {},
   "source": [
    "### If the Kernel was restarted and we want to reload the model: "
   ]
  },
  {
   "cell_type": "code",
   "execution_count": 11,
   "id": "ec414b59",
   "metadata": {
    "scrolled": true
   },
   "outputs": [
    {
     "name": "stdout",
     "output_type": "stream",
     "text": [
      "INFO:tensorflow:Reloading Tuner from .\\stock_price\\tuner0.json\n",
      "WARNING:tensorflow:Detecting that an object or model or tf.train.Checkpoint is being deleted with unrestored values. See the following logs for the specific values in question. To silence these warnings, use `status.expect_partial()`. See https://www.tensorflow.org/api_docs/python/tf/train/Checkpoint#restorefor details about the status object returned by the restore function.\n",
      "WARNING:tensorflow:Value in checkpoint could not be found in the restored object: (root).optimizer._variables.1\n",
      "WARNING:tensorflow:Value in checkpoint could not be found in the restored object: (root).optimizer._variables.2\n",
      "WARNING:tensorflow:Value in checkpoint could not be found in the restored object: (root).optimizer._variables.3\n",
      "WARNING:tensorflow:Value in checkpoint could not be found in the restored object: (root).optimizer._variables.4\n",
      "WARNING:tensorflow:Value in checkpoint could not be found in the restored object: (root).optimizer._variables.5\n",
      "WARNING:tensorflow:Value in checkpoint could not be found in the restored object: (root).optimizer._variables.6\n",
      "WARNING:tensorflow:Value in checkpoint could not be found in the restored object: (root).optimizer._variables.7\n",
      "WARNING:tensorflow:Value in checkpoint could not be found in the restored object: (root).optimizer._variables.8\n",
      "Best Hyperparameters:\n",
      "units: 64\n",
      "dropout_rate: 0.2\n",
      "learning_rate: 0.016079019747424025\n"
     ]
    }
   ],
   "source": [
    "from keras_tuner import RandomSearch\n",
    "\n",
    "# Load the existing tuner from the saved directory\n",
    "tuner = RandomSearch(\n",
    "    build_model,\n",
    "    objective='val_loss',\n",
    "    max_trials=20,\n",
    "    executions_per_trial=2,\n",
    "    directory='.',  # Use the same directory that you used for the original tuner\n",
    "    project_name='stock_price'  # Use the same project name that you used for the original tuner\n",
    ")\n",
    "\n",
    "# Reload the tuner's state\n",
    "tuner.reload()\n",
    "\n",
    "# Get the best model and hyperparameters as before\n",
    "best_model = tuner.get_best_models(num_models=1)[0]\n",
    "\n",
    "# Print the best hyperparameters\n",
    "best_hyperparameters = tuner.get_best_hyperparameters()[0]\n",
    "\n",
    "print(\"Best Hyperparameters:\")\n",
    "for hp_name in best_hyperparameters.values.keys():\n",
    "    print(f\"{hp_name}: {best_hyperparameters.get(hp_name)}\")\n",
    "\n"
   ]
  },
  {
   "cell_type": "code",
   "execution_count": 12,
   "id": "e1cde87c",
   "metadata": {},
   "outputs": [
    {
     "name": "stdout",
     "output_type": "stream",
     "text": [
      "Best Units: 64\n",
      "Best Dropout Rate: 0.2\n",
      "Best Learning Rate: 0.01607902\n"
     ]
    }
   ],
   "source": [
    "# Making sure that the best_model has the right hyperparameters\n",
    "# Extract the hyperparameters from the best model\n",
    "best_units = best_model.layers[0].units\n",
    "best_dropout_rate = best_model.layers[1].rate\n",
    "best_learning_rate = best_model.optimizer.get_config()['learning_rate']\n",
    "\n",
    "# Print the hyperparameters\n",
    "print(\"Best Units:\", best_units)\n",
    "print(\"Best Dropout Rate:\", best_dropout_rate)\n",
    "print(\"Best Learning Rate:\", best_learning_rate)\n"
   ]
  },
  {
   "cell_type": "markdown",
   "id": "070caf0b",
   "metadata": {},
   "source": [
    "## Final Step: Predicitng and Evaluating the model"
   ]
  },
  {
   "cell_type": "code",
   "execution_count": 16,
   "id": "8184f089",
   "metadata": {},
   "outputs": [
    {
     "name": "stdout",
     "output_type": "stream",
     "text": [
      "8/8 [==============================] - 0s 1ms/step\n",
      "Mean Absolute Error (MAE): 159.4327\n",
      "Mean Squared Error (MSE): 42139.96\n",
      "R-squared (R2): 0.9363603597617721\n"
     ]
    }
   ],
   "source": [
    "from sklearn.metrics import mean_absolute_error, mean_squared_error, r2_score\n",
    "\n",
    "# Make predictions using the best model\n",
    "predictions = best_model.predict(X_test_scaled)\n",
    "\n",
    "# Evaluate the model's performance using different metrics\n",
    "mae = mean_absolute_error(y_test, predictions)\n",
    "mse = mean_squared_error(y_test, predictions)\n",
    "r2 = r2_score(y_test, predictions)\n",
    "\n",
    "# Print the evaluation results\n",
    "print(\"Mean Absolute Error (MAE):\", mae)\n",
    "print(\"Mean Squared Error (MSE):\", mse)\n",
    "print(\"R-squared (R2):\", r2)\n"
   ]
  },
  {
   "cell_type": "code",
   "execution_count": 18,
   "id": "be7f58d0",
   "metadata": {},
   "outputs": [
    {
     "data": {
      "image/png": "[encoded data removed]",
      "text/plain": [
       "<Figure size 640x480 with 1 Axes>"
      ]
     },
     "metadata": {},
     "output_type": "display_data"
    }
   ],
   "source": [
    "import matplotlib.pyplot as plt\n",
    "plt.plot(data_test.index, y_test, c='k')\n",
    "plt.plot(data_test.index, predictions, c='b')\n",
    "plt.plot(data_test.index, predictions, c='r')\n",
    "plt.plot(data_test.index, predictions, c='g')\n",
    "plt.xlabel('Date')\n",
    "plt.ylabel('Close price')\n",
    "plt.legend(['Truth', 'Neural network prediction'])\n",
    "plt.show()\n"
   ]
  },
  {
   "cell_type": "code",
   "execution_count": null,
   "id": "3e38fe50",
   "metadata": {},
   "outputs": [],
   "source": []
  }
 ],
 "metadata": {
  "kernelspec": {
   "display_name": "Python 3 (ipykernel)",
   "language": "python",
   "name": "python3"
  },
  "language_info": {
   "codemirror_mode": {
    "name": "ipython",
    "version": 3
   },
   "file_extension": ".py",
   "mimetype": "text/x-python",
   "name": "python",
   "nbconvert_exporter": "python",
   "pygments_lexer": "ipython3",
   "version": "3.10.1"
  }
 },
 "nbformat": 4,
 "nbformat_minor": 5
}
