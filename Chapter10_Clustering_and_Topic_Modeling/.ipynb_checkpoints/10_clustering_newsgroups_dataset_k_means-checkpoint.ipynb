{
 "cells": [
  {
   "cell_type": "markdown",
   "id": "d7dc7115",
   "metadata": {},
   "source": [
    "# Clustering Newsgroups data using K-means\n",
    "* We'll use the Newsgroup dataset from scikit learn.\n",
    "* We will use all data from four categories, 'alt.atheism', 'talk.religion.misc', 'comp.graphics', and 'sci.space', as an example."
   ]
  },
  {
   "cell_type": "markdown",
   "id": "31a191ed",
   "metadata": {},
   "source": [
    "# Step 1: Loading and Preprocessing the data\n",
    "* We'll load the data and clean it up a bit with the preprocessing techniques we saw in the previous chapter (remove numbers, lemmatize the words, remove names)"
   ]
  },
  {
   "cell_type": "code",
   "execution_count": 2,
   "id": "bec880a6",
   "metadata": {},
   "outputs": [],
   "source": [
    "from sklearn.datasets import fetch_20newsgroups\n",
    "from nltk.corpus import names\n",
    "from nltk.stem import WordNetLemmatizer\n",
    "\n",
    "# Defining our categories (the ones we'll use to fetch the data)\n",
    "categories = [\n",
    "    'alt.atheism',\n",
    "    'talk.religion.misc',\n",
    "    'comp.graphics',\n",
    "    'sci.space'\n",
    "]\n",
    "\n",
    "groups = fetch_20newsgroups(subset = 'all', categories=categories)\n",
    "\n",
    "# Getting our labels and label names\n",
    "labels = groups.target\n",
    "label_names = groups.target_names\n",
    "\n",
    "# Removing names and lemmatizing \n",
    "all_names = set(names.words())\n",
    "lemmatizer = WordNetLemmatizer()\n",
    "\n",
    "# An empty list to store our cleaned data\n",
    "data_cleaned = []\n",
    "\n",
    "for doc in groups.data:\n",
    "    doc = doc.lower()\n",
    "    doc_cleaned = \" \".join(lemmatizer.lemmatize(word) for word in doc.split() if word.isalpha() and word not in all_names)\n",
    "    data_cleaned.append(doc_cleaned)\n",
    "    "
   ]
  },
  {
   "cell_type": "code",
   "execution_count": 3,
   "id": "7f8d0c20",
   "metadata": {},
   "outputs": [],
   "source": [
    "# Converting the cleaned text data into count vectors\n",
    "from sklearn.feature_extraction.text import CountVectorizer\n",
    "count_vector = CountVectorizer(stop_words=\"english\", max_features = None, \n",
    "                              max_df = 0.5, min_df = 2)\n",
    "data = count_vector.fit_transform(data_cleaned)\n"
   ]
  },
  {
   "cell_type": "markdown",
   "id": "da4c70f3",
   "metadata": {},
   "source": [
    "Note that we don't limit the max_features, but we set up max_df and min_df, which mean maximum and minimum document frequency. Document frequency of a word is measured by the fraction of documents (samples) in the dataset that contain this word. "
   ]
  },
  {
   "cell_type": "markdown",
   "id": "c938a93b",
   "metadata": {},
   "source": [
    "# Step 2: Clustering the data\n",
    "* We'll try clustering the data (cleaned) as is, however, we need to know that as of this moment, the tokens in data (the CountVector) is only considering term_frequency, which might give us incorrect results"
   ]
  },
  {
   "cell_type": "code",
   "execution_count": null,
   "id": "faa4bc85",
   "metadata": {},
   "outputs": [],
   "source": [
    "from sklearn.cluster import KMeans\n",
    "\n",
    "k = 4\n",
    "kmeans = KMeans(n_clusters=k, random_state = 42, n_init = 'auto')"
   ]
  }
 ],
 "metadata": {
  "kernelspec": {
   "display_name": "Python 3 (ipykernel)",
   "language": "python",
   "name": "python3"
  },
  "language_info": {
   "codemirror_mode": {
    "name": "ipython",
    "version": 3
   },
   "file_extension": ".py",
   "mimetype": "text/x-python",
   "name": "python",
   "nbconvert_exporter": "python",
   "pygments_lexer": "ipython3",
   "version": "3.10.1"
  }
 },
 "nbformat": 4,
 "nbformat_minor": 5
}
