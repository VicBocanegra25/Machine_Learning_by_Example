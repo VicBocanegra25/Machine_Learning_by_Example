{
 "cells": [
  {
   "cell_type": "markdown",
   "id": "f24cb318",
   "metadata": {},
   "source": [
    "# Using NMF for topic modeling\n",
    "* Decomposing a matrix V into W and H. \n",
    "* We'll use the NMF module from sklearn.decomposition\n",
    "* To load the data, we'll use the same cleaned data as with the k_means clustering\n",
    "* Specifying 20 topics"
   ]
  },
  {
   "cell_type": "markdown",
   "id": "dd208907",
   "metadata": {},
   "source": [
    "# Step 1: Loading and Preprocessing the data"
   ]
  },
  {
   "cell_type": "code",
   "execution_count": 3,
   "id": "497e25f8",
   "metadata": {},
   "outputs": [],
   "source": [
    "from sklearn.datasets import fetch_20newsgroups\n",
    "from nltk.corpus import names\n",
    "from nltk.stem import WordNetLemmatizer\n",
    "\n",
    "# Defining our categories (the ones we'll use to fetch the data)\n",
    "categories = [\n",
    "    'alt.atheism',\n",
    "    'talk.religion.misc',\n",
    "    'comp.graphics',\n",
    "    'sci.space'\n",
    "]\n",
    "\n",
    "groups = fetch_20newsgroups(subset = 'all', categories=categories)\n",
    "\n",
    "# Getting our labels and label names\n",
    "labels = groups.target\n",
    "label_names = groups.target_names\n",
    "\n",
    "# Removing names and lemmatizing \n",
    "all_names = set(names.words())\n",
    "lemmatizer = WordNetLemmatizer()\n",
    "\n",
    "# An empty list to store our cleaned data\n",
    "data_cleaned = []\n",
    "\n",
    "for doc in groups.data:\n",
    "    doc = doc.lower()\n",
    "    doc_cleaned = \" \".join(lemmatizer.lemmatize(word) for word in doc.split() if word.isalpha() and word not in all_names)\n",
    "    data_cleaned.append(doc_cleaned)\n",
    "    \n",
    "# Using TFidfVectorizer instead of CountVectorizer\n",
    "from sklearn.feature_extraction.text import TfidfVectorizer\n",
    "\n",
    "tfidf_vector = TfidfVectorizer(stop_words = 'english', max_features = None,\n",
    "                              max_df=0.5, min_df = 2)\n",
    "\n",
    "# Fitting our model\n",
    "vectorized_data = tfidf_vector.fit_transform(data_cleaned)\n",
    "\n"
   ]
  },
  {
   "cell_type": "markdown",
   "id": "88e40fcd",
   "metadata": {},
   "source": [
    "# Step 2: Fitting the NMF model on the term matrix\n",
    "* The idea is to obtain the topic-feature rank W after the model is trained\n"
   ]
  },
  {
   "cell_type": "code",
   "execution_count": 4,
   "id": "90a350f1",
   "metadata": {},
   "outputs": [
    {
     "data": {
      "text/html": [
       "<style>#sk-container-id-1 {color: black;background-color: white;}#sk-container-id-1 pre{padding: 0;}#sk-container-id-1 div.sk-toggleable {background-color: white;}#sk-container-id-1 label.sk-toggleable__label {cursor: pointer;display: block;width: 100%;margin-bottom: 0;padding: 0.3em;box-sizing: border-box;text-align: center;}#sk-container-id-1 label.sk-toggleable__label-arrow:before {content: \"▸\";float: left;margin-right: 0.25em;color: #696969;}#sk-container-id-1 label.sk-toggleable__label-arrow:hover:before {color: black;}#sk-container-id-1 div.sk-estimator:hover label.sk-toggleable__label-arrow:before {color: black;}#sk-container-id-1 div.sk-toggleable__content {max-height: 0;max-width: 0;overflow: hidden;text-align: left;background-color: #f0f8ff;}#sk-container-id-1 div.sk-toggleable__content pre {margin: 0.2em;color: black;border-radius: 0.25em;background-color: #f0f8ff;}#sk-container-id-1 input.sk-toggleable__control:checked~div.sk-toggleable__content {max-height: 200px;max-width: 100%;overflow: auto;}#sk-container-id-1 input.sk-toggleable__control:checked~label.sk-toggleable__label-arrow:before {content: \"▾\";}#sk-container-id-1 div.sk-estimator input.sk-toggleable__control:checked~label.sk-toggleable__label {background-color: #d4ebff;}#sk-container-id-1 div.sk-label input.sk-toggleable__control:checked~label.sk-toggleable__label {background-color: #d4ebff;}#sk-container-id-1 input.sk-hidden--visually {border: 0;clip: rect(1px 1px 1px 1px);clip: rect(1px, 1px, 1px, 1px);height: 1px;margin: -1px;overflow: hidden;padding: 0;position: absolute;width: 1px;}#sk-container-id-1 div.sk-estimator {font-family: monospace;background-color: #f0f8ff;border: 1px dotted black;border-radius: 0.25em;box-sizing: border-box;margin-bottom: 0.5em;}#sk-container-id-1 div.sk-estimator:hover {background-color: #d4ebff;}#sk-container-id-1 div.sk-parallel-item::after {content: \"\";width: 100%;border-bottom: 1px solid gray;flex-grow: 1;}#sk-container-id-1 div.sk-label:hover label.sk-toggleable__label {background-color: #d4ebff;}#sk-container-id-1 div.sk-serial::before {content: \"\";position: absolute;border-left: 1px solid gray;box-sizing: border-box;top: 0;bottom: 0;left: 50%;z-index: 0;}#sk-container-id-1 div.sk-serial {display: flex;flex-direction: column;align-items: center;background-color: white;padding-right: 0.2em;padding-left: 0.2em;position: relative;}#sk-container-id-1 div.sk-item {position: relative;z-index: 1;}#sk-container-id-1 div.sk-parallel {display: flex;align-items: stretch;justify-content: center;background-color: white;position: relative;}#sk-container-id-1 div.sk-item::before, #sk-container-id-1 div.sk-parallel-item::before {content: \"\";position: absolute;border-left: 1px solid gray;box-sizing: border-box;top: 0;bottom: 0;left: 50%;z-index: -1;}#sk-container-id-1 div.sk-parallel-item {display: flex;flex-direction: column;z-index: 1;position: relative;background-color: white;}#sk-container-id-1 div.sk-parallel-item:first-child::after {align-self: flex-end;width: 50%;}#sk-container-id-1 div.sk-parallel-item:last-child::after {align-self: flex-start;width: 50%;}#sk-container-id-1 div.sk-parallel-item:only-child::after {width: 0;}#sk-container-id-1 div.sk-dashed-wrapped {border: 1px dashed gray;margin: 0 0.4em 0.5em 0.4em;box-sizing: border-box;padding-bottom: 0.4em;background-color: white;}#sk-container-id-1 div.sk-label label {font-family: monospace;font-weight: bold;display: inline-block;line-height: 1.2em;}#sk-container-id-1 div.sk-label-container {text-align: center;}#sk-container-id-1 div.sk-container {/* jupyter's `normalize.less` sets `[hidden] { display: none; }` but bootstrap.min.css set `[hidden] { display: none !important; }` so we also need the `!important` here to be able to override the default hidden behavior on the sphinx rendered scikit-learn.org. See: https://github.com/scikit-learn/scikit-learn/issues/21755 */display: inline-block !important;position: relative;}#sk-container-id-1 div.sk-text-repr-fallback {display: none;}</style><div id=\"sk-container-id-1\" class=\"sk-top-container\"><div class=\"sk-text-repr-fallback\"><pre>NMF(n_components=20, random_state=42)</pre><b>In a Jupyter environment, please rerun this cell to show the HTML representation or trust the notebook. <br />On GitHub, the HTML representation is unable to render, please try loading this page with nbviewer.org.</b></div><div class=\"sk-container\" hidden><div class=\"sk-item\"><div class=\"sk-estimator sk-toggleable\"><input class=\"sk-toggleable__control sk-hidden--visually\" id=\"sk-estimator-id-1\" type=\"checkbox\" checked><label for=\"sk-estimator-id-1\" class=\"sk-toggleable__label sk-toggleable__label-arrow\">NMF</label><div class=\"sk-toggleable__content\"><pre>NMF(n_components=20, random_state=42)</pre></div></div></div></div></div>"
      ],
      "text/plain": [
       "NMF(n_components=20, random_state=42)"
      ]
     },
     "execution_count": 4,
     "metadata": {},
     "output_type": "execute_result"
    }
   ],
   "source": [
    "from sklearn.decomposition import NMF\n",
    "\n",
    "t = 20\n",
    "nmf = NMF(n_components=t, random_state=42, max_iter = 200, tol = 1e-4)\n",
    "nmf.fit(vectorized_data)"
   ]
  },
  {
   "cell_type": "code",
   "execution_count": 8,
   "id": "2dd47936",
   "metadata": {},
   "outputs": [
    {
     "name": "stdout",
     "output_type": "stream",
     "text": [
      "Topic 0: \n",
      "right know ha good make want like just think people\n",
      "Topic 1: \n",
      "ftp information thanks looking software university library package computer graphic\n",
      "Topic 2: \n",
      "forwarded program sci digest international launch nasa station shuttle space\n",
      "Topic 3: \n",
      "objectively mean basis article christian value say moral objective morality\n",
      "Topic 4: \n",
      "say law faith bible doe believe love christian jesus god\n",
      "Topic 5: \n",
      "software display colour weather processing jpeg xv bit color image\n",
      "Topic 6: \n",
      "solar array oms mass day scheduled servicing shuttle mission hst\n",
      "Topic 7: \n",
      "day message fbi biblical said david article did koresh wa\n",
      "Topic 8: \n",
      "know jpeg cview tiff ftp gif program convert format file\n",
      "Topic 9: \n",
      "kipling temperature dick collision dunn resembles spencer henry toronto zoology\n",
      "Topic 10: \n",
      "data galileo loss jet timer propulsion comet spacecraft command orbit\n",
      "Topic 11: \n",
      "rushdie activity islam bureau tourist cookamunga private kent ksand islamic\n",
      "Topic 12: \n",
      "awful discussing forum convenience just post group split aspect newsgroup\n",
      "Topic 13: \n",
      "concave looking code point convex algorithm needed fast routine polygon\n",
      "Topic 14: \n",
      "svga color speedstar bit video mode vga card driver vesa\n",
      "Topic 15: \n",
      "race reward just government launch prize lunar cost billion moon\n",
      "Topic 16: \n",
      "claim amusing agnostic religious believe theist religion belief atheism atheist\n",
      "Topic 17: \n",
      "moral think chimp animal motto institute california pasadena allan keith\n",
      "Topic 18: \n",
      "express online pat burst cloud burster energy oort ray gamma\n",
      "Topic 19: \n",
      "article tektronix bob said blew queen sank beauchaine manhattan bronx\n"
     ]
    }
   ],
   "source": [
    "# Obtaining the top 10 terms for each topic, based on their ranks\n",
    "terms = tfidf_vector.get_feature_names_out()\n",
    "\n",
    "for topic_index, topic in enumerate(nmf.components_):\n",
    "    print(f\"Topic {topic_index}: \")\n",
    "    print(\" \".join([terms[i] for i in topic.argsort()[-10:]]))"
   ]
  },
  {
   "cell_type": "markdown",
   "id": "0396ea1f",
   "metadata": {},
   "source": [
    "* Topics 1, 5, 8 and 14 seem to be computer/software related.\n",
    "* Topics 2, 6, 10 and 15 seem related to the space. \n",
    "* Tipics 3, 4 and 16 seem religion-oriented.\n",
    "* Some topics are hard to interpret, but that's fine since topic modeling is a kind of free-form learning. "
   ]
  },
  {
   "cell_type": "code",
   "execution_count": null,
   "id": "c9d84b0c",
   "metadata": {},
   "outputs": [],
   "source": []
  }
 ],
 "metadata": {
  "kernelspec": {
   "display_name": "Python 3 (ipykernel)",
   "language": "python",
   "name": "python3"
  },
  "language_info": {
   "codemirror_mode": {
    "name": "ipython",
    "version": 3
   },
   "file_extension": ".py",
   "mimetype": "text/x-python",
   "name": "python",
   "nbconvert_exporter": "python",
   "pygments_lexer": "ipython3",
   "version": "3.10.1"
  }
 },
 "nbformat": 4,
 "nbformat_minor": 5
}
