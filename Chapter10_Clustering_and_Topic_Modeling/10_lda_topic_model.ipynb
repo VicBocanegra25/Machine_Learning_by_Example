{
 "cells": [
  {
   "cell_type": "markdown",
   "id": "703d3bf4",
   "metadata": {},
   "source": [
    "# Using LDA (Latent Dirichlet Allocation) for Topic Modeling\n",
    "* It's a probabilistic model.\n",
    "* LDA is trained in a generative manner, where it tries to abstract from the documents a set of hidden topics that are likely to generate a certain collection of words.\n",
    "* We'll keep working with the newsgroup dataset.\n",
    "* We'll use scikit-learn builtin LDA decomposition model\n"
   ]
  },
  {
   "cell_type": "markdown",
   "id": "159e5b70",
   "metadata": {},
   "source": [
    "# Step 1: Loading and preprocessing the data \n",
    "* We'll use the tfid vectorized data instead of the counterVector\n"
   ]
  },
  {
   "cell_type": "code",
   "execution_count": 1,
   "id": "9ff44278",
   "metadata": {},
   "outputs": [],
   "source": [
    "from sklearn.datasets import fetch_20newsgroups\n",
    "from nltk.corpus import names\n",
    "from nltk.stem import WordNetLemmatizer\n",
    "\n",
    "# Defining our categories (the ones we'll use to fetch the data)\n",
    "categories = [\n",
    "    'alt.atheism',\n",
    "    'talk.religion.misc',\n",
    "    'comp.graphics',\n",
    "    'sci.space'\n",
    "]\n",
    "\n",
    "groups = fetch_20newsgroups(subset = 'all', categories=categories)\n",
    "\n",
    "# Getting our labels and label names\n",
    "labels = groups.target\n",
    "label_names = groups.target_names\n",
    "\n",
    "# Removing names and lemmatizing \n",
    "all_names = set(names.words())\n",
    "lemmatizer = WordNetLemmatizer()\n",
    "\n",
    "# An empty list to store our cleaned data\n",
    "data_cleaned = []\n",
    "\n",
    "for doc in groups.data:\n",
    "    doc = doc.lower()\n",
    "    doc_cleaned = \" \".join(lemmatizer.lemmatize(word) for word in doc.split() if word.isalpha() and word not in all_names)\n",
    "    data_cleaned.append(doc_cleaned)\n",
    "    \n",
    "# Using TFidfVectorizer instead of CountVectorizer\n",
    "from sklearn.feature_extraction.text import TfidfVectorizer\n",
    "\n",
    "tfidf_vector = TfidfVectorizer(stop_words = 'english', max_features = None,\n",
    "                              max_df=0.5, min_df = 2)\n",
    "\n",
    "# Fitting our model\n",
    "vectorized_data = tfidf_vector.fit_transform(data_cleaned)\n",
    "\n"
   ]
  },
  {
   "cell_type": "markdown",
   "id": "40974f45",
   "metadata": {},
   "source": [
    "# Step 2: Training the LDA model"
   ]
  },
  {
   "cell_type": "code",
   "execution_count": 2,
   "id": "84fb0f9d",
   "metadata": {},
   "outputs": [
    {
     "data": {
      "text/html": [
       "<style>#sk-container-id-1 {color: black;background-color: white;}#sk-container-id-1 pre{padding: 0;}#sk-container-id-1 div.sk-toggleable {background-color: white;}#sk-container-id-1 label.sk-toggleable__label {cursor: pointer;display: block;width: 100%;margin-bottom: 0;padding: 0.3em;box-sizing: border-box;text-align: center;}#sk-container-id-1 label.sk-toggleable__label-arrow:before {content: \"▸\";float: left;margin-right: 0.25em;color: #696969;}#sk-container-id-1 label.sk-toggleable__label-arrow:hover:before {color: black;}#sk-container-id-1 div.sk-estimator:hover label.sk-toggleable__label-arrow:before {color: black;}#sk-container-id-1 div.sk-toggleable__content {max-height: 0;max-width: 0;overflow: hidden;text-align: left;background-color: #f0f8ff;}#sk-container-id-1 div.sk-toggleable__content pre {margin: 0.2em;color: black;border-radius: 0.25em;background-color: #f0f8ff;}#sk-container-id-1 input.sk-toggleable__control:checked~div.sk-toggleable__content {max-height: 200px;max-width: 100%;overflow: auto;}#sk-container-id-1 input.sk-toggleable__control:checked~label.sk-toggleable__label-arrow:before {content: \"▾\";}#sk-container-id-1 div.sk-estimator input.sk-toggleable__control:checked~label.sk-toggleable__label {background-color: #d4ebff;}#sk-container-id-1 div.sk-label input.sk-toggleable__control:checked~label.sk-toggleable__label {background-color: #d4ebff;}#sk-container-id-1 input.sk-hidden--visually {border: 0;clip: rect(1px 1px 1px 1px);clip: rect(1px, 1px, 1px, 1px);height: 1px;margin: -1px;overflow: hidden;padding: 0;position: absolute;width: 1px;}#sk-container-id-1 div.sk-estimator {font-family: monospace;background-color: #f0f8ff;border: 1px dotted black;border-radius: 0.25em;box-sizing: border-box;margin-bottom: 0.5em;}#sk-container-id-1 div.sk-estimator:hover {background-color: #d4ebff;}#sk-container-id-1 div.sk-parallel-item::after {content: \"\";width: 100%;border-bottom: 1px solid gray;flex-grow: 1;}#sk-container-id-1 div.sk-label:hover label.sk-toggleable__label {background-color: #d4ebff;}#sk-container-id-1 div.sk-serial::before {content: \"\";position: absolute;border-left: 1px solid gray;box-sizing: border-box;top: 0;bottom: 0;left: 50%;z-index: 0;}#sk-container-id-1 div.sk-serial {display: flex;flex-direction: column;align-items: center;background-color: white;padding-right: 0.2em;padding-left: 0.2em;position: relative;}#sk-container-id-1 div.sk-item {position: relative;z-index: 1;}#sk-container-id-1 div.sk-parallel {display: flex;align-items: stretch;justify-content: center;background-color: white;position: relative;}#sk-container-id-1 div.sk-item::before, #sk-container-id-1 div.sk-parallel-item::before {content: \"\";position: absolute;border-left: 1px solid gray;box-sizing: border-box;top: 0;bottom: 0;left: 50%;z-index: -1;}#sk-container-id-1 div.sk-parallel-item {display: flex;flex-direction: column;z-index: 1;position: relative;background-color: white;}#sk-container-id-1 div.sk-parallel-item:first-child::after {align-self: flex-end;width: 50%;}#sk-container-id-1 div.sk-parallel-item:last-child::after {align-self: flex-start;width: 50%;}#sk-container-id-1 div.sk-parallel-item:only-child::after {width: 0;}#sk-container-id-1 div.sk-dashed-wrapped {border: 1px dashed gray;margin: 0 0.4em 0.5em 0.4em;box-sizing: border-box;padding-bottom: 0.4em;background-color: white;}#sk-container-id-1 div.sk-label label {font-family: monospace;font-weight: bold;display: inline-block;line-height: 1.2em;}#sk-container-id-1 div.sk-label-container {text-align: center;}#sk-container-id-1 div.sk-container {/* jupyter's `normalize.less` sets `[hidden] { display: none; }` but bootstrap.min.css set `[hidden] { display: none !important; }` so we also need the `!important` here to be able to override the default hidden behavior on the sphinx rendered scikit-learn.org. See: https://github.com/scikit-learn/scikit-learn/issues/21755 */display: inline-block !important;position: relative;}#sk-container-id-1 div.sk-text-repr-fallback {display: none;}</style><div id=\"sk-container-id-1\" class=\"sk-top-container\"><div class=\"sk-text-repr-fallback\"><pre>LatentDirichletAllocation(n_components=20, random_state=42)</pre><b>In a Jupyter environment, please rerun this cell to show the HTML representation or trust the notebook. <br />On GitHub, the HTML representation is unable to render, please try loading this page with nbviewer.org.</b></div><div class=\"sk-container\" hidden><div class=\"sk-item\"><div class=\"sk-estimator sk-toggleable\"><input class=\"sk-toggleable__control sk-hidden--visually\" id=\"sk-estimator-id-1\" type=\"checkbox\" checked><label for=\"sk-estimator-id-1\" class=\"sk-toggleable__label sk-toggleable__label-arrow\">LatentDirichletAllocation</label><div class=\"sk-toggleable__content\"><pre>LatentDirichletAllocation(n_components=20, random_state=42)</pre></div></div></div></div></div>"
      ],
      "text/plain": [
       "LatentDirichletAllocation(n_components=20, random_state=42)"
      ]
     },
     "execution_count": 2,
     "metadata": {},
     "output_type": "execute_result"
    }
   ],
   "source": [
    "from sklearn.decomposition import LatentDirichletAllocation\n",
    "t = 20\n",
    "lda = LatentDirichletAllocation(n_components=t, \n",
    "                               learning_method='batch', random_state=42,\n",
    "                               max_iter = 10)\n",
    "\n",
    "lda.fit(vectorized_data)"
   ]
  },
  {
   "cell_type": "code",
   "execution_count": 3,
   "id": "5e18bcfc",
   "metadata": {
    "collapsed": true
   },
   "outputs": [
    {
     "data": {
      "text/plain": [
       "array([[0.05      , 0.05000001, 0.05000001, ..., 0.05      , 0.05      ,\n",
       "        0.05      ],\n",
       "       [0.05      , 0.05      , 0.05      , ..., 0.05      , 0.05      ,\n",
       "        0.05      ],\n",
       "       [0.05      , 0.05      , 0.05      , ..., 0.05      , 0.30041961,\n",
       "        0.05      ],\n",
       "       ...,\n",
       "       [0.05      , 0.05000001, 0.05000001, ..., 0.05      , 0.05      ,\n",
       "        0.05      ],\n",
       "       [0.05      , 0.05      , 0.05      , ..., 0.05      , 0.05      ,\n",
       "        0.05      ],\n",
       "       [0.05      , 0.05      , 0.05      , ..., 0.05      , 0.05      ,\n",
       "        0.39388581]])"
      ]
     },
     "execution_count": 3,
     "metadata": {},
     "output_type": "execute_result"
    }
   ],
   "source": [
    "# Obtaining the resulting topic-term rank\n",
    "lda.components_"
   ]
  },
  {
   "cell_type": "code",
   "execution_count": 6,
   "id": "cdb2d1c9",
   "metadata": {},
   "outputs": [
    {
     "name": "stdout",
     "output_type": "stream",
     "text": [
      "Topic 0: \n",
      "rle blood davidians private activity bureau tourist cookamunga kent ksand\n",
      "Topic 1: \n",
      "bissell swallow sex tribe lawrence jeremy penn liar pope walla\n",
      "Topic 2: \n",
      "detector batse salvation timer habitable punishable bottle denver chade meng\n",
      "Topic 3: \n",
      "suitable sect sean compassion xv davidians mcmains hernandez convenient ansi\n",
      "Topic 4: \n",
      "mr relates spec tatoos virile buffer nazi double instinctive act\n",
      "Topic 5: \n",
      "article like space know program file graphic wa university image\n",
      "Topic 6: \n",
      "people believe atheist god say article morality think moral wa\n",
      "Topic 7: \n",
      "middle cobb george ezekiel ureply nicholls tax greg illinois tossed\n",
      "Topic 8: \n",
      "petri temperature christmas served leftover truelove turkey cruel gas solid\n",
      "Topic 9: \n",
      "leigh langley film compaq orion cview mccreary magellan vax oliveira\n",
      "Topic 10: \n",
      "fast notre bob tektronix queen manhattan sank blew beauchaine bronx\n",
      "Topic 11: \n",
      "forming normal delaunay fermi sign redesign option accelerator sphere chimp\n",
      "Topic 12: \n",
      "burdett hussein bond gregory sold melbourne gulf buckeridge arm civilian\n",
      "Topic 13: \n",
      "beast neighbor andreas ryukoku committing fundies juda rounded anecdote radiosity\n",
      "Topic 14: \n",
      "detecting forum double curve awful phigs bezier split aspect newsgroup\n",
      "Topic 15: \n",
      "propulsion spacecraft project night orbital orbit satellite mission shuttle space\n",
      "Topic 16: \n",
      "just islamic say christian ha article jesus people god wa\n",
      "Topic 17: \n",
      "bitmap coreldraw scodal gehrels tape photoshop jupiter backing temporary comet\n",
      "Topic 18: \n",
      "oxygen banner mig centigram excitable nonexistence jose weak hausmann maddi\n",
      "Topic 19: \n",
      "frightened wisconsin scan gateway plot belt eau claire kuiper teflon\n"
     ]
    }
   ],
   "source": [
    "# Displaying the top 10 terms based on their rank\n",
    "terms = tfidf_vector.get_feature_names_out()\n",
    "\n",
    "for topic_index, topic in enumerate(lda.components_):\n",
    "    print(f\"Topic {topic_index}: \")\n",
    "    print(\" \".join([terms[i] for i in topic.argsort()[-10:]]))"
   ]
  },
  {
   "cell_type": "markdown",
   "id": "5ca6a976",
   "metadata": {},
   "source": [
    "* We can find that some of the topics are very well distinguishible from our categories, but others have a lot of noise. \n",
    "* The project in this chapter was about finding hidden similarity underneath newsgroups data, be it semantic groups, themes, or word clouds.\n"
   ]
  },
  {
   "cell_type": "code",
   "execution_count": null,
   "id": "ad89e16e",
   "metadata": {},
   "outputs": [],
   "source": []
  }
 ],
 "metadata": {
  "kernelspec": {
   "display_name": "Python 3 (ipykernel)",
   "language": "python",
   "name": "python3"
  },
  "language_info": {
   "codemirror_mode": {
    "name": "ipython",
    "version": 3
   },
   "file_extension": ".py",
   "mimetype": "text/x-python",
   "name": "python",
   "nbconvert_exporter": "python",
   "pygments_lexer": "ipython3",
   "version": "3.10.1"
  }
 },
 "nbformat": 4,
 "nbformat_minor": 5
}
