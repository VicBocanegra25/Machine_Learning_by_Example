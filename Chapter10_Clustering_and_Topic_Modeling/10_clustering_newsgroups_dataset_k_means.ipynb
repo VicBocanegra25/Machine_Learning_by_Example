{
 "cells": [
  {
   "cell_type": "markdown",
   "id": "57259a3b",
   "metadata": {},
   "source": [
    "# Clustering Newsgroups data using K-means\n",
    "* We'll use the Newsgroup dataset from scikit learn.\n",
    "* We will use all data from four categories, 'alt.atheism', 'talk.religion.misc', 'comp.graphics', and 'sci.space', as an example."
   ]
  },
  {
   "cell_type": "markdown",
   "id": "276b3a61",
   "metadata": {},
   "source": [
    "# Step 1: Loading and Preprocessing the data\n",
    "* We'll load the data and clean it up a bit with the preprocessing techniques we saw in the previous chapter (remove numbers, lemmatize the words, remove names)"
   ]
  },
  {
   "cell_type": "code",
   "execution_count": 1,
   "id": "0c31d76e",
   "metadata": {},
   "outputs": [],
   "source": [
    "from sklearn.datasets import fetch_20newsgroups\n",
    "from nltk.corpus import names\n",
    "from nltk.stem import WordNetLemmatizer\n",
    "\n",
    "# Defining our categories (the ones we'll use to fetch the data)\n",
    "categories = [\n",
    "    'alt.atheism',\n",
    "    'talk.religion.misc',\n",
    "    'comp.graphics',\n",
    "    'sci.space'\n",
    "]\n",
    "\n",
    "groups = fetch_20newsgroups(subset = 'all', categories=categories)\n",
    "\n",
    "# Getting our labels and label names\n",
    "labels = groups.target\n",
    "label_names = groups.target_names\n",
    "\n",
    "def is_letter_only(word):\n",
    "    for char in word:\n",
    "        if not char.isalpha():\n",
    "            return False\n",
    "        return True\n",
    "\n",
    "# Removing names and lemmatizing \n",
    "all_names = set(names.words())\n",
    "lemmatizer = WordNetLemmatizer()\n",
    "\n",
    "# An empty list to store our cleaned data\n",
    "data_cleaned = []\n",
    "\n",
    "for doc in groups.data:\n",
    "    doc = doc.lower()\n",
    "    doc_cleaned = \" \".join(lemmatizer.lemmatize(word) for word in doc.split() if word.isalpha() and word not in all_names)\n",
    "    data_cleaned.append(doc_cleaned)\n",
    "    "
   ]
  },
  {
   "cell_type": "code",
   "execution_count": 2,
   "id": "9e9e6b73",
   "metadata": {},
   "outputs": [],
   "source": [
    "# Converting the cleaned text data into count vectors\n",
    "from sklearn.feature_extraction.text import CountVectorizer\n",
    "count_vector = CountVectorizer(stop_words=\"english\", max_features = None, \n",
    "                              max_df = 0.5, min_df = 2)\n",
    "data = count_vector.fit_transform(data_cleaned)\n"
   ]
  },
  {
   "cell_type": "markdown",
   "id": "6f39b055",
   "metadata": {},
   "source": [
    "Note that we don't limit the max_features, but we set up max_df and min_df, which mean maximum and minimum document frequency. Document frequency of a word is measured by the fraction of documents (samples) in the dataset that contain this word. "
   ]
  },
  {
   "cell_type": "markdown",
   "id": "ee8d07f0",
   "metadata": {},
   "source": [
    "# Step 2: Clustering the data\n",
    "* We'll try clustering the data (cleaned) as is, however, we need to know that as of this moment, the tokens in data (the CountVector) is only considering term_frequency, which might give us incorrect results"
   ]
  },
  {
   "cell_type": "code",
   "execution_count": 3,
   "id": "31227212",
   "metadata": {},
   "outputs": [
    {
     "data": {
      "text/html": [
       "<style>#sk-container-id-1 {color: black;background-color: white;}#sk-container-id-1 pre{padding: 0;}#sk-container-id-1 div.sk-toggleable {background-color: white;}#sk-container-id-1 label.sk-toggleable__label {cursor: pointer;display: block;width: 100%;margin-bottom: 0;padding: 0.3em;box-sizing: border-box;text-align: center;}#sk-container-id-1 label.sk-toggleable__label-arrow:before {content: \"▸\";float: left;margin-right: 0.25em;color: #696969;}#sk-container-id-1 label.sk-toggleable__label-arrow:hover:before {color: black;}#sk-container-id-1 div.sk-estimator:hover label.sk-toggleable__label-arrow:before {color: black;}#sk-container-id-1 div.sk-toggleable__content {max-height: 0;max-width: 0;overflow: hidden;text-align: left;background-color: #f0f8ff;}#sk-container-id-1 div.sk-toggleable__content pre {margin: 0.2em;color: black;border-radius: 0.25em;background-color: #f0f8ff;}#sk-container-id-1 input.sk-toggleable__control:checked~div.sk-toggleable__content {max-height: 200px;max-width: 100%;overflow: auto;}#sk-container-id-1 input.sk-toggleable__control:checked~label.sk-toggleable__label-arrow:before {content: \"▾\";}#sk-container-id-1 div.sk-estimator input.sk-toggleable__control:checked~label.sk-toggleable__label {background-color: #d4ebff;}#sk-container-id-1 div.sk-label input.sk-toggleable__control:checked~label.sk-toggleable__label {background-color: #d4ebff;}#sk-container-id-1 input.sk-hidden--visually {border: 0;clip: rect(1px 1px 1px 1px);clip: rect(1px, 1px, 1px, 1px);height: 1px;margin: -1px;overflow: hidden;padding: 0;position: absolute;width: 1px;}#sk-container-id-1 div.sk-estimator {font-family: monospace;background-color: #f0f8ff;border: 1px dotted black;border-radius: 0.25em;box-sizing: border-box;margin-bottom: 0.5em;}#sk-container-id-1 div.sk-estimator:hover {background-color: #d4ebff;}#sk-container-id-1 div.sk-parallel-item::after {content: \"\";width: 100%;border-bottom: 1px solid gray;flex-grow: 1;}#sk-container-id-1 div.sk-label:hover label.sk-toggleable__label {background-color: #d4ebff;}#sk-container-id-1 div.sk-serial::before {content: \"\";position: absolute;border-left: 1px solid gray;box-sizing: border-box;top: 0;bottom: 0;left: 50%;z-index: 0;}#sk-container-id-1 div.sk-serial {display: flex;flex-direction: column;align-items: center;background-color: white;padding-right: 0.2em;padding-left: 0.2em;position: relative;}#sk-container-id-1 div.sk-item {position: relative;z-index: 1;}#sk-container-id-1 div.sk-parallel {display: flex;align-items: stretch;justify-content: center;background-color: white;position: relative;}#sk-container-id-1 div.sk-item::before, #sk-container-id-1 div.sk-parallel-item::before {content: \"\";position: absolute;border-left: 1px solid gray;box-sizing: border-box;top: 0;bottom: 0;left: 50%;z-index: -1;}#sk-container-id-1 div.sk-parallel-item {display: flex;flex-direction: column;z-index: 1;position: relative;background-color: white;}#sk-container-id-1 div.sk-parallel-item:first-child::after {align-self: flex-end;width: 50%;}#sk-container-id-1 div.sk-parallel-item:last-child::after {align-self: flex-start;width: 50%;}#sk-container-id-1 div.sk-parallel-item:only-child::after {width: 0;}#sk-container-id-1 div.sk-dashed-wrapped {border: 1px dashed gray;margin: 0 0.4em 0.5em 0.4em;box-sizing: border-box;padding-bottom: 0.4em;background-color: white;}#sk-container-id-1 div.sk-label label {font-family: monospace;font-weight: bold;display: inline-block;line-height: 1.2em;}#sk-container-id-1 div.sk-label-container {text-align: center;}#sk-container-id-1 div.sk-container {/* jupyter's `normalize.less` sets `[hidden] { display: none; }` but bootstrap.min.css set `[hidden] { display: none !important; }` so we also need the `!important` here to be able to override the default hidden behavior on the sphinx rendered scikit-learn.org. See: https://github.com/scikit-learn/scikit-learn/issues/21755 */display: inline-block !important;position: relative;}#sk-container-id-1 div.sk-text-repr-fallback {display: none;}</style><div id=\"sk-container-id-1\" class=\"sk-top-container\"><div class=\"sk-text-repr-fallback\"><pre>KMeans(n_clusters=4, n_init=&#x27;auto&#x27;, random_state=42)</pre><b>In a Jupyter environment, please rerun this cell to show the HTML representation or trust the notebook. <br />On GitHub, the HTML representation is unable to render, please try loading this page with nbviewer.org.</b></div><div class=\"sk-container\" hidden><div class=\"sk-item\"><div class=\"sk-estimator sk-toggleable\"><input class=\"sk-toggleable__control sk-hidden--visually\" id=\"sk-estimator-id-1\" type=\"checkbox\" checked><label for=\"sk-estimator-id-1\" class=\"sk-toggleable__label sk-toggleable__label-arrow\">KMeans</label><div class=\"sk-toggleable__content\"><pre>KMeans(n_clusters=4, n_init=&#x27;auto&#x27;, random_state=42)</pre></div></div></div></div></div>"
      ],
      "text/plain": [
       "KMeans(n_clusters=4, n_init='auto', random_state=42)"
      ]
     },
     "execution_count": 3,
     "metadata": {},
     "output_type": "execute_result"
    }
   ],
   "source": [
    "from sklearn.cluster import KMeans\n",
    "\n",
    "# Defining 4 clusters (we have indeed four categories)\n",
    "k = 4\n",
    "kmeans = KMeans(n_clusters=k, random_state = 42, n_init = 'auto')\n",
    "kmeans.fit(data)\n"
   ]
  },
  {
   "cell_type": "code",
   "execution_count": 4,
   "id": "a632ce3f",
   "metadata": {},
   "outputs": [
    {
     "name": "stdout",
     "output_type": "stream",
     "text": [
      "Counter({3: 3360, 0: 17, 1: 7, 2: 3})\n"
     ]
    }
   ],
   "source": [
    "# Checking the sizes of the resulting clusters. \n",
    "from collections import Counter\n",
    "\n",
    "# We're supposed to have 4 clusters, which our KMeans algorithm should have identified\n",
    "clusters = kmeans.labels_\n",
    "print(Counter(clusters))\n"
   ]
  },
  {
   "cell_type": "markdown",
   "id": "5b74a85b",
   "metadata": {},
   "source": [
    "* As suspected, our results are incorrect.  It turns out that our count-based features are not sufficiently representative. A better numerical representation for text data is the term frequency-inverse document frequency (tf-idf). Instead of simply using the token count, or the so-called term frequency (tf), it assigns each term frequency a weighting factor that is inversely proportional to the document frequency. \n",
    "$idf(t, D) = log\\frac{n_D}{1 + n_t}$\n",
    "* $n_D$ = Total number of documents.\n",
    "* $n_t$ is the number of documents containing the term t.\n",
    "* We add a 1 to avoid division by zero"
   ]
  },
  {
   "cell_type": "code",
   "execution_count": 5,
   "id": "b853585f",
   "metadata": {},
   "outputs": [
    {
     "name": "stdout",
     "output_type": "stream",
     "text": [
      "Counter({1: 1478, 2: 797, 0: 601, 3: 511})\n"
     ]
    }
   ],
   "source": [
    "# Using TFidfVectorizer instead of CountVectorizer\n",
    "from sklearn.feature_extraction.text import TfidfVectorizer\n",
    "\n",
    "tfidf_vector = TfidfVectorizer(stop_words = 'english', max_features = None,\n",
    "                              max_df=0.5, min_df = 2)\n",
    "\n",
    "# Fitting our model\n",
    "vectorized_data = tfidf_vector.fit_transform(data_cleaned)\n",
    "kmeans.fit(vectorized_data)\n",
    "\n",
    "clusters = kmeans.labels_\n",
    "print(Counter(clusters))"
   ]
  },
  {
   "cell_type": "markdown",
   "id": "8d636f19",
   "metadata": {},
   "source": [
    "* This time we got a much more balanced set of clusters"
   ]
  },
  {
   "cell_type": "code",
   "execution_count": 6,
   "id": "9588ae7e",
   "metadata": {},
   "outputs": [
    {
     "name": "stdout",
     "output_type": "stream",
     "text": [
      "cluster_0: 601 samples\n",
      "sci.space: 598 samples \n",
      "alt.atheism: 1 samples \n",
      "talk.religion.misc: 1 samples \n",
      "comp.graphics: 1 samples \n",
      "Top 10 terms: \n",
      " just orbit moon hst nasa mission launch wa shuttle space\n",
      "cluster_1: 1478 samples\n",
      "alt.atheism: 522 samples \n",
      "talk.religion.misc: 387 samples \n",
      "sci.space: 338 samples \n",
      "comp.graphics: 231 samples \n",
      "Top 10 terms: \n",
      " say people know like think ha just university wa article\n",
      "cluster_2: 797 samples\n",
      "comp.graphics: 740 samples \n",
      "sci.space: 49 samples \n",
      "talk.religion.misc: 5 samples \n",
      "alt.atheism: 3 samples \n",
      "Top 10 terms: \n",
      " computer need know looking thanks university program file graphic image\n",
      "cluster_3: 511 samples\n",
      "alt.atheism: 273 samples \n",
      "talk.religion.misc: 235 samples \n",
      "sci.space: 2 samples \n",
      "comp.graphics: 1 samples \n",
      "Top 10 terms: \n",
      " doe bible think believe say people christian jesus wa god\n"
     ]
    }
   ],
   "source": [
    "import numpy as np\n",
    "# Visualizing the clusters and the top 10 tf-idf terms representing each cluster\n",
    "# Create a dictionary called cluster_label. \n",
    "# The keys are cluster numbers, and the values are the labels of the data points that belong to that cluster.\n",
    "cluster_label = {i: labels[np.where(clusters == i)] for i in range(k)}\n",
    "\n",
    "# Get the names of the features (words) from the tf-idf vectorizer\n",
    "terms = tfidf_vector.get_feature_names_out()\n",
    "\n",
    "# Get the coordinates of the cluster centers from the trained KMeans model\n",
    "centroids = kmeans.cluster_centers_\n",
    "\n",
    "# Loop through each cluster and its corresponding list of label indices\n",
    "for cluster, index_list in cluster_label.items():\n",
    "    # Create a counter for the labels in this cluster\n",
    "    counter = Counter(cluster_label[cluster])\n",
    "    \n",
    "    # Print the number of samples in this cluster\n",
    "    print(f\"cluster_{cluster}: {len(index_list)} samples\")\n",
    "    \n",
    "    # For each label index and its count in this cluster, sorted by count in descending order\n",
    "    for label_index, count in sorted(counter.items(), key=lambda x: x[1], reverse = True):\n",
    "        # Print the label name and its count\n",
    "        print(f\"{label_names[label_index]}: {count} samples \")\n",
    "    \n",
    "    # Print the top 10 terms in this cluster, based on their tf-idf values\n",
    "    print(\"Top 10 terms: \")\n",
    "    for ind in centroids[cluster].argsort()[-10:]:\n",
    "        print(\" %s\" % terms[ind], end=\"\")\n",
    "    print()"
   ]
  },
  {
   "cell_type": "markdown",
   "id": "990680df",
   "metadata": {},
   "source": [
    "* Some of the insights obtained from clustering our documents like this: \n",
    "1. cluster_0 is obviously about space and includes almost all sci.space samples and related terms such as moon, nasa, launch, shuttle, and space\n",
    "2. cluster_1 is more of a generic topic\n",
    "3. cluster_2 is more about computer graphics and related terms, such as format, program, file, graphic, and image\n",
    "4. cluster_3 is an interesting one, which successfully brings together two overlapping topics, atheism and religion, with key terms including moral, morality, jesus, christian, and god"
   ]
  },
  {
   "cell_type": "markdown",
   "id": "3dcf0c3a",
   "metadata": {},
   "source": [
    "# Step 2: Trying the \"Elbow\" method to find the optimal k value"
   ]
  },
  {
   "cell_type": "code",
   "execution_count": 10,
   "id": "f3222ae2",
   "metadata": {
    "scrolled": true
   },
   "outputs": [
    {
     "name": "stdout",
     "output_type": "stream",
     "text": [
      "k = 1, SSE = 3325.7314297145113\n",
      "k = 2, SSE = 3305.8353672863814\n",
      "k = 3, SSE = 3291.4371181290608\n",
      "k = 4, SSE = 3279.4973721653237\n",
      "k = 5, SSE = 3268.7375478859517\n",
      "k = 6, SSE = 3262.104449429238\n",
      "k = 7, SSE = 3251.831874254017\n",
      "k = 8, SSE = 3246.6358570767507\n",
      "k = 9, SSE = 3237.7766440936107\n",
      "k = 10, SSE = 3231.9446334383433\n",
      "k = 11, SSE = 3224.8774560755055\n",
      "k = 12, SSE = 3217.822374352688\n",
      "k = 13, SSE = 3210.7724425068063\n",
      "k = 14, SSE = 3208.3400046228035\n",
      "k = 15, SSE = 3203.416629141201\n",
      "k = 16, SSE = 3191.189228560107\n",
      "k = 17, SSE = 3187.3453333317957\n",
      "k = 18, SSE = 3182.187084460528\n",
      "k = 19, SSE = 3176.7345567615007\n",
      "k = 20, SSE = 3166.938310344579\n"
     ]
    },
    {
     "data": {
      "image/png": "[encoded data removed]",
      "text/plain": [
       "<Figure size 1000x600 with 1 Axes>"
      ]
     },
     "metadata": {},
     "output_type": "display_data"
    }
   ],
   "source": [
    "import matplotlib.pyplot as plt\n",
    "# Defining our list of possible k values from 1 to 20\n",
    "k_list = list(range(1, 21))\n",
    "sse_list = [0] * len(k_list)\n",
    "\n",
    "# Iterate through the list of K values.\n",
    "for k_index, k in enumerate(k_list):\n",
    "    # Initialize the KMeans model. n_clusters is the number of clusters to form and the number of centroids to generate.\n",
    "    k_means = KMeans(n_clusters=k, random_state=42, n_init=10)\n",
    "    \n",
    "    # Fit the KMeans model to our data\n",
    "    k_means.fit(vectorized_data)\n",
    "    \n",
    "    # Print the SSE for this K value\n",
    "    print(f\"k = {k}, SSE = {k_means.inertia_}\")\n",
    "    \n",
    "    # Store the SSE for this K value in our list of SSEs\n",
    "    sse_list[k_index] = k_means.inertia_\n",
    "\n",
    "# Plot the results\n",
    "plt.figure(figsize=(10, 6))\n",
    "plt.plot(k_list, sse_list, 'bx-')\n",
    "plt.xlabel('Number of clusters (k)')\n",
    "plt.ylabel('Sum of squared errors (SSE)')\n",
    "plt.title('Elbow Method For Optimal k')\n",
    "plt.show()"
   ]
  },
  {
   "cell_type": "markdown",
   "id": "3c764d7c",
   "metadata": {},
   "source": [
    "Unfortunately, we didn't find the right amount of clusters using the 'elbow' method because there isn't really a defined 'drop' in the SSE. \n"
   ]
  }
 ],
 "metadata": {
  "kernelspec": {
   "display_name": "Python 3 (ipykernel)",
   "language": "python",
   "name": "python3"
  },
  "language_info": {
   "codemirror_mode": {
    "name": "ipython",
    "version": 3
   },
   "file_extension": ".py",
   "mimetype": "text/x-python",
   "name": "python",
   "nbconvert_exporter": "python",
   "pygments_lexer": "ipython3",
   "version": "3.10.1"
  }
 },
 "nbformat": 4,
 "nbformat_minor": 5
}
