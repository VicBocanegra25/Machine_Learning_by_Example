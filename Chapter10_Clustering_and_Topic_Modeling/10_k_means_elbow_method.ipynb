{
 "cells": [
  {
   "cell_type": "markdown",
   "id": "0666d66d",
   "metadata": {},
   "source": [
    "# Implementing K-means Clustering and finding the right value for K\n",
    "* We'll use the Iris dataset\n",
    "* We'll implement the so-called \"Elbow\" method to determine the right value for 'k'"
   ]
  },
  {
   "cell_type": "markdown",
   "id": "20ce88b6",
   "metadata": {},
   "source": [
    "# Step 1: Importing the data\n"
   ]
  },
  {
   "cell_type": "code",
   "execution_count": 7,
   "id": "265e774a",
   "metadata": {},
   "outputs": [],
   "source": [
    "from sklearn import datasets\n",
    "iris = datasets.load_iris()\n",
    "import numpy as np\n",
    "import matplotlib.pyplot as plt\n",
    "# All rows, only the last two columns(features)\n",
    "X = iris.data\n",
    "y = iris.target\n",
    "\n",
    "# Defining our list of possible k values from 1 to 8 \n",
    "k_list = list(range(1, 9))\n",
    "sse_list = [0] * len(k_list)"
   ]
  },
  {
   "cell_type": "markdown",
   "id": "47142b82",
   "metadata": {},
   "source": [
    "# Step 2: Preparing the model\n",
    "* We'll use the whole feature space and k ranges from 1 to 8\n",
    "* We'll train individual models and record the resulting SSE respectively"
   ]
  },
  {
   "cell_type": "code",
   "execution_count": 9,
   "id": "f47074dd",
   "metadata": {},
   "outputs": [
    {
     "name": "stdout",
     "output_type": "stream",
     "text": [
      "k = 1, SSE= 26.103076447039722\n",
      "k = 2, SSE= 16.469773740281195\n",
      "k = 3, SSE= 15.12160093100892\n",
      "k = 4, SSE= 15.05769253182257\n",
      "k = 5, SSE= 14.858930749063735\n",
      "k = 6, SSE= 14.883090350867239\n",
      "k = 7, SSE= 14.623462334402264\n",
      "k = 8, SSE= 15.860429276025512\n"
     ]
    }
   ],
   "source": [
    "from sklearn.cluster import KMeans\n",
    "\n",
    "# Iterate through the list of K values. \n",
    "for k_index, k in enumerate(k_list):\n",
    "    # Initialize the KMeans model. n_clusters is the number of clusters to form and the number of centroids to generate.\n",
    "    k_means = KMeans(n_clusters = k, random_state = 42, n_init = 'auto')\n",
    "    \n",
    "    # Fit the KMeans model to our data\n",
    "    k_means.fit(X)\n",
    "    \n",
    "    # Get the cluster labels for each data point\n",
    "    clusters = k_means.labels_\n",
    "    # Get the coordinates of the cluster centers\n",
    "    centroids = k_means.cluster_centers_\n",
    "    \n",
    "    # Initialize the SSE (sum of squared errors) \n",
    "    sse = 0\n",
    "    \n",
    "    # For each cluster\n",
    "    for i in range(k):\n",
    "        # Get the points in this cluster\n",
    "        cluster_i = np.where(clusters == i)\n",
    "        \n",
    "        # Calculate the distance of all points in this cluster to the centroid, square it, and add it to the SSE\n",
    "        sse += np.linalg.norm(X[cluster_i] - centroids[i])\n",
    "        \n",
    "    # Print the SSE for this K value\n",
    "    print(f\"k = {k}, SSE= {sse}\")\n",
    "    \n",
    "    # Store the SSE for this K value in our list of SSEs (We'll plot it later)\n",
    "    sse_list[k_index] = sse\n",
    "    \n",
    "    "
   ]
  },
  {
   "cell_type": "markdown",
   "id": "bfae1dfe",
   "metadata": {},
   "source": [
    "# Step 3: Visualizing the curve\n",
    "* We'll get an idea of how the SSE changes with the values of k"
   ]
  },
  {
   "cell_type": "code",
   "execution_count": 10,
   "id": "3da98197",
   "metadata": {},
   "outputs": [
    {
     "data": {
      "image/png": "[encoded data removed]",
      "text/plain": [
       "<Figure size 640x480 with 1 Axes>"
      ]
     },
     "metadata": {},
     "output_type": "display_data"
    }
   ],
   "source": [
    "plt.plot(k_list, sse_list)\n",
    "plt.show()"
   ]
  },
  {
   "cell_type": "markdown",
   "id": "85f0c04d",
   "metadata": {},
   "source": [
    "Apparently, the Elbow point is k=3, since the drop in SSE slows down dramatically right after 3. Hence, k=3is an optimal solution in this case."
   ]
  },
  {
   "cell_type": "code",
   "execution_count": null,
   "id": "34c8c99c",
   "metadata": {},
   "outputs": [],
   "source": []
  }
 ],
 "metadata": {
  "kernelspec": {
   "display_name": "Python 3 (ipykernel)",
   "language": "python",
   "name": "python3"
  },
  "language_info": {
   "codemirror_mode": {
    "name": "ipython",
    "version": 3
   },
   "file_extension": ".py",
   "mimetype": "text/x-python",
   "name": "python",
   "nbconvert_exporter": "python",
   "pygments_lexer": "ipython3",
   "version": "3.10.1"
  }
 },
 "nbformat": 4,
 "nbformat_minor": 5
}
