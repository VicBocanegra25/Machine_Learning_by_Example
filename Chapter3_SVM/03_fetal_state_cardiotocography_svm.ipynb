{
 "cells": [
  {
   "cell_type": "markdown",
   "source": [
    "# Fetal State Classification on Cardiotocography\n",
    "\n",
    "* This project helps classify CTGs into one of three fetal states: normal,\n",
    "suspect and pathologic.\n",
    "* The dataset was obtained from: https://archive.ics.uci.edu/ml/datasets/Cardiotocography\n",
    "* The dataset consists of measurements of fetal heart rate and uterine contraction as features, and the fetal state class code (1=normal, 2=suspect, 3=pathologic) as a label.\n",
    "* There are in total 2,126 samples with 23 features.\n",
    "\n",
    "## Techniques used:\n",
    "1. SVC classifier with RBF kernel (The instances and features ratio is not\n",
    "significantly larger).\n"
   ],
   "metadata": {
    "collapsed": false
   }
  },
  {
   "cell_type": "markdown",
   "source": [
    "# Step 1: Loading and analyzing the data"
   ],
   "metadata": {
    "collapsed": false
   }
  },
  {
   "cell_type": "code",
   "execution_count": 11,
   "outputs": [
    {
     "data": {
      "text/plain": "       FileName       Date      SegFile      b       e    LBE     LB   AC  \\\n0           NaN        NaT          NaN    NaN     NaN    NaN    NaN  NaN   \n1  Variab10.txt 1996-12-01  CTG0001.txt  240.0   357.0  120.0  120.0  0.0   \n2    Fmcs_1.txt 1996-05-03  CTG0002.txt    5.0   632.0  132.0  132.0  4.0   \n3    Fmcs_1.txt 1996-05-03  CTG0003.txt  177.0   779.0  133.0  133.0  2.0   \n4    Fmcs_1.txt 1996-05-03  CTG0004.txt  411.0  1192.0  134.0  134.0  2.0   \n\n    FM   UC  ...    C    D    E   AD   DE   LD   FS  SUSP  CLASS  NSP  \n0  NaN  NaN  ...  NaN  NaN  NaN  NaN  NaN  NaN  NaN   NaN    NaN  NaN  \n1  0.0  0.0  ...  0.0  0.0  0.0  0.0  0.0  0.0  1.0   0.0    9.0  2.0  \n2  0.0  4.0  ...  0.0  0.0  0.0  1.0  0.0  0.0  0.0   0.0    6.0  1.0  \n3  0.0  5.0  ...  0.0  0.0  0.0  1.0  0.0  0.0  0.0   0.0    6.0  1.0  \n4  0.0  6.0  ...  0.0  0.0  0.0  1.0  0.0  0.0  0.0   0.0    6.0  1.0  \n\n[5 rows x 40 columns]",
      "text/html": "<div>\n<style scoped>\n    .dataframe tbody tr th:only-of-type {\n        vertical-align: middle;\n    }\n\n    .dataframe tbody tr th {\n        vertical-align: top;\n    }\n\n    .dataframe thead th {\n        text-align: right;\n    }\n</style>\n<table border=\"1\" class=\"dataframe\">\n  <thead>\n    <tr style=\"text-align: right;\">\n      <th></th>\n      <th>FileName</th>\n      <th>Date</th>\n      <th>SegFile</th>\n      <th>b</th>\n      <th>e</th>\n      <th>LBE</th>\n      <th>LB</th>\n      <th>AC</th>\n      <th>FM</th>\n      <th>UC</th>\n      <th>...</th>\n      <th>C</th>\n      <th>D</th>\n      <th>E</th>\n      <th>AD</th>\n      <th>DE</th>\n      <th>LD</th>\n      <th>FS</th>\n      <th>SUSP</th>\n      <th>CLASS</th>\n      <th>NSP</th>\n    </tr>\n  </thead>\n  <tbody>\n    <tr>\n      <th>0</th>\n      <td>NaN</td>\n      <td>NaT</td>\n      <td>NaN</td>\n      <td>NaN</td>\n      <td>NaN</td>\n      <td>NaN</td>\n      <td>NaN</td>\n      <td>NaN</td>\n      <td>NaN</td>\n      <td>NaN</td>\n      <td>...</td>\n      <td>NaN</td>\n      <td>NaN</td>\n      <td>NaN</td>\n      <td>NaN</td>\n      <td>NaN</td>\n      <td>NaN</td>\n      <td>NaN</td>\n      <td>NaN</td>\n      <td>NaN</td>\n      <td>NaN</td>\n    </tr>\n    <tr>\n      <th>1</th>\n      <td>Variab10.txt</td>\n      <td>1996-12-01</td>\n      <td>CTG0001.txt</td>\n      <td>240.0</td>\n      <td>357.0</td>\n      <td>120.0</td>\n      <td>120.0</td>\n      <td>0.0</td>\n      <td>0.0</td>\n      <td>0.0</td>\n      <td>...</td>\n      <td>0.0</td>\n      <td>0.0</td>\n      <td>0.0</td>\n      <td>0.0</td>\n      <td>0.0</td>\n      <td>0.0</td>\n      <td>1.0</td>\n      <td>0.0</td>\n      <td>9.0</td>\n      <td>2.0</td>\n    </tr>\n    <tr>\n      <th>2</th>\n      <td>Fmcs_1.txt</td>\n      <td>1996-05-03</td>\n      <td>CTG0002.txt</td>\n      <td>5.0</td>\n      <td>632.0</td>\n      <td>132.0</td>\n      <td>132.0</td>\n      <td>4.0</td>\n      <td>0.0</td>\n      <td>4.0</td>\n      <td>...</td>\n      <td>0.0</td>\n      <td>0.0</td>\n      <td>0.0</td>\n      <td>1.0</td>\n      <td>0.0</td>\n      <td>0.0</td>\n      <td>0.0</td>\n      <td>0.0</td>\n      <td>6.0</td>\n      <td>1.0</td>\n    </tr>\n    <tr>\n      <th>3</th>\n      <td>Fmcs_1.txt</td>\n      <td>1996-05-03</td>\n      <td>CTG0003.txt</td>\n      <td>177.0</td>\n      <td>779.0</td>\n      <td>133.0</td>\n      <td>133.0</td>\n      <td>2.0</td>\n      <td>0.0</td>\n      <td>5.0</td>\n      <td>...</td>\n      <td>0.0</td>\n      <td>0.0</td>\n      <td>0.0</td>\n      <td>1.0</td>\n      <td>0.0</td>\n      <td>0.0</td>\n      <td>0.0</td>\n      <td>0.0</td>\n      <td>6.0</td>\n      <td>1.0</td>\n    </tr>\n    <tr>\n      <th>4</th>\n      <td>Fmcs_1.txt</td>\n      <td>1996-05-03</td>\n      <td>CTG0004.txt</td>\n      <td>411.0</td>\n      <td>1192.0</td>\n      <td>134.0</td>\n      <td>134.0</td>\n      <td>2.0</td>\n      <td>0.0</td>\n      <td>6.0</td>\n      <td>...</td>\n      <td>0.0</td>\n      <td>0.0</td>\n      <td>0.0</td>\n      <td>1.0</td>\n      <td>0.0</td>\n      <td>0.0</td>\n      <td>0.0</td>\n      <td>0.0</td>\n      <td>6.0</td>\n      <td>1.0</td>\n    </tr>\n  </tbody>\n</table>\n<p>5 rows × 40 columns</p>\n</div>"
     },
     "execution_count": 11,
     "metadata": {},
     "output_type": "execute_result"
    }
   ],
   "source": [
    "import pandas as pd\n",
    "# Getting the data located in the sheet named Raw Data\n",
    "df = pd.read_excel(\"./datasets/CTG.xls\", \"Raw Data\")\n",
    "df.head()"
   ],
   "metadata": {
    "collapsed": false
   }
  },
  {
   "cell_type": "code",
   "execution_count": 12,
   "outputs": [],
   "source": [
    "# We then take 2126 data samples and assign the feature set (from columns D\n",
    "# to AL) and the label set (Column AN)\n",
    "X = df.iloc[1:2126, 3:-2].values\n",
    "Y = df.iloc[1:2126, -1].values"
   ],
   "metadata": {
    "collapsed": false
   }
  },
  {
   "cell_type": "code",
   "execution_count": 14,
   "outputs": [
    {
     "name": "stdout",
     "output_type": "stream",
     "text": [
      "Counter({1.0: 1654, 2.0: 295, 3.0: 176})\n"
     ]
    }
   ],
   "source": [
    "from collections import Counter\n",
    "# Checking class proportions\n",
    "print(Counter(Y))"
   ],
   "metadata": {
    "collapsed": false
   }
  },
  {
   "cell_type": "markdown",
   "source": [
    "We conclude that this is an unbalanced set."
   ],
   "metadata": {
    "collapsed": false
   }
  },
  {
   "cell_type": "markdown",
   "source": [
    "# Step 2: Splitting into training and testing"
   ],
   "metadata": {
    "collapsed": false
   }
  },
  {
   "cell_type": "code",
   "execution_count": 15,
   "outputs": [],
   "source": [
    "from sklearn.model_selection import train_test_split\n",
    "X_train, X_test, Y_train, Y_test = train_test_split(X, Y, test_size = 0.2,\n",
    "                                                    random_state = 42)"
   ],
   "metadata": {
    "collapsed": false
   }
  },
  {
   "cell_type": "markdown",
   "source": [
    "# Step 3: Building the model\n",
    "* We'll start off with an SVC with RBF kernel and we'll use GridSearchCV to\n",
    "find the right parameters."
   ],
   "metadata": {
    "collapsed": false
   }
  },
  {
   "cell_type": "code",
   "execution_count": 24,
   "outputs": [
    {
     "name": "stdout",
     "output_type": "stream",
     "text": [
      "{'C': 1000000.0, 'gamma': 1e-07}\n",
      "0.968235294117647\n"
     ]
    }
   ],
   "source": [
    "from sklearn.svm import SVC\n",
    "from sklearn.model_selection import GridSearchCV\n",
    "\n",
    "svc = SVC(kernel = 'rbf', )\n",
    "parameters = {'C': (1, 10, 100, 1e3, 1e4, 1e5, 1e6),\n",
    "              'gamma': (1e-08, 1e-07, 1e-06, 1e-05, 1e-04)}\n",
    "grid_search = GridSearchCV(svc, parameters, n_jobs = -1, cv = 5)\n",
    "grid_search.fit(X_train, Y_train)\n",
    "\n",
    "print(grid_search.best_params_)\n",
    "print(grid_search.best_score_)\n"
   ],
   "metadata": {
    "collapsed": false
   }
  },
  {
   "cell_type": "markdown",
   "source": [
    "# Step 4: Predicting using the best model"
   ],
   "metadata": {
    "collapsed": false
   }
  },
  {
   "cell_type": "code",
   "execution_count": 25,
   "outputs": [
    {
     "name": "stdout",
     "output_type": "stream",
     "text": [
      "The accuracy is: 96.47%\n",
      "              precision    recall  f1-score   support\n",
      "\n",
      "         1.0       0.97      0.99      0.98       324\n",
      "         2.0       0.95      0.91      0.93        65\n",
      "         3.0       0.97      0.81      0.88        36\n",
      "\n",
      "    accuracy                           0.96       425\n",
      "   macro avg       0.96      0.90      0.93       425\n",
      "weighted avg       0.96      0.96      0.96       425\n",
      "\n"
     ]
    }
   ],
   "source": [
    "from sklearn.metrics import classification_report\n",
    "svc_best = grid_search.best_estimator_\n",
    "\n",
    "# Getting the accuracy\n",
    "accuracy = svc_best.score(X_test, Y_test)\n",
    "print(f\"The accuracy is: {accuracy*100:.2f}%\")\n",
    "# Predicting\n",
    "prediction = svc_best.predict(X_test)\n",
    "# Getting the classification report\n",
    "report = classification_report(Y_test, prediction)\n",
    "print(report)"
   ],
   "metadata": {
    "collapsed": false
   }
  },
  {
   "cell_type": "code",
   "execution_count": 25,
   "outputs": [],
   "source": [],
   "metadata": {
    "collapsed": false
   }
  },
  {
   "cell_type": "code",
   "execution_count": 21,
   "outputs": [],
   "source": [],
   "metadata": {
    "collapsed": false
   }
  }
 ],
 "metadata": {
  "kernelspec": {
   "display_name": "Python 3",
   "language": "python",
   "name": "python3"
  },
  "language_info": {
   "codemirror_mode": {
    "name": "ipython",
    "version": 2
   },
   "file_extension": ".py",
   "mimetype": "text/x-python",
   "name": "python",
   "nbconvert_exporter": "python",
   "pygments_lexer": "ipython2",
   "version": "2.7.6"
  }
 },
 "nbformat": 4,
 "nbformat_minor": 0
}
