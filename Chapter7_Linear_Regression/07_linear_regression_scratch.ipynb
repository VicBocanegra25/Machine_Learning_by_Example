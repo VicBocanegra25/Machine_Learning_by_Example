{
 "cells": [
  {
   "cell_type": "markdown",
   "source": [
    "# Linear Regression from scratch\n",
    "* We'll implement a linear regression model from scratch\n",
    "* It will use a defined learning rate and gradient descent to update the\n",
    "values on each iteration"
   ],
   "metadata": {
    "collapsed": false
   }
  },
  {
   "cell_type": "code",
   "execution_count": 1,
   "outputs": [],
   "source": [
    "import numpy as np\n",
    "import pandas as pd\n",
    "\n",
    "def compute_prediction(X, weights):\n",
    "    \"\"\"\n",
    "    Compute the prediction y_hat based on the current weights\n",
    "    @param X: dataframe, the features of our dataset\n",
    "    @param weights: float, a multiplier vector that tries to minimize the MSE\n",
    "     between the real target value and the predicted value\n",
    "    @return: float, the predictions based on our current weights\n",
    "    \"\"\"\n",
    "    # We use the dot product X.w\n",
    "    predictions = np.dot(X, weights)\n",
    "    return predictions\n",
    "\n",
    "def update_weights_gd(X_train, y_train, weights, learning_rate):\n",
    "    \"\"\"\n",
    "    The function updating the weight, w, with one step in a gradient descent\n",
    "    manner\n",
    "\n",
    "    @param X_train: dataframe: The training features\n",
    "    @param y_train: dataframe: The target values\n",
    "    @param weights: float, a multiplier vector that tries to minimize the MSE\n",
    "     between the real target value and the predicted value\n",
    "    @param learning_rate: The learning rate, usually very small, it will\n",
    "    provide a changing value for weights on each iteration\n",
    "    @return: updated weights\n",
    "    \"\"\"\n",
    "\n",
    "    # We call the function to compute the current predicted values\n",
    "    predictions = compute_prediction(X_train, weights)\n",
    "    # The derivate of our weights\n",
    "    weights_delta = np.dot(X_train.T, y_train - predictions)\n",
    "    # The number of training examples. The purpose of m in this code is to normalize the weight update step during gradient descent.\n",
    "    m = y_train.shape[0]\n",
    "    # Updating weights.\n",
    "    weights += learning_rate / float(m) * weights_delta\n",
    "    return weights\n",
    "\n",
    "def compute_cost(X, y, weights):\n",
    "    \"\"\"\n",
    "     the function that calculates the cost J(w)\n",
    "    @param X: dataframe: The feature vector X.\n",
    "    @param y: dataframe: The target values\n",
    "    @param weights: The current weights for our model.\n",
    "    @return: float: the cost (Mean Squared Error)\n",
    "    \"\"\"\n",
    "    # Predicting with the current weights\n",
    "    predictions = compute_prediction(X, weights)\n",
    "    # The cost is the mean squared error of the predicted values - the actual\n",
    "    # target value\n",
    "    cost = np.mean((predictions - y) ** 2 / 2.0)\n",
    "\n",
    "    return cost\n",
    "\n",
    "\n"
   ],
   "metadata": {
    "collapsed": false
   }
  },
  {
   "cell_type": "markdown",
   "source": [
    "## Step 2: Putting it all together in a main iterative function:\n",
    "Now, put all functions together with a model training function by performing the following tasks:\n",
    "\n",
    "Update the weight vector in each iteration\n",
    "Print out the current cost for every 100 (or it can be any number) iterations to ensure cost is decreasing and things are on the right track"
   ],
   "metadata": {
    "collapsed": false
   }
  },
  {
   "cell_type": "code",
   "execution_count": 2,
   "outputs": [],
   "source": [
    "def train_linear_regresion(X_train, y_train, max_iter, learning_rate,\n",
    "                           fit_interceot = False):\n",
    "    \"\"\"\n",
    "    Train a linear regression model with gradient descent, and return the\n",
    "    trained model\n",
    "    @param X_train: dataframe, the train feature vector\n",
    "    @param y_Train: dataframe, the train target values\n",
    "    @param max_iter: int, the maximum number of iterations, it's a stopping\n",
    "    condition\n",
    "    @param learning_rate: float, the learning change rate we'll use to update\n",
    "     the weights\n",
    "    @param fit_interceot: flaot, the initial bias (False by default)\n",
    "    @return: dataframe, weights: The updated final weights that we'll use to\n",
    "    make predictions\n",
    "    \"\"\"\n",
    "    if fit_interceot:\n",
    "        # If the bias exists, we need to add one more value to each sample\n",
    "        intercept = np.ones((X_train.shape[0], 1))\n",
    "        X_train = np.hstack((intercept, X_train))\n",
    "    # Our starting weights are initialized as 0s\n",
    "    weights = np.zeros(X_train.shape[1])\n",
    "\n",
    "    for iteration in range(max_iter):\n",
    "        weights = update_weights_gd(X_train, y_train, weights, learning_rate)\n",
    "        # Check out the cost for every 100 iterations\n",
    "        if iteration % 100 == 0:\n",
    "            print(f\"The current loss: {compute_cost(X_train, y_train, weights)}\")\n",
    "\n",
    "    return weights\n",
    "\n",
    "def predict(X, weights):\n",
    "    \"\"\"\n",
    "    predict the results of new input values using the trained model\n",
    "    @param X: dataframe: Features\n",
    "    @param weights: dataframe: current weights\n",
    "    @return: dataframe or array: Predicted values based on the model\n",
    "    \"\"\"\n",
    "    if X.shape[1] == weights.shape[0] - 1:\n",
    "        intercept = np.ones((X.shape[0], 1))\n",
    "        X = np.hstack((intercept, X))\n",
    "    return compute_prediction(X, weights)"
   ],
   "metadata": {
    "collapsed": false
   }
  },
  {
   "cell_type": "code",
   "execution_count": 3,
   "outputs": [
    {
     "name": "stdout",
     "output_type": "stream",
     "text": [
      "The current loss: 5.680896928000001\n",
      "The current loss: 0.07367346938775511\n",
      "The current loss: 0.07367346938775512\n",
      "The current loss: 0.07367346938775512\n",
      "The current loss: 0.07367346938775512\n",
      "The current loss: 0.07367346938775512\n",
      "The current loss: 0.07367346938775512\n",
      "The current loss: 0.07367346938775512\n",
      "The current loss: 0.07367346938775512\n",
      "The current loss: 0.07367346938775512\n"
     ]
    }
   ],
   "source": [
    "# Testing the functions:\n",
    "X_train = np.array([[6], [2], [3], [4], [1], [5], [2], [6], [4], [7]])\n",
    "y_train = np.array([5.5, 1.6, 2.2, 3.7, 0.8, 5.2, 1.5, 5.3, 4.4, 6.8])\n",
    "\n",
    "# Training a model with 1000 iterationons and a learning rate of 0.01\n",
    "weights = train_linear_regresion(X_train, y_train, max_iter = 1000,\n",
    "                                 learning_rate = 0.01)"
   ],
   "metadata": {
    "collapsed": false
   }
  },
  {
   "cell_type": "code",
   "execution_count": 4,
   "outputs": [
    {
     "data": {
      "text/plain": "<Figure size 640x480 with 1 Axes>",
      "image/png": "[encoded data removed]"
     },
     "metadata": {},
     "output_type": "display_data"
    }
   ],
   "source": [
    "# Checking the model's performance on new samples\n",
    "import matplotlib.pyplot as plt\n",
    "X_test = np.array([[1.3], [3.5], [5.2], [2.8]])\n",
    "predictions = predict(X_test, weights)\n",
    "\n",
    "# Plotting both the train values and the new predicted values\n",
    "plt.scatter(X_train[:, 0], y_train, marker = \"o\", c = \"b\")\n",
    "plt.scatter(X_test[:, 0], predictions, marker = \"*\", c = \"k\")\n",
    "\n",
    "plt.xlabel(\"x\")\n",
    "plt.ylabel(\"y\")\n",
    "\n",
    "plt.show()"
   ],
   "metadata": {
    "collapsed": false
   }
  },
  {
   "cell_type": "markdown",
   "source": [
    "## Step 3: Trying our model on the diabetes dataset from scikit-learn\n"
   ],
   "metadata": {
    "collapsed": false
   }
  },
  {
   "cell_type": "code",
   "execution_count": 5,
   "outputs": [
    {
     "name": "stdout",
     "output_type": "stream",
     "text": [
      "(442, 10)\n"
     ]
    }
   ],
   "source": [
    "# Importing the dataset\n",
    "from sklearn import datasets\n",
    "diabetes = datasets.load_diabetes()\n",
    "print(diabetes.data.shape)"
   ],
   "metadata": {
    "collapsed": false
   }
  },
  {
   "cell_type": "code",
   "execution_count": 6,
   "outputs": [],
   "source": [
    "# We'll only get 30 samples for testing\n",
    "test_samples = 30\n",
    "\n",
    "# Declaring the training data\n",
    "X_train_diabetes = diabetes.data[:-test_samples, :]\n",
    "y_train_diabetes = diabetes.target[:-test_samples]"
   ],
   "metadata": {
    "collapsed": false
   }
  },
  {
   "cell_type": "code",
   "execution_count": 7,
   "outputs": [
    {
     "name": "stdout",
     "output_type": "stream",
     "text": [
      "The current loss: 2960.123025607216\n",
      "The current loss: 1984.748663254882\n",
      "The current loss: 1729.7769635921989\n",
      "The current loss: 1627.6348119343263\n",
      "The current loss: 1572.763273052353\n",
      "The current loss: 1539.554802043756\n",
      "The current loss: 1518.6181097259152\n",
      "The current loss: 1505.1916919461312\n",
      "The current loss: 1496.4882691586809\n",
      "The current loss: 1490.7927148484966\n",
      "The current loss: 1487.0293572901583\n",
      "The current loss: 1484.516650020924\n",
      "The current loss: 1482.8194344074193\n",
      "The current loss: 1481.6579404201677\n",
      "The current loss: 1480.8510951067901\n",
      "The current loss: 1480.280921685538\n",
      "The current loss: 1479.870031213809\n",
      "The current loss: 1479.5673033510566\n",
      "The current loss: 1479.3387231207394\n",
      "The current loss: 1479.1614836837496\n",
      "The current loss: 1479.0201696937393\n",
      "The current loss: 1478.9042732451073\n",
      "The current loss: 1478.8065678119995\n",
      "The current loss: 1478.7220374658161\n",
      "The current loss: 1478.6471673310045\n",
      "The current loss: 1478.57947029736\n",
      "The current loss: 1478.5171691036435\n",
      "The current loss: 1478.4589811941237\n",
      "The current loss: 1478.4039719757411\n",
      "The current loss: 1478.3514538988786\n",
      "The current loss: 1478.3009164521106\n",
      "The current loss: 1478.251977168085\n",
      "The current loss: 1478.204347022648\n",
      "The current loss: 1478.1578057754248\n",
      "The current loss: 1478.1121842360594\n",
      "The current loss: 1478.0673513977845\n",
      "The current loss: 1478.0232050223478\n",
      "The current loss: 1477.9796646941397\n",
      "The current loss: 1477.9366666564356\n",
      "The current loss: 1477.8941599449038\n",
      "The current loss: 1477.8521034731898\n",
      "The current loss: 1477.8104638227055\n",
      "The current loss: 1477.7692135570749\n",
      "The current loss: 1477.728329930129\n",
      "The current loss: 1477.6877938909208\n",
      "The current loss: 1477.647589314213\n",
      "The current loss: 1477.6077024029762\n",
      "The current loss: 1477.5681212227464\n",
      "The current loss: 1477.5288353374858\n",
      "The current loss: 1477.4898355238697\n"
     ]
    }
   ],
   "source": [
    "# Train a linear regression model with 5000 iterations, at a learning rate of\n",
    "# 1\n",
    "weights = train_linear_regresion(X_train_diabetes, y_train_diabetes, max_iter\n",
    "= 5000, learning_rate = 1, fit_interceot = True)\n",
    "\n",
    "\n"
   ],
   "metadata": {
    "collapsed": false
   }
  },
  {
   "cell_type": "code",
   "execution_count": 14,
   "outputs": [
    {
     "name": "stdout",
     "output_type": "stream",
     "text": [
      "Our predicted values\n",
      ": [232.22192119 123.87532386 166.12297497 170.23855082 228.12523411\n",
      " 154.9570854  101.09011561  87.33479691 143.68827095 190.29424697\n",
      " 198.00696804 149.63068784 169.56215468 109.01832867 161.97943375\n",
      " 133.00757288 260.18431805 101.52516612 115.76691141 120.73229914\n",
      " 219.62761982  62.21080727 136.29855757 122.27895603  55.14532638\n",
      " 191.50289376 105.68864904 126.26137526 208.99754096  47.66481183]\n",
      "The real target values\n",
      ": [261. 113. 131. 174. 257.  55.  84.  42. 146. 212. 233.  91. 111. 152.\n",
      " 120.  67. 310.  94. 183.  66. 173.  72.  49.  64.  48. 178. 104. 132.\n",
      " 220.  57.]\n"
     ]
    }
   ],
   "source": [
    "# Making predictions:\n",
    "X_test_diabetes = diabetes.data[-test_samples:, :]\n",
    "y_test_diabetes = diabetes.target[-test_samples:]\n",
    "predictions  = predict(X_test_diabetes, weights)\n",
    "\n",
    "print(f\"Our predicted values\\n: {predictions}\")\n",
    "\n",
    "print(f\"The real target values\\n: {y_test_diabetes}\")"
   ],
   "metadata": {
    "collapsed": false
   }
  },
  {
   "cell_type": "code",
   "execution_count": null,
   "outputs": [],
   "source": [],
   "metadata": {
    "collapsed": false
   }
  }
 ],
 "metadata": {
  "kernelspec": {
   "display_name": "Python 3",
   "language": "python",
   "name": "python3"
  },
  "language_info": {
   "codemirror_mode": {
    "name": "ipython",
    "version": 2
   },
   "file_extension": ".py",
   "mimetype": "text/x-python",
   "name": "python",
   "nbconvert_exporter": "python",
   "pygments_lexer": "ipython2",
   "version": "2.7.6"
  }
 },
 "nbformat": 4,
 "nbformat_minor": 0
}
