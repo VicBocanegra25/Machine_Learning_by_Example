{
 "cells": [
  {
   "cell_type": "code",
   "execution_count": 62,
   "id": "bb059738",
   "metadata": {},
   "outputs": [
    {
     "name": "stdout",
     "output_type": "stream",
     "text": [
      "Checking value, counts: \n",
      "\n",
      "[0. 1. 2. 3. 4. 5.] [5832174    4602   13101   33183   35369   13211]\n",
      "Number of rating 0: 5832174\n",
      "Number of rating 1: 4602\n",
      "Number of rating 2: 13101\n",
      "Number of rating 3: 33183\n",
      "Number of rating 4: 35369\n",
      "Number of rating 5: 13211\n"
     ]
    }
   ],
   "source": [
    "\"\"\"Implementing a movie recommendation system using the Naive Bayes\n",
    "Algorithm.\n",
    "@date: 24/03/2023\n",
    "@author: Víctor Bocanegra\n",
    "\n",
    "The data we're working with was obtained from:\n",
    "https://grouplens.org/datasets/movielens/: ml-latest-small.zip (size: 1 MB)\n",
    "https://grouplens.org/datasets/movielens/1m/: MovieLens 1M Dataset\n",
    "\n",
    "\n",
    "\"\"\"\n",
    "\n",
    "import numpy as np\n",
    "import pandas as pd\n",
    "from collections import defaultdict\n",
    "\n",
    "# First attempt, very reduced dataset\n",
    "data_path = \"./datasets/ml-latest-small/ratings.csv\" \n",
    "# Second attempt, larger dataset\n",
    "data_path2 = \"./datasets/ml-1m/ratings.dat\"\n",
    "\n",
    "\n",
    "\n",
    "def count_unique_ids(data_path, _dat = False):\n",
    "\t\"\"\"\n",
    "\t@param data_path: data_path (str): The path to the CSV containing the data.\n",
    "\t@return: tuple: A tuple containing two integers, the first one representing\n",
    "\t\tthe count of unique user IDS and the second one representing the\n",
    "\t\tunique number of movieIds.\n",
    "\t\"\"\"\n",
    "\n",
    "\tif _dat is False:\n",
    "\t\t# Read the csv file\n",
    "\t\tdata = pd.read_csv(data_path)\n",
    "\n",
    "\t\t# Count the unique userIds and movieIds\n",
    "\t\tunique_user_ids = data['userId'].nunique()\n",
    "\t\tunique_movie_ids = data['movieId'].nunique()\n",
    "\n",
    "\n",
    "\t\treturn unique_user_ids, unique_movie_ids\n",
    "\n",
    "\n",
    "def load_rating_data(data_path, n_users, n_movies):\n",
    "\t\"\"\"\n",
    "\tLoad rating data from file and also return the number of ratings for each movie and movie_id index mapping.\n",
    "\t@param data_path: Path to the rating data file\n",
    "\t@param n_users: number of users\n",
    "\t@param n_movies: number of movies that have ratings\n",
    "\t@return: rating data in the numpy array of [user, movie];\n",
    "\t\t\tmovie_n_rating, {movie_id: number of ratings};\n",
    "\t\t\tmovie_id_mapping, {movie_id: column index in rating data}\n",
    "\t\"\"\"\n",
    "\tdata = np.zeros([n_users, n_movies], dtype = np.float32)\n",
    "\tmovie_id_mapping = {}\n",
    "\tmovie_n_rating = defaultdict(int)\n",
    "\twith open(data_path, 'r') as file:\n",
    "\t\tfor line in file.readlines()[1:]:\n",
    "\t\t\tuser_id, movie_id, rating, _ = line.split(\",\")\n",
    "\t\t\tuser_id = int(user_id) - 1\n",
    "\t\t\tif movie_id not in movie_id_mapping:\n",
    "\t\t\t\tmovie_id_mapping[movie_id] = len(movie_id_mapping)\n",
    "\t\t\trating = int(float(rating))\n",
    "\t\t\tdata[user_id, movie_id_mapping[movie_id]] = rating\n",
    "\t\t\tif rating > 0:\n",
    "\t\t\t\tmovie_n_rating[movie_id] += 1\n",
    "\treturn data, movie_n_rating, movie_id_mapping\n",
    "\n",
    "\n",
    "# Analyzing the data distribution\n",
    "def display_distribution(data):\n",
    "\tvalues, counts = np.unique(data, return_counts = True)\n",
    "\tprint(\"Checking value, counts: \\n\")\n",
    "\tprint(values, counts)\n",
    "\tfor value, count in zip(values, counts):\n",
    "\t\tprint(f\"Number of rating {int(value)}: {count}\")\n",
    "\n",
    "\n",
    "\n",
    "n_users, n_movies = count_unique_ids(data_path)\n",
    "data, movie_n_rating, movie_id_mapping = load_rating_data(data_path, n_users, n_movies)\n",
    "\n",
    "display_distribution(data)\n",
    "\n",
    "\n"
   ]
  },
  {
   "cell_type": "code",
   "execution_count": 63,
   "id": "3a805d8c",
   "metadata": {},
   "outputs": [
    {
     "name": "stdout",
     "output_type": "stream",
     "text": [
      "Movie ID: 356 has 328 ratings.\n"
     ]
    }
   ],
   "source": [
    "# We'll take the movie with the most known ratings as our target movie\n",
    "movie_id_most, n_rating_most = sorted(movie_n_rating.items(), key=lambda d: d[1], reverse=True)[0]\n",
    "print(f\"Movie ID: {movie_id_most} has {n_rating_most} ratings.\")"
   ]
  },
  {
   "cell_type": "markdown",
   "id": "79217d35",
   "metadata": {},
   "source": [
    "The movie 356 is the target movie and ratings of the rest of the movies are signals."
   ]
  },
  {
   "cell_type": "code",
   "execution_count": 64,
   "id": "83b36960",
   "metadata": {},
   "outputs": [],
   "source": [
    "# Constructing the dataset accordingly\n",
    "X_raw = np.delete(data, movie_id_mapping[movie_id_most], axis=1)\n",
    "Y_raw = data[:, movie_id_mapping[movie_id_most]]"
   ]
  },
  {
   "cell_type": "code",
   "execution_count": 65,
   "id": "04c323b2",
   "metadata": {},
   "outputs": [
    {
     "name": "stdout",
     "output_type": "stream",
     "text": [
      "Shape of X:  (328, 9723)\n",
      "Shape of Y: (328,)\n"
     ]
    }
   ],
   "source": [
    "# We discard samples without a rating in movie ID 356\n",
    "X = X_raw[Y_raw > 0]\n",
    "Y = Y_raw[Y_raw > 0]\n",
    "print(\"Shape of X: \", X.shape)\n",
    "print(\"Shape of Y:\", Y.shape)\n"
   ]
  },
  {
   "cell_type": "code",
   "execution_count": 66,
   "id": "6918dbc0",
   "metadata": {},
   "outputs": [
    {
     "name": "stdout",
     "output_type": "stream",
     "text": [
      "Checking value, counts: \n",
      "\n",
      "[1. 2. 3. 4. 5.] [  1  12  66 133 116]\n",
      "Number of rating 1: 1\n",
      "Number of rating 2: 12\n",
      "Number of rating 3: 66\n",
      "Number of rating 4: 133\n",
      "Number of rating 5: 116\n"
     ]
    }
   ],
   "source": [
    "# Looking at the distribution of the target movie ratings. \n",
    "display_distribution(Y)"
   ]
  },
  {
   "cell_type": "code",
   "execution_count": 67,
   "id": "48608f63",
   "metadata": {},
   "outputs": [
    {
     "name": "stdout",
     "output_type": "stream",
     "text": [
      "249 positive samples and 79 negative samples. \n"
     ]
    }
   ],
   "source": [
    "# We can consider movies with ratings greater than 3 as being liked (being recommended):\n",
    "recommend = 3\n",
    "Y[Y <= recommend] = 0\n",
    "Y[Y > recommend] = 1\n",
    "n_pos = (Y == 1).sum()\n",
    "n_neg = (Y == 0).sum()\n",
    "print(f\"{n_pos} positive samples and {n_neg} negative samples. \")"
   ]
  },
  {
   "cell_type": "code",
   "execution_count": 68,
   "id": "7643d768",
   "metadata": {},
   "outputs": [],
   "source": [
    "# Splitting the test data into training and testing set with scikit/learn\n",
    "from sklearn.model_selection import train_test_split\n",
    "# As a good practice, the random_state is set to a fixed state during training\n",
    "X_train, X_test, Y_train, Y_test = train_test_split(X, Y, test_size = 0.2, random_state = 42)\n"
   ]
  },
  {
   "cell_type": "code",
   "execution_count": 69,
   "id": "be3cd43b",
   "metadata": {},
   "outputs": [
    {
     "name": "stdout",
     "output_type": "stream",
     "text": [
      "262 66\n"
     ]
    }
   ],
   "source": [
    "# Checking the testing and training sets\n",
    "print(len(Y_train), len(Y_test))"
   ]
  },
  {
   "cell_type": "code",
   "execution_count": 70,
   "id": "cd8d5b57",
   "metadata": {},
   "outputs": [
    {
     "data": {
      "text/plain": "MultinomialNB()",
      "text/html": "<style>#sk-container-id-3 {color: black;background-color: white;}#sk-container-id-3 pre{padding: 0;}#sk-container-id-3 div.sk-toggleable {background-color: white;}#sk-container-id-3 label.sk-toggleable__label {cursor: pointer;display: block;width: 100%;margin-bottom: 0;padding: 0.3em;box-sizing: border-box;text-align: center;}#sk-container-id-3 label.sk-toggleable__label-arrow:before {content: \"▸\";float: left;margin-right: 0.25em;color: #696969;}#sk-container-id-3 label.sk-toggleable__label-arrow:hover:before {color: black;}#sk-container-id-3 div.sk-estimator:hover label.sk-toggleable__label-arrow:before {color: black;}#sk-container-id-3 div.sk-toggleable__content {max-height: 0;max-width: 0;overflow: hidden;text-align: left;background-color: #f0f8ff;}#sk-container-id-3 div.sk-toggleable__content pre {margin: 0.2em;color: black;border-radius: 0.25em;background-color: #f0f8ff;}#sk-container-id-3 input.sk-toggleable__control:checked~div.sk-toggleable__content {max-height: 200px;max-width: 100%;overflow: auto;}#sk-container-id-3 input.sk-toggleable__control:checked~label.sk-toggleable__label-arrow:before {content: \"▾\";}#sk-container-id-3 div.sk-estimator input.sk-toggleable__control:checked~label.sk-toggleable__label {background-color: #d4ebff;}#sk-container-id-3 div.sk-label input.sk-toggleable__control:checked~label.sk-toggleable__label {background-color: #d4ebff;}#sk-container-id-3 input.sk-hidden--visually {border: 0;clip: rect(1px 1px 1px 1px);clip: rect(1px, 1px, 1px, 1px);height: 1px;margin: -1px;overflow: hidden;padding: 0;position: absolute;width: 1px;}#sk-container-id-3 div.sk-estimator {font-family: monospace;background-color: #f0f8ff;border: 1px dotted black;border-radius: 0.25em;box-sizing: border-box;margin-bottom: 0.5em;}#sk-container-id-3 div.sk-estimator:hover {background-color: #d4ebff;}#sk-container-id-3 div.sk-parallel-item::after {content: \"\";width: 100%;border-bottom: 1px solid gray;flex-grow: 1;}#sk-container-id-3 div.sk-label:hover label.sk-toggleable__label {background-color: #d4ebff;}#sk-container-id-3 div.sk-serial::before {content: \"\";position: absolute;border-left: 1px solid gray;box-sizing: border-box;top: 0;bottom: 0;left: 50%;z-index: 0;}#sk-container-id-3 div.sk-serial {display: flex;flex-direction: column;align-items: center;background-color: white;padding-right: 0.2em;padding-left: 0.2em;position: relative;}#sk-container-id-3 div.sk-item {position: relative;z-index: 1;}#sk-container-id-3 div.sk-parallel {display: flex;align-items: stretch;justify-content: center;background-color: white;position: relative;}#sk-container-id-3 div.sk-item::before, #sk-container-id-3 div.sk-parallel-item::before {content: \"\";position: absolute;border-left: 1px solid gray;box-sizing: border-box;top: 0;bottom: 0;left: 50%;z-index: -1;}#sk-container-id-3 div.sk-parallel-item {display: flex;flex-direction: column;z-index: 1;position: relative;background-color: white;}#sk-container-id-3 div.sk-parallel-item:first-child::after {align-self: flex-end;width: 50%;}#sk-container-id-3 div.sk-parallel-item:last-child::after {align-self: flex-start;width: 50%;}#sk-container-id-3 div.sk-parallel-item:only-child::after {width: 0;}#sk-container-id-3 div.sk-dashed-wrapped {border: 1px dashed gray;margin: 0 0.4em 0.5em 0.4em;box-sizing: border-box;padding-bottom: 0.4em;background-color: white;}#sk-container-id-3 div.sk-label label {font-family: monospace;font-weight: bold;display: inline-block;line-height: 1.2em;}#sk-container-id-3 div.sk-label-container {text-align: center;}#sk-container-id-3 div.sk-container {/* jupyter's `normalize.less` sets `[hidden] { display: none; }` but bootstrap.min.css set `[hidden] { display: none !important; }` so we also need the `!important` here to be able to override the default hidden behavior on the sphinx rendered scikit-learn.org. See: https://github.com/scikit-learn/scikit-learn/issues/21755 */display: inline-block !important;position: relative;}#sk-container-id-3 div.sk-text-repr-fallback {display: none;}</style><div id=\"sk-container-id-3\" class=\"sk-top-container\"><div class=\"sk-text-repr-fallback\"><pre>MultinomialNB()</pre><b>In a Jupyter environment, please rerun this cell to show the HTML representation or trust the notebook. <br />On GitHub, the HTML representation is unable to render, please try loading this page with nbviewer.org.</b></div><div class=\"sk-container\" hidden><div class=\"sk-item\"><div class=\"sk-estimator sk-toggleable\"><input class=\"sk-toggleable__control sk-hidden--visually\" id=\"sk-estimator-id-3\" type=\"checkbox\" checked><label for=\"sk-estimator-id-3\" class=\"sk-toggleable__label sk-toggleable__label-arrow\">MultinomialNB</label><div class=\"sk-toggleable__content\"><pre>MultinomialNB()</pre></div></div></div></div></div>"
     },
     "execution_count": 70,
     "metadata": {},
     "output_type": "execute_result"
    }
   ],
   "source": [
    "# We're using MultinomialNB since we have input features from 0 to 5\n",
    "from sklearn.naive_bayes import MultinomialNB\n",
    "clf = MultinomialNB(alpha = 1.0, fit_prior=True)\n",
    "clf.fit(X_train, Y_train)"
   ]
  },
  {
   "cell_type": "code",
   "execution_count": 71,
   "id": "5e006369",
   "metadata": {},
   "outputs": [
    {
     "name": "stdout",
     "output_type": "stream",
     "text": [
      "[[5.90883584e-07 9.99999409e-01]\n",
      " [3.56680973e-10 1.00000000e+00]\n",
      " [1.18217609e-14 1.00000000e+00]\n",
      " [1.71056048e-18 1.00000000e+00]\n",
      " [1.19045802e-14 1.00000000e+00]\n",
      " [5.94207942e-24 1.00000000e+00]\n",
      " [5.29839752e-85 1.00000000e+00]\n",
      " [3.01733914e-61 1.00000000e+00]\n",
      " [8.74149339e-01 1.25850661e-01]\n",
      " [1.00000000e+00 1.12506774e-29]]\n"
     ]
    }
   ],
   "source": [
    "# Using the train model to make predictions on the testing set. \n",
    "prediction_prob = clf.predict_proba(X_test)\n",
    "print(prediction_prob[0:10])"
   ]
  },
  {
   "cell_type": "code",
   "execution_count": 72,
   "id": "5488957e",
   "metadata": {},
   "outputs": [
    {
     "name": "stdout",
     "output_type": "stream",
     "text": [
      "[1. 1. 1. 1. 1. 1. 1. 1. 0. 0.]\n"
     ]
    }
   ],
   "source": [
    "# And we now get the prediction class\n",
    "prediction = clf.predict(X_test)\n",
    "print(prediction[:10])"
   ]
  },
  {
   "cell_type": "code",
   "execution_count": 73,
   "id": "8ed2e0bb",
   "metadata": {},
   "outputs": [
    {
     "name": "stdout",
     "output_type": "stream",
     "text": [
      "The accuracy is: 69.7%\n"
     ]
    }
   ],
   "source": [
    "# We now evaluate the model's performance with classification accuracy, checking the proportion of correct predictions\n",
    "accuracy = clf.score(X_test, Y_test)\n",
    "print(f\"The accuracy is: {accuracy*100:.1f}%\")"
   ]
  },
  {
   "cell_type": "markdown",
   "id": "3348acee",
   "metadata": {},
   "source": [
    "# Evaluation metrics"
   ]
  },
  {
   "cell_type": "markdown",
   "id": "54d25659",
   "metadata": {},
   "source": [
    "## Confusion matrix, F1 score, Precision and Recall\n",
    "\n",
    "1. F1 score: Includes both precision and recall. Equates to their harmonic mean. $2*((precision * recall)/(precision + recall))$\n",
    "2. Precision: Positive calls that are correct $TP/(TP+FP)$\n",
    "3. Recall: True positives that are correctly identified $TP/(TP + FN)$"
   ]
  },
  {
   "cell_type": "code",
   "execution_count": 74,
   "id": "9734f937",
   "metadata": {
    "scrolled": true
   },
   "outputs": [
    {
     "name": "stdout",
     "output_type": "stream",
     "text": [
      "[[ 3 13]\n",
      " [ 7 43]]\n"
     ]
    }
   ],
   "source": [
    "# An implementation of the confusion matrix using scikit-learn\n",
    "from sklearn.metrics import confusion_matrix\n",
    "\n",
    "print(confusion_matrix(Y_test, prediction, labels=[0, 1]))"
   ]
  },
  {
   "cell_type": "code",
   "execution_count": 75,
   "id": "9796e4e5",
   "metadata": {},
   "outputs": [
    {
     "name": "stdout",
     "output_type": "stream",
     "text": [
      "0.8113207547169812\n"
     ]
    }
   ],
   "source": [
    "# Obtaining the F1 score, which is the result of multiplying 2*(precision * recall)/(precision + recall)\n",
    "from sklearn.metrics import precision_score, recall_score, f1_score\n",
    "\n",
    "f1 = f1_score(Y_test, prediction, pos_label = 1)\n",
    "print(f1)"
   ]
  },
  {
   "cell_type": "code",
   "execution_count": 76,
   "id": "5bc088c9",
   "metadata": {},
   "outputs": [
    {
     "name": "stdout",
     "output_type": "stream",
     "text": [
      "0.7678571428571429\n"
     ]
    }
   ],
   "source": [
    "# Getting the precision score, which is the result of dividing TP/(TP + FP)\n",
    "precision = precision_score(Y_test, prediction, pos_label = 1)\n",
    "print(precision)"
   ]
  },
  {
   "cell_type": "code",
   "execution_count": 77,
   "id": "90e936c7",
   "metadata": {},
   "outputs": [
    {
     "name": "stdout",
     "output_type": "stream",
     "text": [
      "0.86\n"
     ]
    }
   ],
   "source": [
    "# Now getting the recall, which is the result of calculating: TP/(TP + FN)\n",
    "recall = recall_score(Y_test, prediction, pos_label = 1)\n",
    "print(recall)"
   ]
  },
  {
   "cell_type": "markdown",
   "id": "d0acc471",
   "metadata": {},
   "source": [
    "## Calculating all metrics as a classification report"
   ]
  },
  {
   "cell_type": "code",
   "execution_count": 78,
   "outputs": [
    {
     "name": "stdout",
     "output_type": "stream",
     "text": [
      "              precision    recall  f1-score   support\n",
      "\n",
      "         0.0       0.30      0.19      0.23        16\n",
      "         1.0       0.77      0.86      0.81        50\n",
      "\n",
      "    accuracy                           0.70        66\n",
      "   macro avg       0.53      0.52      0.52        66\n",
      "weighted avg       0.65      0.70      0.67        66\n",
      "\n"
     ]
    }
   ],
   "source": [
    "from sklearn.metrics import classification_report\n",
    "report = classification_report(Y_test, prediction)\n",
    "print(report)"
   ],
   "metadata": {
    "collapsed": false
   }
  },
  {
   "cell_type": "markdown",
   "source": [
    "## ROC curves\n",
    "A plot of the true positive rate versus the false positive rate."
   ],
   "metadata": {
    "collapsed": false
   }
  },
  {
   "cell_type": "code",
   "execution_count": 79,
   "id": "414bd2a8",
   "metadata": {},
   "outputs": [],
   "source": [
    "# Preparing the data\n",
    "pos_prob = prediction_prob[:, 1]\n",
    "tresholds = np.arange(0.0, 1.1, 0.05)\n",
    "true_pos, false_pos = [0]*len(tresholds),[0]*len(tresholds)\n",
    "for pred, y in zip(pos_prob, Y_test):\n",
    "    for i, treshold in enumerate(tresholds):\n",
    "        if pred >= treshold: \n",
    "            # If truth and prediction are both 1\n",
    "            if y == 1:\n",
    "                true_pos[i] += 1\n",
    "            # If truth is 0 while prediction is 1\n",
    "            else:\n",
    "                false_pos[i] += 1\n",
    "        else:\n",
    "            break\n",
    "\n",
    "\n"
   ]
  },
  {
   "cell_type": "code",
   "execution_count": 80,
   "id": "e87f1ec4",
   "metadata": {},
   "outputs": [],
   "source": [
    "# Now calculating the true and false positive rates for all treshold settings\n",
    "n_pos_test = (Y_test == 1).sum()\n",
    "n_neg_test = (Y_test == 0).sum()\n",
    "true_pos_rate = [tp / n_pos_test for tp in true_pos]\n",
    "false_pos_rate = [fp / n_neg_test for fp in false_pos]"
   ]
  },
  {
   "cell_type": "code",
   "execution_count": 82,
   "outputs": [
    {
     "name": "stderr",
     "output_type": "stream",
     "text": [
      "No artists with labels found to put in legend.  Note that artists whose label start with an underscore are ignored when legend() is called with no argument.\n"
     ]
    },
    {
     "data": {
      "text/plain": "<Figure size 640x480 with 1 Axes>",
      "image/png": "[encoded data removed]"
     },
     "metadata": {},
     "output_type": "display_data"
    }
   ],
   "source": [
    "# Plotting the ROC curve with matplotlib\n",
    "import matplotlib.pyplot as plt\n",
    "plt.figure()\n",
    "lw = 2\n",
    "plt.plot(false_pos_rate, true_pos_rate, color = 'darkorange', lw=lw)\n",
    "plt.plot([0, 1], [0,1], color = 'navy', lw=lw, linestyle='--')\n",
    "\n",
    "plt.xlim([0.0, 1.0])\n",
    "plt.ylim([0.0, 1.05])\n",
    "plt.xlabel(\"False Positive Rate\")\n",
    "plt.ylabel(\"True Positive Rate\")\n",
    "plt.title(\"Receiver Operating Characteristic\")\n",
    "plt.legend(loc = 'lower right')\n",
    "plt.show()"
   ],
   "metadata": {
    "collapsed": false
   }
  },
  {
   "cell_type": "code",
   "execution_count": 83,
   "id": "4f50302e",
   "metadata": {},
   "outputs": [
    {
     "name": "stdout",
     "output_type": "stream",
     "text": [
      "0.520625\n"
     ]
    }
   ],
   "source": [
    "# Calculating the actual ROC of our model\n",
    "from sklearn.metrics import roc_auc_score\n",
    "roc_score = roc_auc_score(Y_test, pos_prob)\n",
    "print(roc_score)"
   ]
  },
  {
   "attachments": {},
   "cell_type": "markdown",
   "id": "c201ad5e",
   "metadata": {},
   "source": [
    "# Fine tunning with Cross Validation"
   ]
  },
  {
   "cell_type": "code",
   "execution_count": 84,
   "id": "89b6ac02",
   "metadata": {},
   "outputs": [],
   "source": [
    "# Using the split() method from StratifiedKfold to divide the data into chunks\n",
    "from sklearn.model_selection import StratifiedKFold\n",
    "k = 10 # We have very little samples, so we use a high value for kfolding\n",
    "k_fold = StratifiedKFold(n_splits=k, random_state = 42, shuffle=True)"
   ]
  },
  {
   "cell_type": "code",
   "execution_count": 85,
   "id": "69373013",
   "metadata": {},
   "outputs": [],
   "source": [
    "# Exploring with different alpha(smoothing) and fit_prior values (prior tailored to the training data)\n",
    "smoothing_factor_option = [1, 2, 3, 4, 5, 6]\n",
    "fit_prior_option = [True, False]\n",
    "auc_record = {}\n"
   ]
  },
  {
   "cell_type": "code",
   "execution_count": 86,
   "id": "8015ea3e",
   "metadata": {},
   "outputs": [],
   "source": [
    "# Using the classifier on each of the k_folds\n",
    "for train_indices, test_indices in k_fold.split(X, Y):\n",
    "    X_train, X_test = X[train_indices], X[test_indices]\n",
    "    Y_train, Y_test = Y[train_indices], Y[test_indices]\n",
    "    for alpha in smoothing_factor_option:\n",
    "        if alpha not in auc_record:\n",
    "            auc_record[alpha] = {}\n",
    "        for fit_prior in fit_prior_option:\n",
    "            clf = MultinomialNB(alpha=alpha, fit_prior = fit_prior)\n",
    "            clf.fit(X_train, Y_train)\n",
    "            prediction_prob = clf.predict_proba(X_test)\n",
    "            pos_prob = prediction_prob[:, 1]\n",
    "            auc = roc_auc_score(Y_test, pos_prob)\n",
    "            auc_record[alpha][fit_prior] = auc + auc_record[alpha].get(fit_prior, 0.0)"
   ]
  },
  {
   "cell_type": "code",
   "execution_count": 87,
   "id": "5808ae01",
   "metadata": {},
   "outputs": [
    {
     "name": "stdout",
     "output_type": "stream",
     "text": [
      "    1     True     0.57980\n",
      "    1     False     0.57397\n",
      "    2     True     0.57483\n",
      "    2     False     0.57358\n",
      "    3     True     0.58523\n",
      "    3     False     0.58223\n",
      "    4     True     0.57980\n",
      "    4     False     0.57623\n",
      "    5     True     0.57455\n",
      "    5     False     0.57455\n",
      "    6     True     0.55955\n",
      "    6     False     0.55805\n"
     ]
    }
   ],
   "source": [
    "# Presenting the results\n",
    "for smoothing, smoothing_record in auc_record.items():\n",
    "    for fit_prior, auc in smoothing_record.items():\n",
    "        print(f'    {smoothing}     {fit_prior}     {auc/k:.5f}')\n",
    "\n",
    "\n"
   ]
  },
  {
   "cell_type": "code",
   "execution_count": 88,
   "id": "25607d7a",
   "metadata": {},
   "outputs": [
    {
     "name": "stdout",
     "output_type": "stream",
     "text": [
      "AUC with the best model:  0.5208333333333333\n"
     ]
    }
   ],
   "source": [
    "# Retraining the model with the best set of hyperparameters (3, True, 0.58523)\n",
    "clf = MultinomialNB(alpha = 3.0, fit_prior= True)\n",
    "clf.fit(X_train, Y_train)\n",
    "pos_prob = clf.predict_proba(X_test)[:, 1]\n",
    "print(\"AUC with the best model: \", roc_auc_score(Y_test, pos_prob))"
   ]
  },
  {
   "cell_type": "code",
   "execution_count": 88,
   "id": "6f5bea2d",
   "metadata": {},
   "outputs": [],
   "source": []
  }
 ],
 "metadata": {
  "kernelspec": {
   "display_name": "Python 3 (ipykernel)",
   "language": "python",
   "name": "python3"
  },
  "language_info": {
   "codemirror_mode": {
    "name": "ipython",
    "version": 3
   },
   "file_extension": ".py",
   "mimetype": "text/x-python",
   "name": "python",
   "nbconvert_exporter": "python",
   "pygments_lexer": "ipython3",
   "version": "3.11.0"
  }
 },
 "nbformat": 4,
 "nbformat_minor": 5
}
