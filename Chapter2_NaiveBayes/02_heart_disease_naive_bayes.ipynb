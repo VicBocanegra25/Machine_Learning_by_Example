{
 "cells": [
  {
   "cell_type": "markdown",
   "source": [],
   "metadata": {
    "collapsed": false
   }
  },
  {
   "cell_type": "markdown",
   "source": [
    "# Heart Disease - Naive Bayes Classifier\n",
    "With the attributes described, can you predict if a patient has heart disease?\n",
    "\n",
    "There are 13 attributes\n",
    "\n",
    "age: age in years\n",
    "sex: sex (1 = male; 0 = female)\n",
    "cp: chest pain type\n",
    "-- Value 0: typical angina\n",
    "-- Value 1: atypical angina\n",
    "-- Value 2: non-anginal pain\n",
    "-- Value 3: asymptomatic\n",
    "trestbps: resting blood pressure (in mm Hg on admission to the hospital)\n",
    "chol: serum cholestoral in mg/dl\n",
    "fbs: (fasting blood sugar > 120 mg/dl) (1 = true; 0 = false)\n",
    "restecg: resting electrocardiographic results\n",
    "-- Value 0: normal\n",
    "-- Value 1: having ST-T wave abnormality (T wave inversions and/or ST elevation or depression of > 0.05 mV)\n",
    "-- Value 2: showing probable or definite left ventricular hypertrophy by Estes' criteria\n",
    "thalach: maximum heart rate achieved\n",
    "exang: exercise induced angina (1 = yes; 0 = no)\n",
    "oldpeak = ST depression induced by exercise relative to rest\n",
    "slope: the slope of the peak exercise ST segment\n",
    "-- Value 0: upsloping\n",
    "-- Value 1: flat\n",
    "-- Value 2: downsloping\n",
    "ca: number of major vessels (0-3) colored by flourosopy\n",
    "thal: 0 = normal; 1 = fixed defect; 2 = reversable defect\n",
    "and the label\n",
    "condition: 0 = no disease, 1 = disease\n",
    "\n",
    "\n",
    "Data obtained from: https://www.kaggle.com/datasets/cherngs/heart-disease-cleveland-uci?resource=download\n"
   ],
   "metadata": {
    "collapsed": false
   }
  },
  {
   "cell_type": "markdown",
   "source": [
    "## Step 1: Uploading the data and identifying features and labels"
   ],
   "metadata": {
    "collapsed": false
   }
  },
  {
   "cell_type": "code",
   "execution_count": 1,
   "outputs": [],
   "source": [
    "\n",
    "# Importing libraries\n",
    "import pandas as pd\n",
    "import matplotlib.pyplot as plt\n",
    "import numpy as np"
   ],
   "metadata": {
    "collapsed": false
   }
  },
  {
   "cell_type": "code",
   "execution_count": 2,
   "outputs": [
    {
     "data": {
      "text/plain": "     age  sex  cp  trestbps  chol  fbs  restecg  thalach  exang  oldpeak  \\\n0     69    1   0       160   234    1        2      131      0      0.1   \n1     69    0   0       140   239    0        0      151      0      1.8   \n2     66    0   0       150   226    0        0      114      0      2.6   \n3     65    1   0       138   282    1        2      174      0      1.4   \n4     64    1   0       110   211    0        2      144      1      1.8   \n..   ...  ...  ..       ...   ...  ...      ...      ...    ...      ...   \n292   40    1   3       152   223    0        0      181      0      0.0   \n293   39    1   3       118   219    0        0      140      0      1.2   \n294   35    1   3       120   198    0        0      130      1      1.6   \n295   35    0   3       138   183    0        0      182      0      1.4   \n296   35    1   3       126   282    0        2      156      1      0.0   \n\n     slope  ca  thal  condition  \n0        1   1     0          0  \n1        0   2     0          0  \n2        2   0     0          0  \n3        1   1     0          1  \n4        1   0     0          0  \n..     ...  ..   ...        ...  \n292      0   0     2          1  \n293      1   0     2          1  \n294      1   0     2          1  \n295      0   0     0          0  \n296      0   0     2          1  \n\n[297 rows x 14 columns]",
      "text/html": "<div>\n<style scoped>\n    .dataframe tbody tr th:only-of-type {\n        vertical-align: middle;\n    }\n\n    .dataframe tbody tr th {\n        vertical-align: top;\n    }\n\n    .dataframe thead th {\n        text-align: right;\n    }\n</style>\n<table border=\"1\" class=\"dataframe\">\n  <thead>\n    <tr style=\"text-align: right;\">\n      <th></th>\n      <th>age</th>\n      <th>sex</th>\n      <th>cp</th>\n      <th>trestbps</th>\n      <th>chol</th>\n      <th>fbs</th>\n      <th>restecg</th>\n      <th>thalach</th>\n      <th>exang</th>\n      <th>oldpeak</th>\n      <th>slope</th>\n      <th>ca</th>\n      <th>thal</th>\n      <th>condition</th>\n    </tr>\n  </thead>\n  <tbody>\n    <tr>\n      <th>0</th>\n      <td>69</td>\n      <td>1</td>\n      <td>0</td>\n      <td>160</td>\n      <td>234</td>\n      <td>1</td>\n      <td>2</td>\n      <td>131</td>\n      <td>0</td>\n      <td>0.1</td>\n      <td>1</td>\n      <td>1</td>\n      <td>0</td>\n      <td>0</td>\n    </tr>\n    <tr>\n      <th>1</th>\n      <td>69</td>\n      <td>0</td>\n      <td>0</td>\n      <td>140</td>\n      <td>239</td>\n      <td>0</td>\n      <td>0</td>\n      <td>151</td>\n      <td>0</td>\n      <td>1.8</td>\n      <td>0</td>\n      <td>2</td>\n      <td>0</td>\n      <td>0</td>\n    </tr>\n    <tr>\n      <th>2</th>\n      <td>66</td>\n      <td>0</td>\n      <td>0</td>\n      <td>150</td>\n      <td>226</td>\n      <td>0</td>\n      <td>0</td>\n      <td>114</td>\n      <td>0</td>\n      <td>2.6</td>\n      <td>2</td>\n      <td>0</td>\n      <td>0</td>\n      <td>0</td>\n    </tr>\n    <tr>\n      <th>3</th>\n      <td>65</td>\n      <td>1</td>\n      <td>0</td>\n      <td>138</td>\n      <td>282</td>\n      <td>1</td>\n      <td>2</td>\n      <td>174</td>\n      <td>0</td>\n      <td>1.4</td>\n      <td>1</td>\n      <td>1</td>\n      <td>0</td>\n      <td>1</td>\n    </tr>\n    <tr>\n      <th>4</th>\n      <td>64</td>\n      <td>1</td>\n      <td>0</td>\n      <td>110</td>\n      <td>211</td>\n      <td>0</td>\n      <td>2</td>\n      <td>144</td>\n      <td>1</td>\n      <td>1.8</td>\n      <td>1</td>\n      <td>0</td>\n      <td>0</td>\n      <td>0</td>\n    </tr>\n    <tr>\n      <th>...</th>\n      <td>...</td>\n      <td>...</td>\n      <td>...</td>\n      <td>...</td>\n      <td>...</td>\n      <td>...</td>\n      <td>...</td>\n      <td>...</td>\n      <td>...</td>\n      <td>...</td>\n      <td>...</td>\n      <td>...</td>\n      <td>...</td>\n      <td>...</td>\n    </tr>\n    <tr>\n      <th>292</th>\n      <td>40</td>\n      <td>1</td>\n      <td>3</td>\n      <td>152</td>\n      <td>223</td>\n      <td>0</td>\n      <td>0</td>\n      <td>181</td>\n      <td>0</td>\n      <td>0.0</td>\n      <td>0</td>\n      <td>0</td>\n      <td>2</td>\n      <td>1</td>\n    </tr>\n    <tr>\n      <th>293</th>\n      <td>39</td>\n      <td>1</td>\n      <td>3</td>\n      <td>118</td>\n      <td>219</td>\n      <td>0</td>\n      <td>0</td>\n      <td>140</td>\n      <td>0</td>\n      <td>1.2</td>\n      <td>1</td>\n      <td>0</td>\n      <td>2</td>\n      <td>1</td>\n    </tr>\n    <tr>\n      <th>294</th>\n      <td>35</td>\n      <td>1</td>\n      <td>3</td>\n      <td>120</td>\n      <td>198</td>\n      <td>0</td>\n      <td>0</td>\n      <td>130</td>\n      <td>1</td>\n      <td>1.6</td>\n      <td>1</td>\n      <td>0</td>\n      <td>2</td>\n      <td>1</td>\n    </tr>\n    <tr>\n      <th>295</th>\n      <td>35</td>\n      <td>0</td>\n      <td>3</td>\n      <td>138</td>\n      <td>183</td>\n      <td>0</td>\n      <td>0</td>\n      <td>182</td>\n      <td>0</td>\n      <td>1.4</td>\n      <td>0</td>\n      <td>0</td>\n      <td>0</td>\n      <td>0</td>\n    </tr>\n    <tr>\n      <th>296</th>\n      <td>35</td>\n      <td>1</td>\n      <td>3</td>\n      <td>126</td>\n      <td>282</td>\n      <td>0</td>\n      <td>2</td>\n      <td>156</td>\n      <td>1</td>\n      <td>0.0</td>\n      <td>0</td>\n      <td>0</td>\n      <td>2</td>\n      <td>1</td>\n    </tr>\n  </tbody>\n</table>\n<p>297 rows × 14 columns</p>\n</div>"
     },
     "execution_count": 2,
     "metadata": {},
     "output_type": "execute_result"
    }
   ],
   "source": [
    "# Uploading the dataset form the csv file\n",
    "data = pd.read_csv('./datasets/heart/heart_cleveland_upload.csv')\n",
    "# Our data is distributed in several columns.\n",
    "data\n"
   ],
   "metadata": {
    "collapsed": false
   }
  },
  {
   "cell_type": "code",
   "execution_count": 3,
   "outputs": [],
   "source": [
    "# We need to train a model that uses the Naive Bayes Classifier to predict\n",
    "# for the last column: condition. Therefore, let's split the data into\n",
    "# features and target label\n",
    "features = data.iloc[:,:-1]\n",
    "target = data.iloc[:,-1:]"
   ],
   "metadata": {
    "collapsed": false
   }
  },
  {
   "cell_type": "markdown",
   "source": [
    "## Step 2: Splitting the dataset into training and testing set"
   ],
   "metadata": {
    "collapsed": false
   }
  },
  {
   "cell_type": "code",
   "execution_count": 4,
   "outputs": [],
   "source": [
    "from sklearn.model_selection import train_test_split\n",
    "\n",
    "# Fixing the random_state at 42 and using an 80/20 ratio\n",
    "X_train, X_test, Y_train, Y_test = train_test_split(features, target,\n",
    "                                                    test_size = 0.2,\n",
    "                                                    random_state = 42)"
   ],
   "metadata": {
    "collapsed": false
   }
  },
  {
   "cell_type": "code",
   "execution_count": 5,
   "outputs": [
    {
     "name": "stdout",
     "output_type": "stream",
     "text": [
      "237 60\n"
     ]
    }
   ],
   "source": [
    "# Checking the testing and training sets sizes\n",
    "print(len(Y_train), len(Y_test))"
   ],
   "metadata": {
    "collapsed": false
   }
  },
  {
   "cell_type": "code",
   "execution_count": 6,
   "outputs": [
    {
     "data": {
      "text/plain": "pandas.core.frame.DataFrame"
     },
     "execution_count": 6,
     "metadata": {},
     "output_type": "execute_result"
    }
   ],
   "source": [
    "type(X_train)"
   ],
   "metadata": {
    "collapsed": false
   }
  },
  {
   "cell_type": "code",
   "execution_count": 7,
   "outputs": [
    {
     "data": {
      "text/plain": "MultinomialNB()",
      "text/html": "<style>#sk-container-id-1 {color: black;background-color: white;}#sk-container-id-1 pre{padding: 0;}#sk-container-id-1 div.sk-toggleable {background-color: white;}#sk-container-id-1 label.sk-toggleable__label {cursor: pointer;display: block;width: 100%;margin-bottom: 0;padding: 0.3em;box-sizing: border-box;text-align: center;}#sk-container-id-1 label.sk-toggleable__label-arrow:before {content: \"▸\";float: left;margin-right: 0.25em;color: #696969;}#sk-container-id-1 label.sk-toggleable__label-arrow:hover:before {color: black;}#sk-container-id-1 div.sk-estimator:hover label.sk-toggleable__label-arrow:before {color: black;}#sk-container-id-1 div.sk-toggleable__content {max-height: 0;max-width: 0;overflow: hidden;text-align: left;background-color: #f0f8ff;}#sk-container-id-1 div.sk-toggleable__content pre {margin: 0.2em;color: black;border-radius: 0.25em;background-color: #f0f8ff;}#sk-container-id-1 input.sk-toggleable__control:checked~div.sk-toggleable__content {max-height: 200px;max-width: 100%;overflow: auto;}#sk-container-id-1 input.sk-toggleable__control:checked~label.sk-toggleable__label-arrow:before {content: \"▾\";}#sk-container-id-1 div.sk-estimator input.sk-toggleable__control:checked~label.sk-toggleable__label {background-color: #d4ebff;}#sk-container-id-1 div.sk-label input.sk-toggleable__control:checked~label.sk-toggleable__label {background-color: #d4ebff;}#sk-container-id-1 input.sk-hidden--visually {border: 0;clip: rect(1px 1px 1px 1px);clip: rect(1px, 1px, 1px, 1px);height: 1px;margin: -1px;overflow: hidden;padding: 0;position: absolute;width: 1px;}#sk-container-id-1 div.sk-estimator {font-family: monospace;background-color: #f0f8ff;border: 1px dotted black;border-radius: 0.25em;box-sizing: border-box;margin-bottom: 0.5em;}#sk-container-id-1 div.sk-estimator:hover {background-color: #d4ebff;}#sk-container-id-1 div.sk-parallel-item::after {content: \"\";width: 100%;border-bottom: 1px solid gray;flex-grow: 1;}#sk-container-id-1 div.sk-label:hover label.sk-toggleable__label {background-color: #d4ebff;}#sk-container-id-1 div.sk-serial::before {content: \"\";position: absolute;border-left: 1px solid gray;box-sizing: border-box;top: 0;bottom: 0;left: 50%;z-index: 0;}#sk-container-id-1 div.sk-serial {display: flex;flex-direction: column;align-items: center;background-color: white;padding-right: 0.2em;padding-left: 0.2em;position: relative;}#sk-container-id-1 div.sk-item {position: relative;z-index: 1;}#sk-container-id-1 div.sk-parallel {display: flex;align-items: stretch;justify-content: center;background-color: white;position: relative;}#sk-container-id-1 div.sk-item::before, #sk-container-id-1 div.sk-parallel-item::before {content: \"\";position: absolute;border-left: 1px solid gray;box-sizing: border-box;top: 0;bottom: 0;left: 50%;z-index: -1;}#sk-container-id-1 div.sk-parallel-item {display: flex;flex-direction: column;z-index: 1;position: relative;background-color: white;}#sk-container-id-1 div.sk-parallel-item:first-child::after {align-self: flex-end;width: 50%;}#sk-container-id-1 div.sk-parallel-item:last-child::after {align-self: flex-start;width: 50%;}#sk-container-id-1 div.sk-parallel-item:only-child::after {width: 0;}#sk-container-id-1 div.sk-dashed-wrapped {border: 1px dashed gray;margin: 0 0.4em 0.5em 0.4em;box-sizing: border-box;padding-bottom: 0.4em;background-color: white;}#sk-container-id-1 div.sk-label label {font-family: monospace;font-weight: bold;display: inline-block;line-height: 1.2em;}#sk-container-id-1 div.sk-label-container {text-align: center;}#sk-container-id-1 div.sk-container {/* jupyter's `normalize.less` sets `[hidden] { display: none; }` but bootstrap.min.css set `[hidden] { display: none !important; }` so we also need the `!important` here to be able to override the default hidden behavior on the sphinx rendered scikit-learn.org. See: https://github.com/scikit-learn/scikit-learn/issues/21755 */display: inline-block !important;position: relative;}#sk-container-id-1 div.sk-text-repr-fallback {display: none;}</style><div id=\"sk-container-id-1\" class=\"sk-top-container\"><div class=\"sk-text-repr-fallback\"><pre>MultinomialNB()</pre><b>In a Jupyter environment, please rerun this cell to show the HTML representation or trust the notebook. <br />On GitHub, the HTML representation is unable to render, please try loading this page with nbviewer.org.</b></div><div class=\"sk-container\" hidden><div class=\"sk-item\"><div class=\"sk-estimator sk-toggleable\"><input class=\"sk-toggleable__control sk-hidden--visually\" id=\"sk-estimator-id-1\" type=\"checkbox\" checked><label for=\"sk-estimator-id-1\" class=\"sk-toggleable__label sk-toggleable__label-arrow\">MultinomialNB</label><div class=\"sk-toggleable__content\"><pre>MultinomialNB()</pre></div></div></div></div></div>"
     },
     "execution_count": 7,
     "metadata": {},
     "output_type": "execute_result"
    }
   ],
   "source": [
    "# Although we have only 2 predicted classes, we'll try the MultinomialNB\n",
    "from sklearn.naive_bayes import MultinomialNB\n",
    "\n",
    "# We'll start first with a\n",
    "# smoothing of 1 and we'll set the prior probability to true\n",
    "clf = MultinomialNB(alpha = 1.0, fit_prior = True)\n",
    "# np.ravel(Y_train), transforms the shape of the Y_train variable to match the\n",
    "# expected input format for the fit() method (2-dim to 1-dim)\n",
    "clf.fit(X_train, np.ravel(Y_train))"
   ],
   "metadata": {
    "collapsed": false
   }
  },
  {
   "cell_type": "markdown",
   "source": [
    "## Step 3: Performing predictions on the test dataset"
   ],
   "metadata": {
    "collapsed": false
   }
  },
  {
   "cell_type": "code",
   "execution_count": 8,
   "outputs": [
    {
     "name": "stdout",
     "output_type": "stream",
     "text": [
      "[[3.24375152e-02 9.67562485e-01]\n",
      " [9.30577932e-01 6.94220682e-02]\n",
      " [9.27196257e-01 7.28037430e-02]\n",
      " [9.99985164e-01 1.48364402e-05]\n",
      " [4.68518534e-01 5.31481466e-01]\n",
      " [5.54614647e-02 9.44538535e-01]\n",
      " [1.10026638e-06 9.99998900e-01]\n",
      " [3.70475128e-07 9.99999630e-01]\n",
      " [4.12944636e-04 9.99587055e-01]\n",
      " [9.99843005e-01 1.56994981e-04]]\n"
     ]
    }
   ],
   "source": [
    "prediction_prob = clf.predict_proba(X_test)\n",
    "print(prediction_prob[:10])"
   ],
   "metadata": {
    "collapsed": false
   }
  },
  {
   "cell_type": "code",
   "execution_count": 9,
   "outputs": [
    {
     "name": "stdout",
     "output_type": "stream",
     "text": [
      "[1 0 0 0 1 1 1 1 1 0]\n"
     ]
    }
   ],
   "source": [
    "prediction = clf.predict(X_test)\n",
    "print(prediction[:10])"
   ],
   "metadata": {
    "collapsed": false
   }
  },
  {
   "cell_type": "markdown",
   "source": [
    "## Step 4: Evaluating the model's accuracy, precision, recall and F1 score\n",
    "* We'll use both the individual methods and the confusion matrix"
   ],
   "metadata": {
    "collapsed": false
   }
  },
  {
   "cell_type": "code",
   "execution_count": 10,
   "outputs": [
    {
     "name": "stdout",
     "output_type": "stream",
     "text": [
      "[[19 13]\n",
      " [11 17]]\n",
      "The accuracy is: 60.0%\n",
      "Precision: 0.5666666666666667\n",
      "Recall: 0.6071428571428571\n"
     ]
    }
   ],
   "source": [
    "# Reviewing the Confusion matrix\n",
    "from sklearn.metrics import confusion_matrix\n",
    "from sklearn.metrics import precision_score, recall_score, f1_score\n",
    "\n",
    "print(confusion_matrix(Y_test, prediction, labels =[0, 1]))\n",
    "\n",
    "# Evaluating Accuracy:\n",
    "accuracy = clf.score(X_test, Y_test)\n",
    "print(f\"The accuracy is: {accuracy * 100:.1f}%\")\n",
    "\n",
    "# Evaluating Precision:\n",
    "precision = precision_score(Y_test, prediction, pos_label = 1)\n",
    "print(f\"Precision: {precision}\")\n",
    "\n",
    "# Evaluating Recall:\n",
    "recall = recall_score(Y_test, prediction, pos_label = 1)\n",
    "print(f\"Recall: {recall}\")\n",
    "\n",
    "# F1 score\n",
    "f1 = f1_score(Y_test, prediction, pos_label = 1)\n",
    "\n",
    "\n"
   ],
   "metadata": {
    "collapsed": false
   }
  },
  {
   "cell_type": "markdown",
   "source": [
    "## Getting all metrics as a classification report\n"
   ],
   "metadata": {
    "collapsed": false
   }
  },
  {
   "cell_type": "code",
   "execution_count": 11,
   "outputs": [
    {
     "name": "stdout",
     "output_type": "stream",
     "text": [
      "              precision    recall  f1-score   support\n",
      "\n",
      "           0       0.63      0.59      0.61        32\n",
      "           1       0.57      0.61      0.59        28\n",
      "\n",
      "    accuracy                           0.60        60\n",
      "   macro avg       0.60      0.60      0.60        60\n",
      "weighted avg       0.60      0.60      0.60        60\n",
      "\n"
     ]
    }
   ],
   "source": [
    "from sklearn.metrics import classification_report\n",
    "report = classification_report(Y_test, prediction)\n",
    "print(report)"
   ],
   "metadata": {
    "collapsed": false
   }
  },
  {
   "cell_type": "markdown",
   "source": [
    "## ROC Curves\n",
    "A plot of the true positive rate versus the false positive rate"
   ],
   "metadata": {
    "collapsed": false
   }
  },
  {
   "cell_type": "code",
   "execution_count": 12,
   "outputs": [],
   "source": [
    "# Preparing the data\n",
    "pos_prob = prediction_prob[:, 1]\n",
    "tresholds = np.arange(0.0, 1.1, 0.05)\n",
    "true_pos, false_pos = [0]*len(tresholds),[0]*len(tresholds)\n",
    "for pred, y in zip(pos_prob, Y_test):\n",
    "    for i, treshold in enumerate(tresholds):\n",
    "        if pred >= treshold:\n",
    "            # If truth and prediction are both 1\n",
    "            if y == 1:\n",
    "                true_pos[i] += 1\n",
    "            # If truth is 0 while prediction is 1\n",
    "            else:\n",
    "                false_pos[i] += 1\n",
    "        else:\n",
    "            break\n",
    "\n",
    "\n"
   ],
   "metadata": {
    "collapsed": false
   }
  },
  {
   "cell_type": "code",
   "execution_count": 13,
   "outputs": [],
   "source": [
    "# Now calculating the true and false positive rates for all treshold settings\n",
    "n_pos_test = (Y_test == 1).sum()\n",
    "n_neg_test = (Y_test == 0).sum()\n",
    "true_pos_rate = [tp / n_pos_test for tp in true_pos]\n",
    "false_pos_rate = [fp / n_neg_test for fp in false_pos]\n"
   ],
   "metadata": {
    "collapsed": false
   }
  },
  {
   "cell_type": "markdown",
   "source": [
    "**Important note: The manual calculation did not work (didn't plot the data.\n",
    "So we'll automate the calculation.**"
   ],
   "metadata": {
    "collapsed": false
   }
  },
  {
   "cell_type": "code",
   "execution_count": 14,
   "outputs": [],
   "source": [
    "from sklearn.metrics import roc_curve\n",
    "fpr, tpr, _ =roc_curve(Y_test, pos_prob)\n"
   ],
   "metadata": {
    "collapsed": false
   }
  },
  {
   "cell_type": "code",
   "execution_count": 15,
   "outputs": [
    {
     "data": {
      "text/plain": "<Figure size 640x480 with 1 Axes>",
      "image/png": "[encoded data removed]"
     },
     "metadata": {},
     "output_type": "display_data"
    }
   ],
   "source": [
    "# Plotting the ROC curve with matplotlib\n",
    "import matplotlib.pyplot as plt\n",
    "plt.figure()\n",
    "lw = 2\n",
    "plt.plot(fpr, tpr, color = 'darkorange', lw=lw)\n",
    "plt.plot([0, 1], [0,1], color = 'navy', lw=lw, linestyle='--')\n",
    "\n",
    "plt.xlim([0.0, 1.0])\n",
    "plt.ylim([0.0, 1.05])\n",
    "plt.xlabel(\"False Positive Rate\")\n",
    "plt.ylabel(\"True Positive Rate\")\n",
    "plt.title(\"Receiver Operating Characteristic\")\n",
    "plt.legend([\"ROC curve\", \"Random classifier\"], loc=\"lower right\")\n",
    "\n",
    "plt.show()"
   ],
   "metadata": {
    "collapsed": false
   }
  },
  {
   "cell_type": "code",
   "execution_count": 16,
   "outputs": [
    {
     "name": "stdout",
     "output_type": "stream",
     "text": [
      "ROC Score: 0.7399553571428571\n"
     ]
    }
   ],
   "source": [
    "# Now calculating the ROC of our model\n",
    "from sklearn.metrics import roc_auc_score\n",
    "\n",
    "roc_score = roc_auc_score(Y_test, pos_prob)\n",
    "print(f\"ROC Score: {roc_score}\")"
   ],
   "metadata": {
    "collapsed": false
   }
  },
  {
   "cell_type": "markdown",
   "source": [
    "## Step 5: Fine tunning with Cross-Validation"
   ],
   "metadata": {
    "collapsed": false
   }
  },
  {
   "cell_type": "code",
   "execution_count": 17,
   "outputs": [],
   "source": [
    "# Using the split() method from StratisfiedKfold to divide the data into chunks\n",
    "from sklearn.model_selection import StratifiedKFold\n",
    "\n",
    "k = 10\n",
    "k_fold = StratifiedKFold(n_splits = k, random_state = 42, shuffle = True)"
   ],
   "metadata": {
    "collapsed": false
   }
  },
  {
   "cell_type": "code",
   "execution_count": 18,
   "outputs": [],
   "source": [
    "# Exploring with different alpha (smoothing) and fit_prior values.\n",
    "smoothing_factor_option = [1, 2, 3, 4, 5, 6]\n",
    "fit_prior_option = [True, False]\n",
    "auc_record = {}\n"
   ],
   "metadata": {
    "collapsed": false
   }
  },
  {
   "cell_type": "code",
   "execution_count": 18,
   "outputs": [],
   "source": [],
   "metadata": {
    "collapsed": false
   }
  },
  {
   "cell_type": "code",
   "execution_count": 19,
   "outputs": [],
   "source": [
    "# Using the classifier on each of the k_folds\n",
    "for train_indices, test_indices in k_fold.split(features, target):\n",
    "    X_train, X_test = features.iloc[train_indices], features.iloc[test_indices]\n",
    "    Y_train, Y_test = target.iloc[train_indices], target.iloc[test_indices]\n",
    "    for alpha in smoothing_factor_option:\n",
    "        if alpha not in auc_record:\n",
    "            auc_record[alpha] = {}\n",
    "        for fit_prior in fit_prior_option:\n",
    "            clf = MultinomialNB(alpha=alpha, fit_prior = fit_prior)\n",
    "            clf.fit(X_train, np.ravel(Y_train))\n",
    "            prediction_prob = clf.predict_proba(X_test)\n",
    "            pos_prob = prediction_prob[:, 1]\n",
    "            auc = roc_auc_score(Y_test, pos_prob)\n",
    "            auc_record[alpha][fit_prior] = auc + auc_record[alpha].get(fit_prior, 0.0)"
   ],
   "metadata": {
    "collapsed": false
   }
  },
  {
   "cell_type": "code",
   "execution_count": 20,
   "outputs": [
    {
     "name": "stdout",
     "output_type": "stream",
     "text": [
      "    1     True     0.86212\n",
      "    1     False     0.86212\n",
      "    2     True     0.86212\n",
      "    2     False     0.86212\n",
      "    3     True     0.86116\n",
      "    3     False     0.86116\n",
      "    4     True     0.85883\n",
      "    4     False     0.85883\n",
      "    5     True     0.85927\n",
      "    5     False     0.85927\n",
      "    6     True     0.85786\n",
      "    6     False     0.85786\n"
     ]
    }
   ],
   "source": [
    "# Presenting the results\n",
    "for smoothing, smoothing_record in auc_record.items():\n",
    "    for fit_prior, auc in smoothing_record.items():\n",
    "        print(f'    {smoothing}     {fit_prior}     {auc/k:.5f}')\n"
   ],
   "metadata": {
    "collapsed": false
   }
  },
  {
   "cell_type": "code",
   "execution_count": 31,
   "outputs": [
    {
     "name": "stdout",
     "output_type": "stream",
     "text": [
      "AUC with the best model:  0.9126794258373205\n"
     ]
    }
   ],
   "source": [
    "# Retraining the model with the best set of hyperparameters (1, True,  0.86212)\n",
    "clf = MultinomialNB(alpha = 1, fit_prior = True)\n",
    "clf.fit(X_train, np.ravel(Y_train))\n",
    "prediction_multi_best = clf.predict(X_test)\n",
    "pos_prob = clf.predict_proba(X_test)[:, 1]\n",
    "print(\"AUC with the best model: \", roc_auc_score(Y_test, pos_prob))"
   ],
   "metadata": {
    "collapsed": false
   }
  },
  {
   "cell_type": "code",
   "execution_count": 32,
   "outputs": [
    {
     "data": {
      "text/plain": "<Figure size 640x480 with 1 Axes>",
      "image/png": "[encoded data removed]"
     },
     "metadata": {},
     "output_type": "display_data"
    }
   ],
   "source": [
    "# Now calculating the true and false positive rates for all treshold settings\n",
    "from sklearn.metrics import roc_curve\n",
    "fpr, tpr, _ =roc_curve(Y_test, pos_prob)\n",
    "\n",
    "# Plotting the ROC curve with matplotlib\n",
    "import matplotlib.pyplot as plt\n",
    "plt.figure()\n",
    "lw = 2\n",
    "plt.plot(fpr, tpr, color = 'darkorange', lw=lw)\n",
    "plt.plot([0, 1], [0,1], color = 'navy', lw=lw, linestyle='--')\n",
    "\n",
    "plt.xlim([0.0, 1.0])\n",
    "plt.ylim([0.0, 1.05])\n",
    "plt.xlabel(\"False Positive Rate\")\n",
    "plt.ylabel(\"True Positive Rate\")\n",
    "plt.title(\"Receiver Operating Characteristic\")\n",
    "plt.legend([\"ROC curve\", \"Random classifier\"], loc=\"lower right\")\n",
    "\n",
    "plt.show()"
   ],
   "metadata": {
    "collapsed": false
   }
  },
  {
   "cell_type": "code",
   "execution_count": 33,
   "outputs": [
    {
     "name": "stdout",
     "output_type": "stream",
     "text": [
      "              precision    recall  f1-score   support\n",
      "\n",
      "           0       0.61      0.91      0.73        22\n",
      "           1       0.93      0.66      0.77        38\n",
      "\n",
      "    accuracy                           0.75        60\n",
      "   macro avg       0.77      0.78      0.75        60\n",
      "weighted avg       0.81      0.75      0.75        60\n",
      "\n"
     ]
    }
   ],
   "source": [
    "report = classification_report(Y_test, prediction_multi_best)\n",
    "print(report)"
   ],
   "metadata": {
    "collapsed": false
   }
  },
  {
   "cell_type": "code",
   "execution_count": 34,
   "outputs": [
    {
     "data": {
      "text/plain": "array([[20,  2],\n       [13, 25]], dtype=int64)"
     },
     "execution_count": 34,
     "metadata": {},
     "output_type": "execute_result"
    }
   ],
   "source": [
    "confusion_matrix(Y_test, prediction_multi_best)"
   ],
   "metadata": {
    "collapsed": false
   }
  },
  {
   "cell_type": "markdown",
   "source": [
    "# Considering other NB models since the data is mostly continuous/categorical\n",
    "* It appears that several attributes are categorical. For example, cp,\n",
    "restecg, slope, and thal are categorical attributes with multiple categories.\n",
    "* Using one-hot encoding on these categorical attributes would be appropriate.\n",
    "\n"
   ],
   "metadata": {
    "collapsed": false
   }
  },
  {
   "cell_type": "code",
   "execution_count": 23,
   "outputs": [],
   "source": [
    "# Performing one-hot encoding on the categorical columns\n",
    "one_hot_encoded_data = pd.get_dummies(data, columns=['cp', 'restecg', 'slope', 'thal'])\n",
    "one_hot_encoded_data\n",
    "\n",
    "# Splitting the data\n",
    "features_gnb = one_hot_encoded_data.iloc[:,:-1]\n",
    "target_gnb = one_hot_encoded_data['condition']\n",
    "\n"
   ],
   "metadata": {
    "collapsed": false
   }
  },
  {
   "cell_type": "code",
   "execution_count": 24,
   "outputs": [],
   "source": [
    "# Retrying without one-hot encoding\n",
    "features_gnb = data.loc[:, data.columns!='condition']\n",
    "target_gnb = np.array(data['condition'])"
   ],
   "metadata": {
    "collapsed": false
   }
  },
  {
   "cell_type": "code",
   "execution_count": 25,
   "outputs": [],
   "source": [
    "# Fixing the random_state at 0 and using an 80/20 ratio\n",
    "X_train, X_test, Y_train, Y_test = train_test_split(features_gnb, target_gnb,\n",
    "                                                    test_size = 0.2,\n",
    "                                                    random_state = 0)"
   ],
   "metadata": {
    "collapsed": false
   }
  },
  {
   "cell_type": "code",
   "execution_count": 26,
   "outputs": [],
   "source": [
    "from sklearn.naive_bayes import GaussianNB\n",
    "\n",
    "gnb = GaussianNB()\n",
    "gnb.fit(X_train, np.ravel(Y_train))\n",
    "\n",
    "prediction_prob_gaussian = gnb.predict_proba(X_test)\n",
    "predict_gaussian = gnb.predict(X_test)"
   ],
   "metadata": {
    "collapsed": false
   }
  },
  {
   "cell_type": "code",
   "execution_count": 27,
   "outputs": [
    {
     "name": "stdout",
     "output_type": "stream",
     "text": [
      "              precision    recall  f1-score   support\n",
      "\n",
      "           0       0.63      0.59      0.61        32\n",
      "           1       0.57      0.61      0.59        28\n",
      "\n",
      "    accuracy                           0.60        60\n",
      "   macro avg       0.60      0.60      0.60        60\n",
      "weighted avg       0.60      0.60      0.60        60\n",
      "\n"
     ]
    }
   ],
   "source": [
    "report_gaussian = classification_report(Y_test, predict_gaussian)\n",
    "print(report)"
   ],
   "metadata": {
    "collapsed": false
   }
  },
  {
   "cell_type": "markdown",
   "source": [
    "## Fine tunning the GaussianNB"
   ],
   "metadata": {
    "collapsed": false
   }
  },
  {
   "cell_type": "code",
   "execution_count": 28,
   "outputs": [
    {
     "name": "stdout",
     "output_type": "stream",
     "text": [
      "Best parameters:  {'var_smoothing': 1e-10}\n",
      "Best accuracy:  0.8437943262411347\n"
     ]
    }
   ],
   "source": [
    "from sklearn.model_selection import GridSearchCV\n",
    "\n",
    "# Defining the parameter grid:\n",
    "param_grid = {'var_smoothing': np.logspace(-10, -8, num=50)}\n",
    "\n",
    "# Create a GridSearchCV object\n",
    "grid_search = GridSearchCV(gnb, param_grid, scoring='accuracy', cv=5)\n",
    "\n",
    "# Fit the GridSearchCV object to the training data\n",
    "grid_search.fit(X_train, Y_train)\n",
    "\n",
    "# Print the best parameters and the corresponding accuracy\n",
    "print(\"Best parameters: \", grid_search.best_params_)\n",
    "print(\"Best accuracy: \", grid_search.best_score_)"
   ],
   "metadata": {
    "collapsed": false
   }
  },
  {
   "cell_type": "code",
   "execution_count": 29,
   "outputs": [
    {
     "name": "stdout",
     "output_type": "stream",
     "text": [
      "              precision    recall  f1-score   support\n",
      "\n",
      "           0       0.70      0.95      0.81        22\n",
      "           1       0.97      0.76      0.85        38\n",
      "\n",
      "    accuracy                           0.83        60\n",
      "   macro avg       0.83      0.86      0.83        60\n",
      "weighted avg       0.87      0.83      0.84        60\n",
      "\n"
     ]
    }
   ],
   "source": [
    "from sklearn.naive_bayes import GaussianNB\n",
    "\n",
    "gnb = GaussianNB(var_smoothing =  1e-10)\n",
    "gnb.fit(X_train, np.ravel(Y_train))\n",
    "\n",
    "prediction_prob_gaussian = gnb.predict_proba(X_test)\n",
    "predict_gaussian = gnb.predict(X_test)\n",
    "\n",
    "report_gaussian = classification_report(Y_test, predict_gaussian)\n",
    "print(report_gaussian)"
   ],
   "metadata": {
    "collapsed": false
   }
  },
  {
   "cell_type": "code",
   "execution_count": 30,
   "outputs": [
    {
     "data": {
      "text/plain": "array([[21,  1],\n       [ 9, 29]], dtype=int64)"
     },
     "execution_count": 30,
     "metadata": {},
     "output_type": "execute_result"
    }
   ],
   "source": [
    "confusion_matrix(Y_test, predict_gaussian)"
   ],
   "metadata": {
    "collapsed": false
   }
  },
  {
   "cell_type": "code",
   "execution_count": 30,
   "outputs": [],
   "source": [],
   "metadata": {
    "collapsed": false
   }
  }
 ],
 "metadata": {
  "kernelspec": {
   "display_name": "Python 3",
   "language": "python",
   "name": "python3"
  },
  "language_info": {
   "codemirror_mode": {
    "name": "ipython",
    "version": 2
   },
   "file_extension": ".py",
   "mimetype": "text/x-python",
   "name": "python",
   "nbconvert_exporter": "python",
   "pygments_lexer": "ipython2",
   "version": "2.7.6"
  }
 },
 "nbformat": 4,
 "nbformat_minor": 0
}
