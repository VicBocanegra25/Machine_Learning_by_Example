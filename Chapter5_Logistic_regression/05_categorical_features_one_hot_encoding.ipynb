{
 "cells": [
  {
   "cell_type": "markdown",
   "source": [
    "# Categorical Features to Numerical - one-hot encoding and ordinal encoding\n",
    "* We'll shot a different method to transform categorical features to one-hot\n",
    "encoded values.\n",
    "* We'll show how to transform categorical to ordinal numerical features using\n",
    " pandas."
   ],
   "metadata": {
    "collapsed": false
   }
  },
  {
   "cell_type": "markdown",
   "source": [
    "## DictVectorizer from sklearn\n",
    "* Used for categorical values. We transform them into One-Hot Encoded.\n",
    "* This does not transform them into Ordinal Numerals (hierarchical)"
   ],
   "metadata": {
    "collapsed": false
   }
  },
  {
   "cell_type": "code",
   "execution_count": 7,
   "outputs": [
    {
     "name": "stdout",
     "output_type": "stream",
     "text": [
      "[[0. 0. 1. 1. 0. 0.]\n",
      " [1. 0. 0. 0. 0. 1.]\n",
      " [1. 0. 0. 1. 0. 0.]\n",
      " [0. 1. 0. 0. 0. 1.]\n",
      " [0. 0. 1. 0. 0. 1.]\n",
      " [0. 0. 1. 0. 1. 0.]\n",
      " [0. 1. 0. 1. 0. 0.]]\n"
     ]
    }
   ],
   "source": [
    "from sklearn.feature_extraction import DictVectorizer\n",
    "# We start by defining a dictionary of Interest and Occupation that we need\n",
    "# to transform to one-hot encoded vectors\n",
    "X_dict = [{'interest': 'tech', 'occupation': 'professional'},\n",
    "           {'interest': 'fashion', 'occupation': 'student'},\n",
    "           {'interest': 'fashion','occupation':'professional'},\n",
    "           {'interest': 'sports', 'occupation': 'student'},\n",
    "           {'interest': 'tech', 'occupation': 'student'},\n",
    "           {'interest': 'tech', 'occupation': 'retired'},\n",
    "           {'interest': 'sports','occupation': 'professional'}]\n",
    "\n",
    "# We create a DictVectorized model. Set the sparse matrix to false (We want\n",
    "# to see all of the values).\n",
    "dict_one_hot_encoder = DictVectorizer(sparse = False)\n",
    "\n",
    "# Encoding our dictionary\n",
    "X_encoded = dict_one_hot_encoder.fit_transform(X_dict)\n",
    "\n",
    "print(X_encoded)"
   ],
   "metadata": {
    "collapsed": false
   }
  },
  {
   "cell_type": "code",
   "execution_count": 8,
   "outputs": [
    {
     "name": "stdout",
     "output_type": "stream",
     "text": [
      "{'interest=tech': 2, 'occupation=professional': 3, 'interest=fashion': 0, 'occupation=student': 5, 'interest=sports': 1, 'occupation=retired': 4}\n"
     ]
    }
   ],
   "source": [
    "# We can also see the mapping by executing:\n",
    "# This shows us the indexes where we'll find the '1's\n",
    "print(dict_one_hot_encoder.vocabulary_)"
   ],
   "metadata": {
    "collapsed": false
   }
  },
  {
   "cell_type": "code",
   "execution_count": 9,
   "outputs": [
    {
     "name": "stdout",
     "output_type": "stream",
     "text": [
      "[[0. 1. 0. 0. 1. 0.]]\n"
     ]
    }
   ],
   "source": [
    "# Transforming new data:\n",
    "new_dict = [{'interest': 'sports', 'occupation': 'retired'}]\n",
    "new_encoded = dict_one_hot_encoder.transform(new_dict)\n",
    "print(new_encoded)\n"
   ],
   "metadata": {
    "collapsed": false
   }
  },
  {
   "cell_type": "markdown",
   "source": [
    "According to the vocabulary method, we can see that this new value is\n",
    "interested in sports (index 1) and is retired (index 4).\n"
   ],
   "metadata": {
    "collapsed": false
   }
  },
  {
   "cell_type": "code",
   "execution_count": 10,
   "outputs": [
    {
     "name": "stdout",
     "output_type": "stream",
     "text": [
      "[{'interest=sports': 1.0, 'occupation=retired': 1.0}]\n"
     ]
    }
   ],
   "source": [
    "# If we want to explicitly transform the encoded features back to the\n",
    "# original ones, we use inverse_transform\n",
    "print(dict_one_hot_encoder.inverse_transform(new_encoded))"
   ],
   "metadata": {
    "collapsed": false
   }
  },
  {
   "cell_type": "code",
   "execution_count": 11,
   "outputs": [
    {
     "name": "stdout",
     "output_type": "stream",
     "text": [
      "[[0. 0. 0. 0. 1. 0.]\n",
      " [0. 0. 1. 0. 0. 0.]]\n",
      "[{'occupation=retired': 1.0}, {'interest=tech': 1.0}]\n"
     ]
    }
   ],
   "source": [
    "# Showing what happens if we find categories that we did not encountered\n",
    "# during training:\n",
    "new_dict = [{'interest': 'unknown_interest', # Wasn't in the training set\n",
    "               'occupation': 'retired'},\n",
    "             {'interest': 'tech', 'occupation':\n",
    "               'unseen_occupation'}] # Wasn't in the training set\n",
    "\n",
    "new_encoded = dict_one_hot_encoder.transform(new_dict)\n",
    "print(new_encoded)\n",
    "print(dict_one_hot_encoder.inverse_transform(new_encoded))"
   ],
   "metadata": {
    "collapsed": false
   }
  },
  {
   "cell_type": "markdown",
   "source": [
    "Unlike the OneHotEncoder package, DictVector automatically handles unseen\n",
    "data and it ignores it."
   ],
   "metadata": {
    "collapsed": false
   }
  },
  {
   "cell_type": "markdown",
   "source": [
    "## Mapping Ordinal Categorical Values to Numeric Ordinals\n",
    "* We use pandas for this"
   ],
   "metadata": {
    "collapsed": false
   }
  },
  {
   "cell_type": "code",
   "execution_count": 12,
   "outputs": [
    {
     "name": "stdout",
     "output_type": "stream",
     "text": [
      "    score\n",
      "0     low\n",
      "1    high\n",
      "2  medium\n",
      "3  medium\n",
      "4     low\n"
     ]
    }
   ],
   "source": [
    "import pandas as pd\n",
    "# Define a dataframe that has scores in Strings\n",
    "df = pd.DataFrame({'score': ['low',\n",
    "                             'high',\n",
    "                             'medium',\n",
    "                             'medium',\n",
    "                             'low']})\n",
    "print(df)"
   ],
   "metadata": {
    "collapsed": false
   }
  },
  {
   "cell_type": "code",
   "execution_count": 14,
   "outputs": [
    {
     "name": "stdout",
     "output_type": "stream",
     "text": [
      "   score\n",
      "0      1\n",
      "1      3\n",
      "2      2\n",
      "3      2\n",
      "4      1\n"
     ]
    }
   ],
   "source": [
    "# We define a dictionary of mapping values\n",
    "mapping = {\"low\": 1, \"medium\": 2, \"high\": 3}\n",
    "\n",
    "# We use the replace method to change the categories for numerical values\n",
    "df['score'] = df['score'].replace(mapping)\n",
    "print(df)"
   ],
   "metadata": {
    "collapsed": false
   }
  },
  {
   "cell_type": "code",
   "execution_count": null,
   "outputs": [],
   "source": [],
   "metadata": {
    "collapsed": false,
    "pycharm": {
     "is_executing": true
    }
   }
  },
  {
   "cell_type": "code",
   "execution_count": 14,
   "outputs": [],
   "source": [],
   "metadata": {
    "collapsed": false
   }
  }
 ],
 "metadata": {
  "kernelspec": {
   "display_name": "Python 3",
   "language": "python",
   "name": "python3"
  },
  "language_info": {
   "codemirror_mode": {
    "name": "ipython",
    "version": 2
   },
   "file_extension": ".py",
   "mimetype": "text/x-python",
   "name": "python",
   "nbconvert_exporter": "python",
   "pygments_lexer": "ipython2",
   "version": "2.7.6"
  }
 },
 "nbformat": 4,
 "nbformat_minor": 0
}
