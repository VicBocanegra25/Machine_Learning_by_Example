{
 "cells": [
  {
   "cell_type": "markdown",
   "metadata": {},
   "source": [
    "# Logistic Regression using TensorFlow\n",
    "* We'll do the Click-Through Ad prediction, but this time we'll use TensorFlow."
   ]
  },
  {
   "cell_type": "markdown",
   "metadata": {},
   "source": [
    "## Step 1: Loading the data"
   ]
  },
  {
   "cell_type": "code",
   "execution_count": 1,
   "metadata": {
    "jupyter": {
     "outputs_hidden": false
    }
   },
   "outputs": [],
   "source": [
    "import tensorflow as tf\n",
    "import pandas as pd\n",
    "from tensorflow.keras.models import Sequential\n",
    "\n",
    "# Read the first 300,000 rows of the dataset\n",
    "n_rows = 300000\n",
    "df = pd.read_csv(\"./dataset/train.csv\", nrows=n_rows)\n",
    "\n",
    "# Drop unnecessary columns and prepare X and Y\n",
    "X = df.drop(['click', 'id', 'hour', 'device_id', 'device_ip'], axis=1).values\n",
    "Y = df['click'].values"
   ]
  },
  {
   "cell_type": "markdown",
   "metadata": {},
   "source": [
    "## Step 2: Transforming them to One-Hot Encoded data\n",
    "* We will only train the model using 270,000 samples, 30,000 will be for testing"
   ]
  },
  {
   "cell_type": "code",
   "execution_count": 2,
   "metadata": {
    "jupyter": {
     "outputs_hidden": false
    }
   },
   "outputs": [],
   "source": [
    "# Split the data into training and testing sets (90% - 10%)\n",
    "n_train = int(n_rows * 0.9)\n",
    "X_train = X[:n_train]\n",
    "Y_train = Y[:n_train].astype('float16')\n",
    "X_test = X[n_train:]\n",
    "Y_test = Y[n_train:].astype('float16')\n",
    "\n",
    "# One-hot encode the categorical features\n",
    "from sklearn.preprocessing import OneHotEncoder\n",
    "enc = OneHotEncoder(handle_unknown='ignore')\n",
    "X_train_enc = enc.fit_transform(X_train).toarray().astype('float16')\n",
    "X_test_enc = enc.transform(X_test).toarray().astype('float16')\n"
   ]
  },
  {
   "cell_type": "markdown",
   "metadata": {
    "tags": []
   },
   "source": [
    "# Step 3: Using the Sequential model from Keras\n",
    "\n",
    "* While Keras is mainly used for building neural networks, it can also be used to create a logistic regression model.\n",
    "* In this case, the logistic regression model can be seen as a simple one-layer neural network with a sigmoid activation function.\n",
    "* When we compile and train this model, it essentially learns the weights and bias of a logistic regression model.\n"
   ]
  },
  {
   "cell_type": "code",
   "execution_count": 3,
   "metadata": {
    "tags": []
   },
   "outputs": [],
   "source": [
    "# Define the logistic regression model using Keras\n",
    "# The Sequential model is a linear stack of layers in Keras, which is a popular deep learning library in Python.\n",
    "model = tf.keras.models.Sequential([\n",
    "    tf.keras.layers.Dense(1, activation='sigmoid', input_shape=(X_train_enc.shape[1],))\n",
    "])\n",
    "\n",
    "# Set up the learning rate and optimizer\n",
    "learning_rate = 0.001\n",
    "optimizer = tf.keras.optimizers.Adam(learning_rate = learning_rate)\n",
    "\n",
    "# Compile the model with binary cross entropy loss since it's a binary classification problem\n",
    "# Set the metric as the ROC_AUC\n",
    "model.compile(optimizer=optimizer, loss='binary_crossentropy', metrics=[tf.keras.metrics.AUC()])\n"
   ]
  },
  {
   "cell_type": "code",
   "execution_count": 4,
   "metadata": {
    "tags": []
   },
   "outputs": [
    {
     "name": "stdout",
     "output_type": "stream",
     "text": [
      "Epoch 1/12\n",
      "270/270 [==============================] - 3s 11ms/step - loss: 0.4710 - auc: 0.6118\n",
      "Epoch 2/12\n",
      "270/270 [==============================] - 4s 14ms/step - loss: 0.4152 - auc: 0.7267\n",
      "Epoch 3/12\n",
      "270/270 [==============================] - 3s 12ms/step - loss: 0.4093 - auc: 0.7361\n",
      "Epoch 4/12\n",
      "270/270 [==============================] - 3s 12ms/step - loss: 0.4061 - auc: 0.7410\n",
      "Epoch 5/12\n",
      "270/270 [==============================] - 3s 11ms/step - loss: 0.4039 - auc: 0.7446\n",
      "Epoch 6/12\n",
      "270/270 [==============================] - 3s 11ms/step - loss: 0.4023 - auc: 0.7472\n",
      "Epoch 7/12\n",
      "270/270 [==============================] - 3s 11ms/step - loss: 0.4009 - auc: 0.7496\n",
      "Epoch 8/12\n",
      "270/270 [==============================] - 3s 10ms/step - loss: 0.3998 - auc: 0.7515\n",
      "Epoch 9/12\n",
      "270/270 [==============================] - 3s 10ms/step - loss: 0.3989 - auc: 0.7530\n",
      "Epoch 10/12\n",
      "270/270 [==============================] - 3s 10ms/step - loss: 0.3981 - auc: 0.7544\n",
      "Epoch 11/12\n",
      "270/270 [==============================] - 3s 11ms/step - loss: 0.3973 - auc: 0.7556\n",
      "Epoch 12/12\n",
      "270/270 [==============================] - 3s 10ms/step - loss: 0.3967 - auc: 0.7567\n"
     ]
    },
    {
     "data": {
      "text/plain": [
       "<keras.callbacks.History at 0x1c8162e1760>"
      ]
     },
     "execution_count": 4,
     "metadata": {},
     "output_type": "execute_result"
    }
   ],
   "source": [
    "# Train the model with 1000 sample-batches\n",
    "batch_size = 1000\n",
    "epochs = 12\n",
    "model.fit(X_train_enc, Y_train, batch_size = batch_size, epochs = epochs, verbose = 1)\n",
    "\n"
   ]
  },
  {
   "cell_type": "markdown",
   "metadata": {},
   "source": [
    "## Final step: Making predictions and evaluating the model"
   ]
  },
  {
   "cell_type": "code",
   "execution_count": 5,
   "metadata": {},
   "outputs": [
    {
     "name": "stdout",
     "output_type": "stream",
     "text": [
      "AUC with 270,000 training samples oon testing set: 0.770\n"
     ]
    }
   ],
   "source": [
    "_, auc = model.evaluate(X_test_enc, Y_test, verbose = 0)\n",
    "print(f'AUC with 270,000 training samples oon testing set: {auc:.3f}')\n"
   ]
  },
  {
   "cell_type": "code",
   "execution_count": null,
   "metadata": {},
   "outputs": [],
   "source": []
  }
 ],
 "metadata": {
  "kernelspec": {
   "display_name": "Python 3 (ipykernel)",
   "language": "python",
   "name": "python3"
  },
  "language_info": {
   "codemirror_mode": {
    "name": "ipython",
    "version": 3
   },
   "file_extension": ".py",
   "mimetype": "text/x-python",
   "name": "python",
   "nbconvert_exporter": "python",
   "pygments_lexer": "ipython3",
   "version": "3.9.16"
  }
 },
 "nbformat": 4,
 "nbformat_minor": 4
}
