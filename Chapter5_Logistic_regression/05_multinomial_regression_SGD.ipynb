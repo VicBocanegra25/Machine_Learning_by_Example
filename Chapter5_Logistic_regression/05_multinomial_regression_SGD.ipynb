{
 "cells": [
  {
   "cell_type": "markdown",
   "source": [
    "# Multinomial Regression\n",
    "* It's handled the same way than Binary cases.\n",
    "* It provides the argmax of the probabilities for all cases.\n",
    "* It's also called Softmax Regression because of the function for the loss.\n",
    "* We'll use it to classify handwritten digits"
   ],
   "metadata": {
    "collapsed": false
   }
  },
  {
   "cell_type": "markdown",
   "source": [
    "## Step 1: Importing the dataset"
   ],
   "metadata": {
    "collapsed": false
   }
  },
  {
   "cell_type": "code",
   "execution_count": 4,
   "outputs": [
    {
     "data": {
      "text/plain": "array([0, 1, 2, 3, 4, 5, 6, 7, 8, 9])"
     },
     "execution_count": 4,
     "metadata": {},
     "output_type": "execute_result"
    }
   ],
   "source": [
    "from sklearn import datasets\n",
    "import numpy as np\n",
    "# Loading the dataset\n",
    "digits = datasets.load_digits()\n",
    "# Getting the number of samples\n",
    "n_samples = len(digits.images)\n",
    "\n",
    "# Flattening the images since they're 8*8 matrices\n",
    "X = digits.images.reshape((n_samples, -1))\n",
    "# Storing the target values (classes) 0 to 9\n",
    "y = digits.target\n",
    "np.unique(y)"
   ],
   "metadata": {
    "collapsed": false
   }
  },
  {
   "cell_type": "markdown",
   "source": [
    "## Step 2: Splitting the data\n"
   ],
   "metadata": {
    "collapsed": false
   }
  },
  {
   "cell_type": "code",
   "execution_count": 7,
   "outputs": [
    {
     "name": "stdout",
     "output_type": "stream",
     "text": [
      "(1437, 64) (360, 64)\n"
     ]
    }
   ],
   "source": [
    "from sklearn.model_selection import train_test_split\n",
    "X_train, X_test, y_train, y_test = train_test_split(X, y, test_size = 0.2,\n",
    "random_state = 42)\n",
    "\n",
    "# Getting the shape of our data: Arrays of 64 elements\n",
    "print(X_train.shape, X_test.shape)"
   ],
   "metadata": {
    "collapsed": false
   }
  },
  {
   "cell_type": "markdown",
   "source": [
    "## Step 3: Finding the optimal Multiclass Logistic Regression model with GridSearch and Cross-Validation\n",
    "* We'll teak some values (learning rate, penalty, alpha)"
   ],
   "metadata": {
    "collapsed": false
   }
  },
  {
   "cell_type": "code",
   "execution_count": 15,
   "outputs": [
    {
     "name": "stdout",
     "output_type": "stream",
     "text": [
      "{'alpha': 1e-05, 'eta0': 0.001, 'penalty': None}\n"
     ]
    }
   ],
   "source": [
    "from sklearn.model_selection import GridSearchCV\n",
    "from sklearn.linear_model import SGDClassifier\n",
    "parameters = {'penalty': ['l1', 'l2', None],\n",
    "              'alpha': [1e-07, 1e-06, 1e-05],\n",
    "              'eta0': [0.001, 0.01, 0.1, 1]}\n",
    "sgd_lr = SGDClassifier(loss = 'log_loss', learning_rate = 'constant',\n",
    "                       fit_intercept = True, max_iter = 100000)\n",
    "\n",
    "grid_search = GridSearchCV(sgd_lr, parameters, n_jobs = -1, cv = 3)\n",
    "\n",
    "grid_search.fit(X_train, y_train)\n",
    "print(grid_search.best_params_)"
   ],
   "metadata": {
    "collapsed": false
   }
  },
  {
   "cell_type": "markdown",
   "source": [
    "## Step 4: Predicting values and evaluating the model"
   ],
   "metadata": {
    "collapsed": false
   }
  },
  {
   "cell_type": "code",
   "execution_count": 22,
   "outputs": [
    {
     "name": "stdout",
     "output_type": "stream",
     "text": [
      "The accuracy on testing set is: 95.6%\n",
      "The ROC_AUC on testing set is: 99.8%\n",
      "[[33  0  0  0  0  0  0  0  0  0]\n",
      " [ 0 25  0  0  0  0  0  0  3  0]\n",
      " [ 0  0 32  0  0  0  0  0  1  0]\n",
      " [ 0  0  0 32  0  1  0  0  1  0]\n",
      " [ 0  0  0  0 46  0  0  0  0  0]\n",
      " [ 0  0  1  0  0 44  1  0  0  1]\n",
      " [ 0  0  0  0  0  1 34  0  0  0]\n",
      " [ 0  0  0  0  0  0  0 33  0  1]\n",
      " [ 0  0  0  0  0  0  0  0 30  0]\n",
      " [ 0  0  0  0  0  0  0  0  5 35]]\n",
      "              precision    recall  f1-score   support\n",
      "\n",
      "           0       1.00      1.00      1.00        33\n",
      "           1       1.00      0.89      0.94        28\n",
      "           2       0.97      0.97      0.97        33\n",
      "           3       1.00      0.94      0.97        34\n",
      "           4       1.00      1.00      1.00        46\n",
      "           5       0.96      0.94      0.95        47\n",
      "           6       0.97      0.97      0.97        35\n",
      "           7       1.00      0.97      0.99        34\n",
      "           8       0.75      1.00      0.86        30\n",
      "           9       0.95      0.88      0.91        40\n",
      "\n",
      "    accuracy                           0.96       360\n",
      "   macro avg       0.96      0.96      0.96       360\n",
      "weighted avg       0.96      0.96      0.96       360\n",
      "\n"
     ]
    }
   ],
   "source": [
    "from sklearn.metrics import roc_auc_score\n",
    "from sklearn.metrics import confusion_matrix\n",
    "from sklearn.metrics import classification_report\n",
    "\n",
    "# Predicting using the best model\n",
    "sgd_lr_best = grid_search.best_estimator_\n",
    "accuracy = sgd_lr_best.score(X_test, y_test)\n",
    "print(f'The accuracy on testing set is: {accuracy*100:.1f}%')\n",
    "\n",
    "# Getting the ROC_AUC\n",
    "predict_proba = sgd_lr_best.predict_proba(X_test)\n",
    "roc_auc = roc_auc_score(y_test, predict_proba, multi_class='ovo', average='macro')\n",
    "print(f'The ROC_AUC on testing set is: {roc_auc*100:.1f}%')\n",
    "\n",
    "# Getting the confusion matrix\n",
    "predict = sgd_lr_best.predict(X_test)\n",
    "print(confusion_matrix(y_test, predict))\n",
    "\n",
    "# Printing the report\n",
    "print(classification_report(y_test, predict))\n"
   ],
   "metadata": {
    "collapsed": false
   }
  },
  {
   "cell_type": "code",
   "execution_count": null,
   "outputs": [],
   "source": [],
   "metadata": {
    "collapsed": false
   }
  }
 ],
 "metadata": {
  "kernelspec": {
   "display_name": "Python 3",
   "language": "python",
   "name": "python3"
  },
  "language_info": {
   "codemirror_mode": {
    "name": "ipython",
    "version": 2
   },
   "file_extension": ".py",
   "mimetype": "text/x-python",
   "name": "python",
   "nbconvert_exporter": "python",
   "pygments_lexer": "ipython2",
   "version": "2.7.6"
  }
 },
 "nbformat": 4,
 "nbformat_minor": 0
}
